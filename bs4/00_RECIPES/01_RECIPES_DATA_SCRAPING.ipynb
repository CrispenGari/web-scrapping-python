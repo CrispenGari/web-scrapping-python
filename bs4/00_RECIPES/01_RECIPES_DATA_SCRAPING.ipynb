{
  "cells": [
    {
      "cell_type": "markdown",
      "source": [
        "### RECIPE DATA\n",
        "\n",
        "Getting recipe data on [bbcgoodfood](https://www.bbcgoodfood.com/)\n",
        "\n",
        "\n",
        "### Installation of Packages\n",
        "\n",
        "In the following code cell we are going to install and import the packages that we need to do datascraping."
      ],
      "metadata": {
        "id": "tJKEjZ8dzmML"
      }
    },
    {
      "cell_type": "code",
      "execution_count": 1,
      "metadata": {
        "id": "Mm9lo9pkmEZr"
      },
      "outputs": [],
      "source": [
        "!pip install beautifulsoup4 requests -q"
      ]
    },
    {
      "cell_type": "code",
      "execution_count": 2,
      "metadata": {
        "id": "CGFRGjtmmEWO"
      },
      "outputs": [],
      "source": [
        "import requests\n",
        "from bs4 import BeautifulSoup as bs"
      ]
    },
    {
      "cell_type": "markdown",
      "source": [
        "Difining the base url to the website."
      ],
      "metadata": {
        "id": "whewdbQy0MhB"
      }
    },
    {
      "cell_type": "code",
      "execution_count": 3,
      "metadata": {
        "id": "zddIcAAQmEUl"
      },
      "outputs": [],
      "source": [
        "base_url = \"https://www.bbcgoodfood.com\"\n"
      ]
    },
    {
      "cell_type": "markdown",
      "source": [
        "Getting the `data_urls` for all the recipes that we are intrested in."
      ],
      "metadata": {
        "id": "sCziepg20Zqi"
      }
    },
    {
      "cell_type": "code",
      "execution_count": 4,
      "metadata": {
        "id": "6w0Qwt1JFLpw"
      },
      "outputs": [],
      "source": [
        "data_urls = {\n",
        "    \"recipes\" : {\n",
        "      'Lunch recipes': {\n",
        "            'Quick lunch recipes':'https://www.bbcgoodfood.com/recipes/collection/quick-lunch-recipes',\n",
        "            'Healthy lunch recipes': 'https://www.bbcgoodfood.com/recipes/collection/healthy-lunch-recipes',\n",
        "            'Family lunch recipes': 'https://www.bbcgoodfood.com/recipes/collection/family-lunch-recipes',\n",
        "            'Healthy packed lunches':'https://www.bbcgoodfood.com/recipes/collection/healthy-packed-lunch-recipes',\n",
        "            'Dinner-to-lunch recipes': 'https://www.bbcgoodfood.com/recipes/collection/best-healthy-dinner-to-lunch-recipes'\n",
        "      },\n",
        "      'Dinner recipes':{\n",
        "          'Chilli con carne recipes': 'https://www.bbcgoodfood.com/recipes/collection/chilli-con-carne-recipes',\n",
        "          'Easy dinner recipes': 'https://www.bbcgoodfood.com/recipes/collection/quick-and-easy-recipes',\n",
        "          'Pasta recipes': 'https://www.bbcgoodfood.com/recipes/collection/easy-pasta-recipes',\n",
        "          'One pot recipes': 'https://www.bbcgoodfood.com/recipes/collection/storecupboard-one-pot-recipes',\n",
        "      },\n",
        "      'Breakfast recipes':{\n",
        "          'Breakfast muffins': 'https://www.bbcgoodfood.com/recipes/collection/breakfast-muffin-recipes',\n",
        "          'Breakfast pancakes': 'https://www.bbcgoodfood.com/recipes/collection/breakfast-pancake-recipes',\n",
        "          'Overnight oat recipes': 'https://www.bbcgoodfood.com/recipes/collection/overnight-oats-recipes',\n",
        "          'Breakfast smoothies': 'https://www.bbcgoodfood.com/recipes/collection/breakfast-smoothie-recipes',\n",
        "      },\n",
        "      'Storecupboard':{\n",
        "          'Black bean recipes': 'https://www.bbcgoodfood.com/recipes/collection/black-bean-recipes',\n",
        "          'Runner bean recipes': 'https://www.bbcgoodfood.com/recipes/collection/runner-bean-recipes',\n",
        "          'Kidney bean recipes': 'https://www.bbcgoodfood.com/recipes/collection/kidney-bean-recipes',\n",
        "          'Broad bean recipes': 'https://www.bbcgoodfood.com/recipes/collection/broad-bean-recipes',\n",
        "      },\n",
        "      'Cheese recipes':{\n",
        "          'Halloumi recipes': 'https://www.bbcgoodfood.com/recipes/collection/halloumi-recipes',\n",
        "          \"Goat's cheese recipes\": \"https://www.bbcgoodfood.com/recipes/collection/goats-cheese-recipes\",\n",
        "          \"Cheddar recipes\": \"https://www.bbcgoodfood.com/recipes/collection/cheddar-recipes\",\n",
        "          \"Blue cheese recipes\": \"https://www.bbcgoodfood.com/recipes/collection/blue-cheese-recipes\",\n",
        "      },\n",
        "      'Desserts':{ \n",
        "          \"Easy dessert recipes\": \"https://www.bbcgoodfood.com/recipes/collection/quick-dessert-recipes\",\n",
        "          \"Healthy dessert recipes\": \"https://www.bbcgoodfood.com/recipes/collection/healthy-desserts-recipes\",\n",
        "          \"Apple dessert recipes\": \"https://www.bbcgoodfood.com/recipes/collection/apple-dessert-recipes\",\n",
        "          \"Chocolate desserts\": \"https://www.bbcgoodfood.com/recipes/collection/chocolate-dessert-recipes\",\n",
        "      },\n",
        "      'Fish and seafood':{\n",
        "          \"White fish recipes\": \"https://www.bbcgoodfood.com/recipes/collection/white-fish-recipes\",\n",
        "          \"Fish pie recipes\": \"https://www.bbcgoodfood.com/recipes/collection/fish-pie-recipes\",\n",
        "          \"Seafood paella recipes\": \"https://www.bbcgoodfood.com/recipes/collection/paella-recipes\",\n",
        "          \"Healthy fish recipes\": \"https://www.bbcgoodfood.com/recipes/collection/healthy-fish-recipes\",\n",
        "      },\n",
        "      'Pasta':{\n",
        "          \"Pasta salad recipes\": \"https://www.bbcgoodfood.com/recipes/collection/pasta-salad-recipes\",\n",
        "          \"Pasta bake recipes\": \"https://www.bbcgoodfood.com/recipes/collection/pasta-bake-recipes\",\n",
        "          \"Quick pasta recipes\": \"https://www.bbcgoodfood.com/recipes/collection/quick-pasta-recipes\",\n",
        "          \"Spaghetti recipes\": \"https://www.bbcgoodfood.com/recipes/collection/spaghetti-recipes\",\n",
        "      },\n",
        "      'Chicken':{\n",
        "          \"Chicken breast recipes\": \"https://www.bbcgoodfood.com/recipes/collection/chicken-breast-recipes\",\n",
        "          \"Chicken casseroles\": \"https://www.bbcgoodfood.com/recipes/collection/chicken-casserole-recipes\",\n",
        "          \"Chicken mince recipes\": \"https://www.bbcgoodfood.com/recipes/collection/chicken-mince-recipes\",\n",
        "          \"Chicken thigh recipes\": \"https://www.bbcgoodfood.com/recipes/collection/chicken-thigh-recipes\",\n",
        "      },\n",
        "      'Meat':{\n",
        "          \"Diced beef recipes\": \"https://www.bbcgoodfood.com/recipes/collection/diced-beef-recipes\",\n",
        "          \"Lamb chop recipes\": \"https://www.bbcgoodfood.com/recipes/collection/lamb-chop-recipes\",\n",
        "          \"Pork chop recipes\": \"https://www.bbcgoodfood.com/recipes/collection/pork-chop-recipes\",\n",
        "          \"Beef slow cooker\": \"https://www.bbcgoodfood.com/recipes/collection/slow-cooker-beef-recipes\",\n",
        "      },\n",
        "      'Vegan':{\n",
        "          \"Vegan dinner recipes\": \"https://www.bbcgoodfood.com/recipes/collection/vegan-dinner-recipes\",\n",
        "          \"Easy vegan recipes\": \"https://www.bbcgoodfood.com/recipes/collection/easy-vegan-recipes\",\n",
        "          \"Vegan soup recipes\": \"https://www.bbcgoodfood.com/recipes/collection/vegan-soup-recipes\",\n",
        "          \"Vegan pasta recipes\": \"https://www.bbcgoodfood.com/recipes/collection/vegan-pasta-recipes\",\n",
        "      },\n",
        "      'Vegetarian':{\n",
        "          \"Vegetarian dinners\": \"https://www.bbcgoodfood.com/recipes/collection/vegetarian-dinner-recipes\",\n",
        "          \"Easy vegetarian recipes\": \"https://www.bbcgoodfood.com/recipes/collection/easy-vegetarian-recipes\",\n",
        "          \"Vegetarian pasta recipes\": \"https://www.bbcgoodfood.com/recipes/collection/vegetarian-pasta-recipes\",\n",
        "          \"Vegetarian slow cooker\": \"https://www.bbcgoodfood.com/recipes/collection/vegetarian-slow-cooker-recipes\",\n",
        "      }\n",
        "    },\n",
        "    \"health\": {\n",
        "        'Breakfast':{\n",
        "            \"Mood boosting recipes\": \"https://www.bbcgoodfood.com/recipes/collection/mood-boosting-breakfast-recipes\",\n",
        "            \"Energy boosting recipes\": \"https://www.bbcgoodfood.com/recipes/collection/energy-boosting-breakfast-recipes\",\n",
        "            \"High fibre breakfasts\": \"https://www.bbcgoodfood.com/recipes/collection/high-fibre-breakfast-recipes\",\n",
        "        },\n",
        "        'Dinner':{\n",
        "            \"Vegetarian dinners\": \"https://www.bbcgoodfood.com/recipes/collection/healthy-vegetarian-dinner-recipes\",\n",
        "            \"Vegan dinner recipes\": \"https://www.bbcgoodfood.com/recipes/collection/healthy-vegan-recipes\",\n",
        "            \"Low carb dinner recipes\": \"https://www.bbcgoodfood.com/recipes/collection/low-carb-dinner-recipes\",\n",
        "        },\n",
        "        'Fitness & lifestyle':{\n",
        "            \"Dinners for weight loss\": \"https://www.bbcgoodfood.com/recipes/collection/healthy-dinner-recipes-to-lose-weight\",\n",
        "            \"Breakfast for weight loss\": \"https://www.bbcgoodfood.com/recipes/collection/healthy-breakfast-recipes-to-lose-weight\",\n",
        "            \"Recipes for weight loss\": \"https://www.bbcgoodfood.com/recipes/collection/healthy-recipes-for-weight-loss\",\n",
        "        },\n",
        "        'High protein':{\n",
        "            \"High protein lunches\": \"https://www.bbcgoodfood.com/recipes/collection/high-protein-lunch-recipes\",\n",
        "            \"High protein dinners\": \"https://www.bbcgoodfood.com/recipes/collection/high-protein-dinner-recipes\",\n",
        "            \"High protein vegan\": \"https://www.bbcgoodfood.com/recipes/collection/high-protein-vegan-recipes\",\n",
        "            \"High protein snacks\": \"https://www.bbcgoodfood.com/recipes/collection/high-protein-snack-recipes\", \n",
        "        },\n",
        "        'Keto':{\n",
        "            \"Vegetarian keto recipes\": \"https://www.bbcgoodfood.com/recipes/collection/vegetarian-keto-recipes\",\n",
        "            \"Keto snack recipes\": \"https://www.bbcgoodfood.com/recipes/collection/keto-snacks-recipes\",\n",
        "            \"Keto dinner recipes\": \"https://www.bbcgoodfood.com/recipes/collection/keto-dinner-recipes\",\n",
        "            \"Keto lunch recipes\": \"https://www.bbcgoodfood.com/recipes/collection/keto-lunch-recipes\",\n",
        "        },\n",
        "        'Low calorie':{\n",
        "            \"Low calorie breakfasts\": \"https://www.bbcgoodfood.com/recipes/collection/low-calorie-breakfast-recipes\",\n",
        "            \"Low calorie lunches\": \"https://www.bbcgoodfood.com/recipes/collection/low-calorie-lunch-recipes\",\n",
        "            \"Low calorie dinners\": \"https://www.bbcgoodfood.com/recipes/collection/low-calorie-dinner-recipes\",\n",
        "            \"Low calorie snacks\": \"https://www.bbcgoodfood.com/recipes/collection/low-calorie-snack-recipes\",\n",
        "        },\n",
        "        'Lunch':{\n",
        "            \"Packed lunch recipes\": \"https://www.bbcgoodfood.com/recipes/collection/healthy-packed-lunch-recipes\",\n",
        "            \"Vegetarian lunch ideas\": \"https://www.bbcgoodfood.com/recipes/collection/healthy-vegetarian-lunch-recipes\",\n",
        "            \"Vegan lunch recipes\": \"https://www.bbcgoodfood.com/recipes/collection/healthy-vegan-lunch-recipes\",\n",
        "        },\n",
        "        'Salads':{\n",
        "          \"Chicken salad recipes\": \"https://www.bbcgoodfood.com/recipes/collection/chicken-salad-recipes\",\n",
        "          \"Green salad recipes\": \"https://www.bbcgoodfood.com/recipes/collection/green-salad-recipes\",\n",
        "          \"Lentil salad recipes\": \"https://www.bbcgoodfood.com/recipes/collection/lentil-salad-recipes\",\n",
        "          \"Warm salad dressings\": \"https://www.bbcgoodfood.com/recipes/collection/warm-salad-recipes\",\n",
        "        },\n",
        "        'Smoothies':{\n",
        "          \"Green smoothie recipes\": \"https://www.bbcgoodfood.com/recipes/collection/green-smoothie-recipes\",\n",
        "          \"Spinach smoothies\": \"https://www.bbcgoodfood.com/recipes/collection/spinach-smoothie-recipes\",\n",
        "          \"Breakfast smoothies\": \"https://www.bbcgoodfood.com/recipes/collection/breakfast-smoothie-recipes\",\n",
        "          \"Healthy smoothies\": \"https://www.bbcgoodfood.com/recipes/collection/healthy-smoothie-recipes\", \n",
        "        },\n",
        "    },\n",
        "    \"baking\": {\n",
        "        'Bread':{\n",
        "          \"Bread roll recipes\": \"https://www.bbcgoodfood.com/recipes/collection/bread-roll-recipes\", \n",
        "          \"Garlic bread recipes\": \"https://www.bbcgoodfood.com/recipes/collection/garlic-bread-recipes\", \n",
        "          \"Wholemeal breads\": \"https://www.bbcgoodfood.com/recipes/collection/wholemeal-bread-recipes\", \n",
        "          \"Pitta bread recipes\": \"https://www.bbcgoodfood.com/recipes/collection/pitta-bread-recipes\", \n",
        "        },\n",
        "        'Cakes':{\n",
        "            \"Easy birthday cakes\": \"https://www.bbcgoodfood.com/recipes/collection/celebration-cake-recipes\", \n",
        "            \"Birthday cake recipes\": \"https://www.bbcgoodfood.com/recipes/collection/birthday-cake-recipes\", \n",
        "            \"Best cake recipes\": \"https://www.bbcgoodfood.com/recipes/collection/classic-cake-recipes\", \n",
        "            \"Chocolate cake recipes\": \"https://www.bbcgoodfood.com/recipes/collection/chocolate-cake-recipes\", \n",
        "        },\n",
        "        'Desserts':{\n",
        "          \"Quick desserts\": \"https://www.bbcgoodfood.com/recipes/collection/quick-dessert-recipes\", \n",
        "          \"Sweet tart recipes\": \"https://www.bbcgoodfood.com/recipes/collection/sweet-tart-recipes\", \n",
        "          \"Family dessert recipes\": \"https://www.bbcgoodfood.com/recipes/collection/family-dessert-recipes\", \n",
        "          \"Easy pudding recipes\": \"https://www.bbcgoodfood.com/recipes/collection/chocolate-cake-recipes\",   \n",
        "        },\n",
        "        \"Kids' baking\":{ \n",
        "            \"Baking with kids\": \"https://www.bbcgoodfood.com/recipes/collection/kids-cake-recipes\", \n",
        "            \"Easy pastries for kids\": \"https://www.bbcgoodfood.com/recipes/collection/kids-pastry-recipes\", \n",
        "            \"Kids' birthday cakes\": \"https://www.bbcgoodfood.com/recipes/collection/kids-party-cakes-recipes\", \n",
        "            \"Easy party food\": \"https://www.bbcgoodfood.com/recipes/collection/kids-party-recipes\", \n",
        "        },\n",
        "        'Quick bakes':{\n",
        "            \"Traybake recipes\": \"https://www.bbcgoodfood.com/recipes/collection/traybake-recipes\", \n",
        "            \"Savoury baking recipes\": \"https://www.bbcgoodfood.com/recipes/collection/savoury-baking-recipes\", \n",
        "            \"How to make cakes\": \"https://www.bbcgoodfood.com/recipes/collection/quick-cake-recipes\", \n",
        "            \"How to make muffins\": \"https://www.bbcgoodfood.com/recipes/collection/easy-muffin-recipes\", \n",
        "        },\n",
        "        'Savoury pastries':{\n",
        "            \"Filo pastry recipes\": \"https://www.bbcgoodfood.com/recipes/collection/filo-pastry-recipes\", \n",
        "            \"Easy pie recipes\": \"https://www.bbcgoodfood.com/recipes/collection/savoury-pie-recipes\", \n",
        "            \"Puff pastry recipes\": \"https://www.bbcgoodfood.com/recipes/collection/puff-pastry-recipes/recipes/collection/puff-pastry-recipes\", \n",
        "            \"Savoury tart recipes\": \"https://www.bbcgoodfood.com/recipes/collection/savoury-tart-recipes\", \n",
        "        },\n",
        "        'Sweet treats':{\n",
        "          \"Fudge recipes\": \"https://www.bbcgoodfood.com/recipes/collection/fudge-recipes\", \n",
        "          \"Healthy baking recipes\": \"https://www.bbcgoodfood.com/recipes/collection/healthy-treat-recipes\", \n",
        "          \"Chocolate recipes\": \"https://www.bbcgoodfood.com/recipes/collection/melted-chocolate-recipes\", \n",
        "          \"Brownie recipes\": \"https://www.bbcgoodfood.com/recipes/collection/brownie-recipes/recipes/collection/brownie-recipes\", \n",
        "        },\n",
        "        'Vegan baking':{\n",
        "          \"Vegan bread recipes\": \"https://www.bbcgoodfood.com/recipes/collection/vegan-bread-recipes\", \n",
        "          \"Vegan chocolate bakes\": \"https://www.bbcgoodfood.com/recipes/collection/vegan-chocolate-recipes\", \n",
        "          \"Vegan cake recipes\": \"https://www.bbcgoodfood.com/recipes/collection/vegan-birthday-cake-recipes\", \n",
        "          \"Easy vegan cakes\": \"https://www.bbcgoodfood.com/recipes/collection/vegan-cake-recipes\",   \n",
        "        },\n",
        "        'Biscuit recipes':{\n",
        "            \"Kids' biscuit recipes\": \"https://www.bbcgoodfood.com/recipes/collection/kids-biscuit-recipes\", \n",
        "            \"Cookie recipes\": \"https://www.bbcgoodfood.com/recipes/collection/cookie-recipes\", \n",
        "            \"Easy biscuit recipes\": \"https://www.bbcgoodfood.com/recipes/collection/five-ingredient-biscuit-recipes\", \n",
        "            \"Oat biscuit recipes\": \"https://www.bbcgoodfood.com/recipes/collection/oat-biscuit-recipes\", \n",
        "        },\n",
        "        'Free-from baking':{\n",
        "            \"Egg-free baking\": \"https://www.bbcgoodfood.com/recipes/collection/egg-free-baking-recipes\", \n",
        "            \"Gluten-free baking\": \"https://www.bbcgoodfood.com/recipes/collection/gluten-free-baking-recipes\", \n",
        "            \"Dairy-free baking\": \"https://www.bbcgoodfood.com/recipes/collection/dairy-free-baking-recipes\", \n",
        "            \"Low-sugar baking\": \"https://www.bbcgoodfood.com/howto/guide/diabetic-cake-recipes\", \n",
        "        }\n",
        "    },\n",
        "    \"budget\": {\n",
        "          'Batch cooking':{\n",
        "              \"Budget batch cooking\": \"https://www.bbcgoodfood.com/recipes/collection/budget-batch-cooking-recipes\",\n",
        "              \"Veggie batch cooking\": \"https://www.bbcgoodfood.com/recipes/collection/vegetarian-batch-cooking-recipes\",\n",
        "              \"Healthy batch cooking\": \"https://www.bbcgoodfood.com/recipes/collection/healthy-batch-cooking-recipes-2\",\n",
        "        },\n",
        "        'Budget dinners':{\n",
        "            \"Budget veggie recipes\": \"https://www.bbcgoodfood.com/recipes/collection/budget-vegetarian-recipes\",\n",
        "            \"Budget meals for two\": \"https://www.bbcgoodfood.com/recipes/collection/budget-meal-two-recipes\",\n",
        "        },\n",
        "        'Freezable meals':{\n",
        "          \"Freezable family meals\": \"https://www.bbcgoodfood.com/recipes/collection/freezable-family-recipes\",\n",
        "          \"Freezable veggie meals\": \"https://www.bbcgoodfood.com/recipes/collection/freezable-vegetarian-recipes\",\n",
        "          \"Healthy freezable meals\": \"https://www.bbcgoodfood.com/recipes/collection/healthy-freezable-recipes\",\n",
        "          \"Freezable chicken meals\": \"https://www.bbcgoodfood.com/recipes/collection/freezable-chicken-recipes\",  \n",
        "        },\n",
        "        'Student meals':{\n",
        "          \"Budget pasta recipes\": \"https://www.bbcgoodfood.com/recipes/collection/budget-pasta-recipes\",\n",
        "          \"Budget soup recipes\": \"https://www.bbcgoodfood.com/recipes/collection/budget-soup-recipes\",\n",
        "        },\n",
        "        'Slow cooker':{\n",
        "            \"Vegetable casseroles\": \"https://www.bbcgoodfood.com/recipes/collection/vegetarian-casserole-recipes\",\n",
        "            \"Sausage casseroles\": \"https://www.bbcgoodfood.com/recipes/collection/sausage-casserole-recipes\",\n",
        "            \"Slow cooker soups\": \"https://www.bbcgoodfood.com/recipes/collection/slow-cooker-soup-recipe\",\n",
        "            \"Slow cooker pasta\": \"https://www.bbcgoodfood.com/recipes/collection/slow-cooker-curry-recipes\",\n",
        "        }\n",
        "    },\n",
        "    \"inspiration\": {\n",
        "        'Birthdays':{\n",
        "          \"Gluten free cake recipes\": \"https://www.bbcgoodfood.com/recipes/collection/gluten-free-cake-recipes\",\n",
        "          \"Lemon drizzle cake\": \"https://www.bbcgoodfood.com/recipes/lemon-drizzle-cake\",\n",
        "          \"Red velvet cake recipe\": \"https://www.bbcgoodfood.com/recipes/red-velvet-cake\",\n",
        "          \"Chocolate cake recipe\": \"https://www.bbcgoodfood.com/recipes/naughty-chocolate-fudge-cake\", \n",
        "        },\n",
        "        'Coffees':{\n",
        "            \"Irish coffee recipes\": \"https://www.bbcgoodfood.com/recipes/irish-coffee\",\n",
        "            \"Iced coffee recipe\": \"https://www.bbcgoodfood.com/recipes/iced-coffee\",\n",
        "            \"Cold coffee recipe\": \"https://www.bbcgoodfood.com/recipes/cold-brew-coffee\",\n",
        "            \"Dalgona coffee recipe\": \"https://www.bbcgoodfood.com/recipes/dalgona-coffee\",\n",
        "        },\n",
        "        'Cocktails':{\n",
        "            \"Easy cocktail recipes\": \"https://www.bbcgoodfood.com/recipes/collection/easy-cocktail-recipes\",\n",
        "            \"Gin cocktail recipes\": \"https://www.bbcgoodfood.com/recipes/collection/gin-cocktail-recipes\",\n",
        "            \"Vodka cocktail recipes\": \"https://www.bbcgoodfood.com/recipes/collection/vodka-cocktail-recipes\",\n",
        "            \"Rum cocktail recipes\": \"https://www.bbcgoodfood.com/recipes/collection/rum-cocktails-recipes\", \n",
        "        },\n",
        "        'Hosting':{\n",
        "            \"Dinner party starters\": \"https://www.bbcgoodfood.com/recipes/collection/dinner-party-starter-recipes\",\n",
        "            \"Dinner party mains\": \"https://www.bbcgoodfood.com/recipes/collection/dinner-party-main-recipes\",\n",
        "            \"Dinner party desserts\": \"https://www.bbcgoodfood.com/recipes/collection/dinner-party-dessert-recipes\",\n",
        "            \"Veggie dinner party\": \"https://www.bbcgoodfood.com/recipes/collection/vegetarian-dinner-party-recipes\",\n",
        "        },\n",
        "        \"Kids' birthdays\":{\n",
        "            \"Dairy free cake recipes\": \"https://www.bbcgoodfood.com/recipes/collection/dairy-free-cake-recipes\",\n",
        "            \"Kids cupcake recipes\": \"https://www.bbcgoodfood.com/recipes/cupcakes\",\n",
        "            \"Fairy cake recipes\": \"https://www.bbcgoodfood.com/recipes/iced-fairy-cakes\",\n",
        "            \"Rice crispie cakes\": \"https://www.bbcgoodfood.com/recipes/chocolate-rice-krispie-cakes\",\n",
        "        },\n",
        "        'Mocktails':{\n",
        "            \"Non alcoholic drinks\": \"https://www.bbcgoodfood.com/recipes/collection/non-alcoholic-drink-recipes\",\n",
        "            \"Non alcoholic punch\": \"https://www.bbcgoodfood.com/recipes/collection/non-alcoholic-punch-recipes\",\n",
        "            \"Fruit mocktails\": \"https://www.bbcgoodfood.com/recipes/collection/summer-mocktail-recipes\",\n",
        "        },\n",
        "        'Picnics':{\n",
        "            \"Family picnic recipes\": \"https://www.bbcgoodfood.com/recipes/collection/family-picnic-recipes\",\n",
        "            \"Easy picnic snacks\": \"https://www.bbcgoodfood.com/recipes/collection/picnic-snack-recipes\",\n",
        "            \"Kids picnic recipes\": \"https://www.bbcgoodfood.com/recipes/collection/picnic-recipes-kids-recipes\",\n",
        "            \"Healthy picnic recipes\": \"https://www.bbcgoodfood.com/recipes/collection/healthy-picnic-recipes\",\n",
        "\n",
        "        },\n",
        "        'Barbecues':{\n",
        "            \"Easy barbecue recipes\": \"https://www.bbcgoodfood.com/recipes/collection/easy-barbecue-recipes\",\n",
        "            \"Family barbecue recipes\": \"https://www.bbcgoodfood.com/recipes/collection/family-barbecue-recipes\",\n",
        "            \"Budget barbecue recipes\": \"https://www.bbcgoodfood.com/recipes/collection/budget-barbecue-recipes\",\n",
        "            \"Barbecue side recipes\": \"https://www.bbcgoodfood.com/recipes/collection/barbecue-sides-recipes\",\n",
        "        },\n",
        "        'Spring recipes':{\n",
        "            \"Spring soup recipes\": \"https://www.bbcgoodfood.com/recipes/collection/spring-soup-recipes\",\n",
        "            \"Roast spring chicken\": \"https://www.bbcgoodfood.com/recipes/spring-roast-chicken\",\n",
        "            \"Spring baking recipes\": \"https://www.bbcgoodfood.com/recipes/collection/spring-baking-recipes\",\n",
        "        },\n",
        "        'Special occasions':{\n",
        "            \"Father's Day recipes\": \"https://www.bbcgoodfood.com/recipes/collection/fathers-day-recipes\",\n",
        "            \"Father's Day cakes\": \"https://www.bbcgoodfood.com/recipes/collection/fathers-day-cake-recipes\",\n",
        "            \"Bank holiday recipes\": \"https://www.bbcgoodfood.com/recipes/collection/bank-holiday-recipes\",\n",
        "        },\n",
        "        'Teas':{\n",
        "            \"Bubble tea recipe\": \"https://www.bbcgoodfood.com/recipes/bubble-tea\",\n",
        "            \"Iced tea recipe\": \"https://www.bbcgoodfood.com/recipes/iced-tea\",\n",
        "            \"Lemon tea recipe\": \"https://www.bbcgoodfood.com/recipes/lemon-ginger-tea\",\n",
        "            \"Mint tea recipe\": \"https://www.bbcgoodfood.com/recipes/fresh-mint-tea\",\n",
        "        }\n",
        "    }\n",
        "}"
      ]
    },
    {
      "cell_type": "markdown",
      "source": [
        "Helper function that get urls from each category called `get_urls`"
      ],
      "metadata": {
        "id": "RLY8nTop0tpB"
      }
    },
    {
      "cell_type": "code",
      "execution_count": 5,
      "metadata": {
        "id": "RKWskMPV8OB4"
      },
      "outputs": [],
      "source": [
        "def get_urls(url:str) -> list[str]:\n",
        "  html = requests.get(url)\n",
        "  soup = bs(html.content, 'html.parser')\n",
        "  anchors = soup.find('ul', {'class': \"dynamic-list__list list\"}).find_all('a', {'class': 'link d-block'})\n",
        "  return [base_url + a['href'] for a in anchors]"
      ]
    },
    {
      "cell_type": "markdown",
      "source": [
        "Felpe function that allow us to scrap data on the pages."
      ],
      "metadata": {
        "id": "9GJa7MrX05QN"
      }
    },
    {
      "cell_type": "code",
      "execution_count": 6,
      "metadata": {
        "id": "9ytmX6XvG_WA"
      },
      "outputs": [],
      "source": [
        "def getNutrients(tables):\n",
        "  nutri = list()\n",
        "  for table in tables:\n",
        "    trs = table.find_all('tr')\n",
        "    for tr in trs:\n",
        "      tds = [t.text for t in  tr.find_all('td')[1:]]\n",
        "      if len(tds) == 2:\n",
        "        nutri.append(tds)\n",
        "  return dict(nutri)\n",
        "\n",
        "def getTimes(times):\n",
        "  data = list()\n",
        "  for i, time in enumerate(times):\n",
        "    span = [s for s in time.find_all('span')]\n",
        "    if i == 0:\n",
        "      data.append(['Preparation', span[1].text if len(span) ==2 else \"No Time\"])\n",
        "    elif i == 1:\n",
        "      data.append(['Cooking', span[1].text if len(span) ==2 else \"No Time\"])\n",
        "  return dict(data)"
      ]
    },
    {
      "cell_type": "markdown",
      "source": [
        "The function that scrap data on the page given a `url`"
      ],
      "metadata": {
        "id": "B30JOuPU1A9F"
      }
    },
    {
      "cell_type": "code",
      "execution_count": 7,
      "metadata": {
        "id": "ND_fvb6TmESm"
      },
      "outputs": [],
      "source": [
        "def scrapeData(url:str):\n",
        "  try:\n",
        "    html = requests.get(url)\n",
        "    soup = bs(html.content, 'html.parser')\n",
        "    # getting the image\n",
        "    img = soup.find('div', {'class': 'image__container'}).find('img', {'class': 'image__img'})['src'].split('?')[0]\n",
        "    # getting the name\n",
        "    name = soup.find('h1', {'class': 'heading-1'}).text\n",
        "    # getting description\n",
        "    description = soup.find('div', {'class': 'editor-content mt-sm pr-xxs hidden-print'}).find('p').text\n",
        "    # getting author\n",
        "    author = soup.find('ul', {'class': 'd-inline pa-reset list-style-none'}).find('a').text\n",
        "    # getting rattings\n",
        "    rattings = [star['xlink:href'] for star in soup.find('div', {'class': 'rating__stars d-flex'}).find_all('use')].count('/static/icons/base/sprite-maps/stars-4cb67e95fe322bafbb0f6a52e9d5868c.svg#star-fill')\n",
        "    ingredients = [i.text for i in soup.find('section', {'class': 'recipe__ingredients col-12 mt-md col-lg-6'}).find_all('li')]\n",
        "    steps = [i.text for i in soup.find('div', {'class': 'row recipe__instructions'}).find_all('div', {'class': 'editor-content'})]\n",
        "    nutri_tables = [table for table in soup.find_all('tbody', {'class': 'key-value-blocks__batch body-copy-extra-small'})]\n",
        "    nutrients = getNutrients(nutri_tables)\n",
        "    _times = soup.find('div', {'class': 'icon-with-text time-range-list cook-and-prep-time post-header__cook-and-prep-time'}).find_all('li')\n",
        "    times = getTimes(_times) \n",
        "    people = int(soup.find('div', {'class': 'icon-with-text post-header__servings body-copy-small body-copy-bold icon-with-text--aligned'}).find('div', {'class': 'icon-with-text__children'}).text.split(' ')[1])\n",
        "    difficult = soup.find('div', {'class': 'icon-with-text post-header__skill-level body-copy-small body-copy-bold icon-with-text--aligned'}).find('div', {'class': 'icon-with-text__children'}).text\n",
        "    return {\n",
        "        'url': url,\n",
        "        'image': img,\n",
        "        'name': name,\n",
        "        'description': description,\n",
        "        'author': author,\n",
        "        'rattings': rattings,\n",
        "        'ingredients': ingredients,\n",
        "        'steps': steps,\n",
        "        'nutrients': nutrients,\n",
        "        'times': times,\n",
        "        'serves': people,\n",
        "        'difficult': difficult\n",
        "    }\n",
        "  except:\n",
        "    return None\n"
      ]
    },
    {
      "cell_type": "markdown",
      "source": [
        "Testing a the function."
      ],
      "metadata": {
        "id": "I5LeNBow1H0-"
      }
    },
    {
      "cell_type": "code",
      "execution_count": 8,
      "metadata": {
        "colab": {
          "base_uri": "https://localhost:8080/"
        },
        "id": "ccF4XG6xmEKu",
        "outputId": "f8e703aa-1342-4c3c-baf5-ab3979ed50e9"
      },
      "outputs": [
        {
          "output_type": "execute_result",
          "data": {
            "text/plain": [
              "{'url': 'https://www.bbcgoodfood.com/recipes/big-batch-bolognese',\n",
              " 'image': 'https://images.immediate.co.uk/production/volatile/sites/30/2020/08/recipe-image-legacy-id-1074456_10-1a5351d.jpg',\n",
              " 'name': 'Big-batch bolognese',\n",
              " 'description': \"Whip up a huge batch of bolognese that's fit to feed a hungry crowd, or freeze half for a speedy midweek meal\",\n",
              " 'author': 'Barney Desmazery',\n",
              " 'rattings': 5,\n",
              " 'ingredients': ['4 tbsp olive oil',\n",
              "  '6 smoked bacon rashers, chopped',\n",
              "  '4 onions, finely chopped',\n",
              "  '3 carrots, finely chopped',\n",
              "  '4 celery sticks, finely chopped',\n",
              "  '8 garlic cloves, crushed',\n",
              "  '2 tbsp dried mixed herbs',\n",
              "  '2 bay leaves',\n",
              "  '500g mushrooms, sliced',\n",
              "  '1½ kg lean minced beef (or use half beef, half pork mince)',\n",
              "  '6 x 400g cans chopped tomatoes',\n",
              "  '6 tbsp tomato purée',\n",
              "  'large glass red wine (optional)',\n",
              "  '4 tbsp red wine vinegar',\n",
              "  '1 tbsp sugar',\n",
              "  'parmesan, to serve'],\n",
              " 'steps': ['Heat the oil in a very large saucepan. Gently cook the bacon, onions, carrots and celery for 20 mins until golden. Add the garlic, herbs, bay and mushrooms, then cook for 2 mins more.',\n",
              "  'Heat a large frying pan until really hot. Crumble in just enough mince to cover the pan, cook until brown, then tip in with the veg. Continue to fry the mince in batches until used up. Tip the tomatoes and purée in with the mince and veg. Rinse the cans out with the red wine, if you have some, or with a little water, then add to the pan with the vinegar and sugar. Season generously and bring to a simmer. Simmer slowly for 1 hr until thick and saucy and the mince is tender. Serve with pasta and parmesan.',\n",
              "  'If you want to make this in a slow cooker, visit our slow cooker bolognese recipe.'],\n",
              " 'nutrients': {'kcal': '295',\n",
              "  'fat': '12g',\n",
              "  'saturates': '4g',\n",
              "  'carbs': '13g',\n",
              "  'sugars': '11g',\n",
              "  'fibre': '4g',\n",
              "  'protein': '34g',\n",
              "  'salt': '0.87g'},\n",
              " 'times': {'Preparation': '25 mins', 'Cooking': '1 hr and 30 mins'},\n",
              " 'serves': 12,\n",
              " 'difficult': 'Easy'}"
            ]
          },
          "metadata": {},
          "execution_count": 8
        }
      ],
      "source": [
        "scrapeData('https://www.bbcgoodfood.com/recipes/big-batch-bolognese')"
      ]
    },
    {
      "cell_type": "markdown",
      "source": [
        "Helper functions that allows us to collect data from each url."
      ],
      "metadata": {
        "id": "w1ZoRd9y1LvJ"
      }
    },
    {
      "cell_type": "code",
      "execution_count": 9,
      "metadata": {
        "id": "pkEu7N-hOtIJ"
      },
      "outputs": [],
      "source": [
        "def getExampleCategory(examples):\n",
        "  data = list()\n",
        "  for key, url in examples.items():\n",
        "    urls = get_urls(url) if url.find('collection') != -1 else [url]\n",
        "    values = list()\n",
        "    for u in urls:\n",
        "      v = scrapeData(u)\n",
        "      if v is not None:\n",
        "        values.append(v)\n",
        "    data.append([key, values ])\n",
        "  return dict(data)"
      ]
    },
    {
      "cell_type": "code",
      "execution_count": 10,
      "metadata": {
        "id": "2u5oBc1PPcm6"
      },
      "outputs": [],
      "source": [
        "def getSubCategoryData(categories, main_category):\n",
        "  data = list()\n",
        "  for sub_category in categories.keys():\n",
        "    examples = data_urls[main_category][sub_category]\n",
        "    data.append([sub_category, getExampleCategory(examples)])\n",
        "  return dict(data)\n",
        "\n",
        "def getMainCategoryData(urls):\n",
        "  data = list()\n",
        "  for main_category in urls.keys():\n",
        "    cates = data_urls[main_category]\n",
        "    data.append([main_category, getSubCategoryData(cates, main_category)])\n",
        "  return dict(data)"
      ]
    },
    {
      "cell_type": "markdown",
      "source": [
        "Getting the data."
      ],
      "metadata": {
        "id": "lQ3siNtS1SvQ"
      }
    },
    {
      "cell_type": "code",
      "execution_count": 11,
      "metadata": {
        "id": "LA6l89DvZBAA"
      },
      "outputs": [],
      "source": [
        "json_data = getMainCategoryData(data_urls)"
      ]
    },
    {
      "cell_type": "markdown",
      "source": [
        "Saving the data as `json` file in a file named `data.json`"
      ],
      "metadata": {
        "id": "3AMpYkQo1cwQ"
      }
    },
    {
      "cell_type": "code",
      "execution_count": 12,
      "metadata": {
        "id": "SYkClTCfQLYm"
      },
      "outputs": [],
      "source": [
        "import json\n",
        "with open('data.json', 'w') as writter:\n",
        "  writter.write(json.dumps(json_data, indent=2))"
      ]
    },
    {
      "cell_type": "code",
      "execution_count": null,
      "metadata": {
        "id": "FDwLqcrwYyVf"
      },
      "outputs": [],
      "source": []
    }
  ],
  "metadata": {
    "colab": {
      "provenance": []
    },
    "gpuClass": "standard",
    "kernelspec": {
      "display_name": "Python 3",
      "name": "python3"
    },
    "language_info": {
      "name": "python"
    }
  },
  "nbformat": 4,
  "nbformat_minor": 0
}