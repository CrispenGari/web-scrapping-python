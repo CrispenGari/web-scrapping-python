{
  "nbformat": 4,
  "nbformat_minor": 0,
  "metadata": {
    "colab": {
      "provenance": []
    },
    "kernelspec": {
      "name": "python3",
      "display_name": "Python 3"
    },
    "language_info": {
      "name": "python"
    }
  },
  "cells": [
    {
      "cell_type": "code",
      "execution_count": null,
      "metadata": {
        "id": "w5FRgey6nhnW"
      },
      "outputs": [],
      "source": [
        "import json"
      ]
    },
    {
      "cell_type": "code",
      "source": [
        "with open('recipe.json', 'r') as reader:\n",
        "  data = json.loads(reader.read())"
      ],
      "metadata": {
        "id": "Qk_DuUOBn8v6"
      },
      "execution_count": null,
      "outputs": []
    },
    {
      "cell_type": "code",
      "source": [
        "data_ = list()\n",
        "\n",
        "for maincategory in data.keys():\n",
        "    for subcategory in data[maincategory].keys():\n",
        "      for dish_type, values in data[maincategory][subcategory].items():\n",
        "        others = {\n",
        "              'subcategory' :subcategory,\n",
        "              'dish_type':dish_type,\n",
        "              'maincategory':maincategory,\n",
        "        }\n",
        "        v = [{**i,**others} for i in values]\n",
        "        data_.extend(v)"
      ],
      "metadata": {
        "id": "hGpBZxlloHWJ"
      },
      "execution_count": null,
      "outputs": []
    },
    {
      "cell_type": "code",
      "source": [
        "with open('data.json', 'w') as w:\n",
        "  w.write(json.dumps(data_, indent=2))"
      ],
      "metadata": {
        "id": "I6R05Q3VoUna"
      },
      "execution_count": null,
      "outputs": []
    },
    {
      "cell_type": "code",
      "source": [],
      "metadata": {
        "id": "MZrulCxqrilQ"
      },
      "execution_count": null,
      "outputs": []
    }
  ]
}