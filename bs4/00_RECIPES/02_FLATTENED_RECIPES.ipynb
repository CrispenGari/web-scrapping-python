{
  "nbformat": 4,
  "nbformat_minor": 0,
  "metadata": {
    "colab": {
      "provenance": []
    },
    "kernelspec": {
      "name": "python3",
      "display_name": "Python 3"
    },
    "language_info": {
      "name": "python"
    }
  },
  "cells": [
    {
      "cell_type": "code",
      "execution_count": 2,
      "metadata": {
        "id": "w5FRgey6nhnW"
      },
      "outputs": [],
      "source": [
        "import json"
      ]
    },
    {
      "cell_type": "code",
      "source": [
        "with open('recipes.json', 'r') as reader:\n",
        "  data = json.loads(reader.read())"
      ],
      "metadata": {
        "id": "Qk_DuUOBn8v6"
      },
      "execution_count": 4,
      "outputs": []
    },
    {
      "cell_type": "code",
      "source": [
        "data_ = list()\n",
        "\n",
        "for maincategory in data.keys():\n",
        "    for subcategory in data[maincategory].keys():\n",
        "      for dish_type, values in data[maincategory][subcategory].items():\n",
        "        others = {\n",
        "              'subcategory' :subcategory,\n",
        "              'dish_type':dish_type,\n",
        "              'maincategory':maincategory,\n",
        "        }\n",
        "        v = [{**i,**others} for i in values]\n",
        "        data_.extend(v)"
      ],
      "metadata": {
        "id": "hGpBZxlloHWJ"
      },
      "execution_count": 5,
      "outputs": []
    },
    {
      "cell_type": "code",
      "source": [
        "data_[0]"
      ],
      "metadata": {
        "colab": {
          "base_uri": "https://localhost:8080/"
        },
        "id": "r5dX6nBawi_x",
        "outputId": "ab513eab-2b8e-405b-c9a5-1a732273ac94"
      },
      "execution_count": 6,
      "outputs": [
        {
          "output_type": "execute_result",
          "data": {
            "text/plain": [
              "{'id': '7bac6ec3-fb66-4543-80f5-4b692de7a811',\n",
              " 'url': 'https://www.bbcgoodfood.com/recipes/smoked-salmon-quinoa-dill-lunch-pot',\n",
              " 'image': 'https://images.immediate.co.uk/production/volatile/sites/30/2020/08/smoked-salmon-quinoa-dill-lunch-pot-0393a04.jpg',\n",
              " 'name': 'Smoked salmon, quinoa & dill lunch pot',\n",
              " 'description': 'This easy packed lunch is as delicious as it is nutritious, with crunchy cucumber and radishes and a herby, creamy dressing',\n",
              " 'author': 'Chelsie Collins',\n",
              " 'rattings': 4,\n",
              " 'ingredients': ['2 tbsp half-fat soured cream',\n",
              "  '2 tbsp lemon juice',\n",
              "  '½ pack dill, finely chopped',\n",
              "  '250g pouch ready-to-eat quinoa (we used Merchant Gourmet)',\n",
              "  '½ cucumber, halved and sliced',\n",
              "  '4 radishes, finely sliced',\n",
              "  '100g smoked salmon, torn into strips'],\n",
              " 'steps': ['First, make the dressing. Mix the soured cream and lemon juice together in a bowl, then add most of the dill, reserving a quarter for serving.',\n",
              "  'In another bowl, combine the quinoa with the cucumber and radishes, and stir through half the dressing. Season and top with the salmon and the rest of the dill.',\n",
              "  'Put the other half of the dressing in a small pot and drizzle over the quinoa just before serving.'],\n",
              " 'nutrients': {'kcal': '254',\n",
              "  'fat': '7g',\n",
              "  'saturates': '2g',\n",
              "  'carbs': '26g',\n",
              "  'sugars': '3g',\n",
              "  'fibre': '5g',\n",
              "  'protein': '20g',\n",
              "  'salt': '2.5g'},\n",
              " 'times': {'Preparation': '15 mins', 'Cooking': 'No Time'},\n",
              " 'serves': 2,\n",
              " 'difficult': 'Easy',\n",
              " 'vote_count': 10,\n",
              " 'subcategory': 'Lunch recipes',\n",
              " 'dish_type': 'Quick lunch recipes',\n",
              " 'maincategory': 'recipes'}"
            ]
          },
          "metadata": {},
          "execution_count": 6
        }
      ]
    },
    {
      "cell_type": "code",
      "source": [
        "with open('flattened_recipes.json', 'w') as w:\n",
        "  w.write(json.dumps(data_, indent=2))"
      ],
      "metadata": {
        "id": "I6R05Q3VoUna"
      },
      "execution_count": 7,
      "outputs": []
    },
    {
      "cell_type": "code",
      "source": [],
      "metadata": {
        "id": "MZrulCxqrilQ"
      },
      "execution_count": null,
      "outputs": []
    }
  ]
}