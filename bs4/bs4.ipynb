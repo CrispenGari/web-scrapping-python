{
 "cells": [
  {
   "cell_type": "code",
   "execution_count": null,
   "id": "burning-harvard",
   "metadata": {},
   "outputs": [],
   "source": [
    "## Web Scapingm- Beautiful Soup\n",
    "is a Python library for pulling data out of HTML and XML files."
   ]
  },
  {
   "cell_type": "markdown",
   "id": "narrow-oliver",
   "metadata": {},
   "source": [
    "### Installation"
   ]
  },
  {
   "cell_type": "code",
   "execution_count": null,
   "id": "median-number",
   "metadata": {},
   "outputs": [],
   "source": [
    "!pip install beautifulsoup4\n",
    "!pip install requests"
   ]
  },
  {
   "cell_type": "markdown",
   "id": "minute-crime",
   "metadata": {},
   "source": [
    "### Imports"
   ]
  },
  {
   "cell_type": "code",
   "execution_count": null,
   "id": "casual-cosmetic",
   "metadata": {},
   "outputs": [],
   "source": [
    "import requests\n",
    "from bs4 import BeautifulSoup as bs"
   ]
  },
  {
   "cell_type": "code",
   "execution_count": null,
   "id": "macro-egypt",
   "metadata": {},
   "outputs": [],
   "source": []
  },
  {
   "cell_type": "code",
   "execution_count": null,
   "id": "indoor-tolerance",
   "metadata": {},
   "outputs": [],
   "source": [
    "url = \"https://shopping-demo-app-7ee01.web.app/\"\n",
    "html = requests.get(url)\n",
    "html"
   ]
  },
  {
   "cell_type": "code",
   "execution_count": null,
   "id": "strong-steps",
   "metadata": {},
   "outputs": [],
   "source": [
    "soup = bs(html.content, 'html.parser')\n",
    "print(soup.prettify())"
   ]
  },
  {
   "cell_type": "markdown",
   "id": "reasonable-shakespeare",
   "metadata": {},
   "source": [
    "### Kinds of objects"
   ]
  },
  {
   "cell_type": "code",
   "execution_count": null,
   "id": "coupled-scottish",
   "metadata": {},
   "outputs": [],
   "source": [
    "soup.body"
   ]
  },
  {
   "cell_type": "code",
   "execution_count": null,
   "id": "adaptive-playlist",
   "metadata": {},
   "outputs": [],
   "source": [
    "soup.body.div"
   ]
  },
  {
   "cell_type": "code",
   "execution_count": null,
   "id": "statistical-chest",
   "metadata": {},
   "outputs": [],
   "source": [
    "soup.body.div.name ## Tag Name"
   ]
  },
  {
   "cell_type": "markdown",
   "id": "intimate-pixel",
   "metadata": {},
   "source": [
    "### Attributes\n",
    "> Getting attributes is one of the usefull feature of websraping. Attributes names include, classes, ids, title, etc\n",
    "\n",
    "> If a div has multiple attributes it will return a list"
   ]
  },
  {
   "cell_type": "code",
   "execution_count": null,
   "id": "bridal-greenhouse",
   "metadata": {},
   "outputs": [],
   "source": [
    "div_classes = soup.body.div[\"class\"]\n",
    "div_classes"
   ]
  },
  {
   "cell_type": "code",
   "execution_count": null,
   "id": "premium-legislature",
   "metadata": {},
   "outputs": [],
   "source": [
    "ids = soup.body.div.get('id')\n",
    "ids"
   ]
  },
  {
   "cell_type": "code",
   "execution_count": null,
   "id": "pending-horror",
   "metadata": {},
   "outputs": [],
   "source": [
    "attrs_lists = soup.body.div.get_attribute_list('class')\n",
    "attrs_lists"
   ]
  },
  {
   "cell_type": "markdown",
   "id": "automatic-given",
   "metadata": {},
   "source": [
    "### NavigableString\n",
    "> A string corresponds to a bit of text within a tag."
   ]
  },
  {
   "cell_type": "code",
   "execution_count": null,
   "id": "amino-architect",
   "metadata": {},
   "outputs": [],
   "source": [
    "soup.body.div.div.div.button.string"
   ]
  },
  {
   "cell_type": "code",
   "execution_count": null,
   "id": "continuous-delay",
   "metadata": {},
   "outputs": [],
   "source": [
    "custom_soup = bs('<div id=\"id\" class=\"hello there world\"><b>Hello world<b/></div>')"
   ]
  },
  {
   "cell_type": "code",
   "execution_count": null,
   "id": "incomplete-insulation",
   "metadata": {},
   "outputs": [],
   "source": [
    "custom_soup"
   ]
  },
  {
   "cell_type": "code",
   "execution_count": null,
   "id": "killing-popularity",
   "metadata": {},
   "outputs": [],
   "source": [
    "custom_soup.div.text"
   ]
  },
  {
   "cell_type": "code",
   "execution_count": null,
   "id": "minute-intermediate",
   "metadata": {},
   "outputs": [],
   "source": [
    "soup = bs('<b class=\"boldest\">Extremely bold</b>', 'html.parser')\n",
    "soup.b.string"
   ]
  },
  {
   "cell_type": "markdown",
   "id": "serious-pierre",
   "metadata": {},
   "source": [
    "### BeautifulSoup\n",
    "> The BeautifulSoup object represents the parsed document as a whole."
   ]
  },
  {
   "cell_type": "code",
   "execution_count": null,
   "id": "guided-rebecca",
   "metadata": {},
   "outputs": [],
   "source": [
    "soup.title"
   ]
  },
  {
   "cell_type": "code",
   "execution_count": null,
   "id": "adjusted-secondary",
   "metadata": {},
   "outputs": [],
   "source": [
    "soup.name"
   ]
  },
  {
   "cell_type": "markdown",
   "id": "parallel-taxation",
   "metadata": {},
   "source": [
    "### Comments and other special strings\n"
   ]
  },
  {
   "cell_type": "code",
   "execution_count": null,
   "id": "dense-parameter",
   "metadata": {},
   "outputs": [],
   "source": []
  },
  {
   "cell_type": "code",
   "execution_count": null,
   "id": "southern-organization",
   "metadata": {},
   "outputs": [],
   "source": [
    "markup = \"<b><!--Hey, buddy. Want to buy a used parser?--></b>\"\n",
    "c_soup = bs(markup, 'html.parser')\n",
    "comment = c_soup.b.string\n",
    "comment"
   ]
  },
  {
   "cell_type": "markdown",
   "id": "objective-museum",
   "metadata": {},
   "source": [
    "## Navigating the tree\n",
    "#### Going down"
   ]
  },
  {
   "cell_type": "code",
   "execution_count": null,
   "id": "earned-sodium",
   "metadata": {},
   "outputs": [],
   "source": [
    "soup.body.div"
   ]
  },
  {
   "cell_type": "code",
   "execution_count": null,
   "id": "angry-bride",
   "metadata": {},
   "outputs": [],
   "source": [
    "soup.link"
   ]
  },
  {
   "cell_type": "code",
   "execution_count": null,
   "id": "intended-dominant",
   "metadata": {},
   "outputs": [],
   "source": [
    "links = soup.find_all('link')\n",
    "\n",
    "[link[\"href\"] for link in links]"
   ]
  },
  {
   "cell_type": "code",
   "execution_count": null,
   "id": "hungarian-tractor",
   "metadata": {},
   "outputs": [],
   "source": [
    "import re\n",
    "links = soup.find_all('link')\n",
    "\n",
    "[link[\"href\"] for link in links if re.match(r'^https?', link[\"href\"])]"
   ]
  },
  {
   "cell_type": "code",
   "execution_count": null,
   "id": "spectacular-stockholm",
   "metadata": {},
   "outputs": [],
   "source": [
    "result = re.match(r'^h', 'tring')\n",
    "bool(result)"
   ]
  },
  {
   "cell_type": "code",
   "execution_count": null,
   "id": "neural-growth",
   "metadata": {},
   "outputs": [],
   "source": [
    "links = soup.find('link')\n",
    "links"
   ]
  },
  {
   "cell_type": "markdown",
   "id": "prescribed-hello",
   "metadata": {},
   "source": [
    "#### Going up"
   ]
  },
  {
   "cell_type": "code",
   "execution_count": null,
   "id": "enabling-going",
   "metadata": {},
   "outputs": [],
   "source": [
    "div = soup.body.div\n",
    "div"
   ]
  },
  {
   "cell_type": "code",
   "execution_count": null,
   "id": "remarkable-confusion",
   "metadata": {},
   "outputs": [],
   "source": [
    "div.parent"
   ]
  },
  {
   "cell_type": "code",
   "execution_count": null,
   "id": "seeing-economy",
   "metadata": {},
   "outputs": [],
   "source": [
    "div.parents"
   ]
  },
  {
   "cell_type": "markdown",
   "id": "waiting-fight",
   "metadata": {},
   "source": [
    "#### Going sideways"
   ]
  },
  {
   "cell_type": "code",
   "execution_count": null,
   "id": "national-header",
   "metadata": {},
   "outputs": [],
   "source": [
    "div"
   ]
  },
  {
   "cell_type": "code",
   "execution_count": null,
   "id": "composite-malta",
   "metadata": {},
   "outputs": [],
   "source": [
    "div.next_sibling, div.previous_sibling"
   ]
  },
  {
   "cell_type": "markdown",
   "id": "close-proposition",
   "metadata": {},
   "source": [
    "#### Going back and forth"
   ]
  },
  {
   "cell_type": "code",
   "execution_count": null,
   "id": "legendary-chassis",
   "metadata": {},
   "outputs": [],
   "source": [
    "div"
   ]
  },
  {
   "cell_type": "code",
   "execution_count": null,
   "id": "understanding-glass",
   "metadata": {},
   "outputs": [],
   "source": [
    "div.next_element, div.previous_element"
   ]
  },
  {
   "cell_type": "code",
   "execution_count": null,
   "id": "delayed-draft",
   "metadata": {},
   "outputs": [],
   "source": [
    "links = soup.find_all('link')"
   ]
  },
  {
   "cell_type": "code",
   "execution_count": null,
   "id": "floating-teaching",
   "metadata": {},
   "outputs": [],
   "source": [
    "links"
   ]
  },
  {
   "cell_type": "markdown",
   "id": "described-ordinary",
   "metadata": {},
   "source": [
    "## Kinds of filters¶"
   ]
  },
  {
   "cell_type": "code",
   "execution_count": null,
   "id": "lonely-marijuana",
   "metadata": {},
   "outputs": [],
   "source": [
    "links = soup.find_all('link')\n",
    "links"
   ]
  },
  {
   "cell_type": "code",
   "execution_count": null,
   "id": "accepting-journalism",
   "metadata": {},
   "outputs": [],
   "source": [
    "links = soup.find_all(['link', \"title\"])\n",
    "links"
   ]
  },
  {
   "cell_type": "code",
   "execution_count": null,
   "id": "clean-comedy",
   "metadata": {},
   "outputs": [],
   "source": [
    "all_tags = soup.find_all(True)\n",
    "\", \".join([tag.name for tag in all_tags])"
   ]
  },
  {
   "cell_type": "code",
   "execution_count": null,
   "id": "damaged-destiny",
   "metadata": {},
   "outputs": [],
   "source": [
    "## finding how many links are there\n",
    "[tag.name for tag in all_tags].count('link')"
   ]
  },
  {
   "cell_type": "code",
   "execution_count": null,
   "id": "female-standard",
   "metadata": {},
   "outputs": [],
   "source": [
    "all_tags_with_id = soup.find_all(id=True)\n",
    "all_tags_with_id"
   ]
  },
  {
   "cell_type": "markdown",
   "id": "eleven-range",
   "metadata": {},
   "source": [
    "## Searching by CSS class"
   ]
  },
  {
   "cell_type": "code",
   "execution_count": null,
   "id": "declared-vertex",
   "metadata": {},
   "outputs": [],
   "source": [
    "html_github = requests.get('https://github.com/CrispenGari?tab=repositories')"
   ]
  },
  {
   "cell_type": "code",
   "execution_count": null,
   "id": "pleased-spain",
   "metadata": {},
   "outputs": [],
   "source": [
    "soup = bs(html_github.content)\n",
    "soup.title"
   ]
  },
  {
   "cell_type": "code",
   "execution_count": null,
   "id": "suitable-globe",
   "metadata": {},
   "outputs": [],
   "source": [
    "paragraphs = soup.find_all(class_=['col-9 ','d-inline-block'])\n",
    "paragraphs[:1]"
   ]
  },
  {
   "cell_type": "code",
   "execution_count": null,
   "id": "ultimate-metro",
   "metadata": {},
   "outputs": [],
   "source": [
    "soup.find_all('a', string=\"RE-python\")"
   ]
  },
  {
   "cell_type": "code",
   "execution_count": null,
   "id": "laden-deficit",
   "metadata": {},
   "outputs": [],
   "source": [
    "paragraphs = soup.find_all(class_=['col-9 ','d-inline-block'], limit=2)\n",
    "len(paragraphs)"
   ]
  },
  {
   "cell_type": "code",
   "execution_count": null,
   "id": "turkish-champagne",
   "metadata": {},
   "outputs": [],
   "source": [
    "url = \"https://shopping-demo-app-7ee01.web.app/\"\n",
    "html = requests.get(url)\n",
    "soup = bs(html.content)"
   ]
  },
  {
   "cell_type": "code",
   "execution_count": null,
   "id": "early-melissa",
   "metadata": {},
   "outputs": [],
   "source": [
    "soup.select('body>div#app') "
   ]
  },
  {
   "cell_type": "code",
   "execution_count": null,
   "id": "laden-atmosphere",
   "metadata": {},
   "outputs": [],
   "source": [
    "soup.select('body>div#app.app') "
   ]
  },
  {
   "cell_type": "markdown",
   "id": "uniform-relief",
   "metadata": {},
   "source": [
    "> There's a good docummentation about BeautifulSoup [here](https://www.crummy.com/software/BeautifulSoup/bs4/doc/)"
   ]
  },
  {
   "cell_type": "code",
   "execution_count": null,
   "id": "twenty-newfoundland",
   "metadata": {},
   "outputs": [],
   "source": []
  },
  {
   "cell_type": "code",
   "execution_count": null,
   "id": "documented-waters",
   "metadata": {},
   "outputs": [],
   "source": []
  }
 ],
 "metadata": {
  "kernelspec": {
   "display_name": "Python 3",
   "language": "python",
   "name": "python3"
  },
  "language_info": {
   "codemirror_mode": {
    "name": "ipython",
    "version": 3
   },
   "file_extension": ".py",
   "mimetype": "text/x-python",
   "name": "python",
   "nbconvert_exporter": "python",
   "pygments_lexer": "ipython3",
   "version": "3.8.5"
  }
 },
 "nbformat": 4,
 "nbformat_minor": 5
}
