{
 "cells": [
  {
   "cell_type": "markdown",
   "id": "3d61b93e-6460-454f-a5e6-491826d68c06",
   "metadata": {},
   "source": [
    "### Image Dataset - `BeetleVsWeevilDataset`\n",
    "\n",
    "In this notebook we are going to scrape the data from [this site](https://www.insectimages.org/index.cfm) for an image classification dataset.\n",
    "\n",
    "### Innstallation\n",
    "\n",
    "First we need to install `selenium` if not installed."
   ]
  },
  {
   "cell_type": "code",
   "execution_count": 4,
   "id": "81e6375b-18e8-43b7-b75e-2d082489beb9",
   "metadata": {},
   "outputs": [
    {
     "name": "stdout",
     "output_type": "stream",
     "text": [
      "Note: you may need to restart the kernel to use updated packages.\n"
     ]
    }
   ],
   "source": [
    "pip install selenium -q"
   ]
  },
  {
   "cell_type": "markdown",
   "id": "25e638db-eb1c-4c2d-8615-77972332c413",
   "metadata": {},
   "source": [
    "The following is the path to the chrome driver that was downloaded from [this website](https://googlechromelabs.github.io/chrome-for-testing/) relative to the version of chrome that is installed on this machine."
   ]
  },
  {
   "cell_type": "code",
   "execution_count": 2,
   "id": "fd057f85-3238-46f8-bfec-0a65e327b9fd",
   "metadata": {},
   "outputs": [],
   "source": [
    "driver_path = 'C:\\\\chrome-win64\\\\chrome.exe'"
   ]
  },
  {
   "cell_type": "markdown",
   "id": "9dbd622a-ef65-48e6-b974-21add0ab02e0",
   "metadata": {},
   "source": [
    "### Imports\n",
    "Next we are going to import all the packages that we will use in this notebook for this task."
   ]
  },
  {
   "cell_type": "code",
   "execution_count": 14,
   "id": "12903010-7b16-4967-ae9a-04a0dc10106b",
   "metadata": {},
   "outputs": [],
   "source": [
    "import os\n",
    "from selenium import webdriver\n",
    "from selenium.webdriver.common.keys import Keys\n",
    "import time\n",
    "from bs4 import BeautifulSoup\n",
    "import pandas as pd\n",
    "import requests\n",
    "import tqdm\n",
    "import random\n",
    "import shutil\n",
    "\n",
    "from concurrent.futures import ThreadPoolExecutor, as_completed\n",
    "import multiprocessing"
   ]
  },
  {
   "cell_type": "markdown",
   "id": "00cd2c5e-febc-476b-8895-09b0780da817",
   "metadata": {},
   "source": [
    "Next we are going to set the seed for random operations for reproducivity."
   ]
  },
  {
   "cell_type": "code",
   "execution_count": 2,
   "id": "5c32702b-4a38-4aba-acbc-725f8f55da3f",
   "metadata": {},
   "outputs": [],
   "source": [
    "SEED = 23\n",
    "\n",
    "random.seed(SEED)"
   ]
  },
  {
   "cell_type": "markdown",
   "id": "bd7d07f2-d0f3-466e-9e30-93db160e5a9f",
   "metadata": {},
   "source": [
    "Next we are going to create an instance of a Chrome driver"
   ]
  },
  {
   "cell_type": "code",
   "execution_count": 82,
   "id": "ff9708ef-ae83-4141-b4a8-f07ffadfc77a",
   "metadata": {},
   "outputs": [
    {
     "data": {
      "text/plain": [
       "<selenium.webdriver.chrome.webdriver.WebDriver (session=\"437658d0d9911db920dbee2f86b4c745\")>"
      ]
     },
     "execution_count": 82,
     "metadata": {},
     "output_type": "execute_result"
    }
   ],
   "source": [
    "driver = webdriver.Chrome()\n",
    "driver"
   ]
  },
  {
   "cell_type": "markdown",
   "id": "71931edd-6011-4326-a3e1-e01d1d2ae175",
   "metadata": {},
   "source": [
    "We are then going to define the path to where we want to get the images of the insects from."
   ]
  },
  {
   "cell_type": "code",
   "execution_count": 83,
   "id": "31f6adc7-0b2e-4f13-9ec0-23c36c0a0495",
   "metadata": {},
   "outputs": [],
   "source": [
    "urls_to_images ='https://www.insectimages.org/browse/taxthumb.cfm?order=39'"
   ]
  },
  {
   "cell_type": "code",
   "execution_count": 84,
   "id": "cf1231d2-79a3-430f-9960-524aeb74ea8e",
   "metadata": {},
   "outputs": [],
   "source": [
    "driver.get(urls_to_images)"
   ]
  },
  {
   "cell_type": "markdown",
   "id": "a3bbad6f-7518-4084-b0b4-a60f33fd83aa",
   "metadata": {},
   "source": [
    "From the website the images are paginated so we need to do the infinite scrolling So the function:\n",
    "\n",
    "```py\n",
    "def scroll_down(driver, scroll_pause_time=1.0):\n",
    "    last_height = driver.execute_script(\"return document.body.scrollHeight\")\n",
    "    while True:\n",
    "        driver.execute_script(\"window.scrollTo(0, document.body.scrollHeight);\")\n",
    "        time.sleep(scroll_pause_time)\n",
    "        new_height = driver.execute_script(\"return document.body.scrollHeight\")\n",
    "        if new_height == last_height:\n",
    "            break\n",
    "        last_height = new_height\n",
    "scroll_down(driver, 20)\n",
    "```\n",
    "Is used to do the inifite automatic scrolling of the page using `selenium`.\n",
    "\n",
    "\n",
    "The following function will scrape a single page and returns us a list of dictionaries with `image` and `class` of the insect."
   ]
  },
  {
   "cell_type": "code",
   "execution_count": 86,
   "id": "e6281334-52c9-45ca-88a0-3170568bbd25",
   "metadata": {},
   "outputs": [],
   "source": [
    "def scrape_page(soup):\n",
    "    res = list()\n",
    "    img_container = soup.find('div', {'id': 'imagecontainer'})\n",
    "    for row in img_container.find_all('div', {'class': 'row vertical'}):\n",
    "        for item in row.find_all('div', {'class': 'pointer item text-center well'}):\n",
    "            try:\n",
    "                img = f\"https:{item.find('img')['src']}\"\n",
    "                class_ = item.find('div', {'class': 'img-foot'}).contents[0].split(' ')[-1].strip().lower()\n",
    "                res.append({'class': class_, 'image': img})\n",
    "            except Exception:\n",
    "                pass\n",
    "    return res"
   ]
  },
  {
   "cell_type": "markdown",
   "id": "9e5ba29d-6712-48f5-9677-45ee31f881ac",
   "metadata": {},
   "source": [
    "We are going to define the number of pages we want to scroll  and start doing webscraping to get the images and their class names."
   ]
  },
  {
   "cell_type": "code",
   "execution_count": 87,
   "id": "d5eb1f92-8306-48cd-811f-3045f232c14c",
   "metadata": {},
   "outputs": [
    {
     "name": "stdout",
     "output_type": "stream",
     "text": [
      "Got 24 for page 1...\n",
      "Got 48 for page 2...\n",
      "Got 72 for page 3...\n",
      "Got 96 for page 4...\n",
      "Got 120 for page 5...\n",
      "Got 144 for page 6...\n",
      "Got 163 for page 7...\n",
      "Got 187 for page 8...\n",
      "Got 211 for page 9...\n",
      "Got 230 for page 10...\n",
      "Got 249 for page 11...\n",
      "Got 268 for page 12...\n",
      "Got 292 for page 13...\n",
      "Got 316 for page 14...\n",
      "Got 340 for page 15...\n",
      "Got 364 for page 16...\n",
      "Got 388 for page 17...\n",
      "Got 412 for page 18...\n",
      "Got 436 for page 19...\n",
      "Got 460 for page 20...\n",
      "Got 484 for page 21...\n",
      "Got 496 for page 22...\n",
      "Got 520 for page 23...\n",
      "Got 544 for page 24...\n",
      "Got 568 for page 25...\n",
      "Got 592 for page 26...\n",
      "Got 615 for page 27...\n",
      "Got 639 for page 28...\n",
      "Got 654 for page 29...\n",
      "Got 677 for page 30...\n",
      "Got 701 for page 31...\n",
      "Got 725 for page 32...\n",
      "Got 749 for page 33...\n",
      "Got 773 for page 34...\n",
      "Got 793 for page 35...\n",
      "Got 816 for page 36...\n",
      "Got 840 for page 37...\n",
      "Got 864 for page 38...\n",
      "Got 888 for page 39...\n",
      "Got 912 for page 40...\n",
      "Got 936 for page 41...\n",
      "Got 960 for page 42...\n",
      "Got 984 for page 43...\n",
      "Got 1008 for page 44...\n",
      "Got 1032 for page 45...\n",
      "Got 1056 for page 46...\n",
      "Got 1080 for page 47...\n",
      "Got 1104 for page 48...\n",
      "Got 1128 for page 49...\n",
      "Got 1152 for page 50...\n",
      "Got 1176 for page 51...\n",
      "Got 1200 for page 52...\n",
      "Got 1224 for page 53...\n",
      "Got 1248 for page 54...\n",
      "Got 1272 for page 55...\n",
      "Got 1296 for page 56...\n",
      "Got 1320 for page 57...\n",
      "Got 1344 for page 58...\n",
      "Got 1368 for page 59...\n",
      "Got 1392 for page 60...\n",
      "Got 1416 for page 61...\n",
      "Got 1416 for page 62...\n",
      "Got 1416 for page 63...\n",
      "Got 1464 for page 64...\n",
      "Got 1488 for page 65...\n",
      "Got 1512 for page 66...\n",
      "Got 1536 for page 67...\n",
      "Got 1560 for page 68...\n",
      "Got 1584 for page 69...\n",
      "Got 1608 for page 70...\n",
      "Got 1632 for page 71...\n",
      "Got 1656 for page 72...\n",
      "Got 1680 for page 73...\n",
      "Got 1704 for page 74...\n",
      "Got 1728 for page 75...\n",
      "Got 1752 for page 76...\n",
      "Got 1776 for page 77...\n",
      "Got 1800 for page 78...\n",
      "Got 1824 for page 79...\n",
      "Got 1848 for page 80...\n",
      "Got 1848 for page 81...\n",
      "Got 1848 for page 82...\n",
      "Got 1896 for page 83...\n",
      "Got 1920 for page 84...\n",
      "Got 1944 for page 85...\n",
      "Got 1968 for page 86...\n",
      "Got 1992 for page 87...\n",
      "Got 2016 for page 88...\n",
      "Got 2040 for page 89...\n",
      "Got 2064 for page 90...\n",
      "Got 2088 for page 91...\n",
      "Got 2112 for page 92...\n",
      "Got 2136 for page 93...\n",
      "Got 2160 for page 94...\n",
      "Got 2184 for page 95...\n",
      "Got 2208 for page 96...\n",
      "Got 2232 for page 97...\n",
      "Got 2256 for page 98...\n",
      "Got 2280 for page 99...\n",
      "Got 2304 for page 100...\n",
      "Got 2328 for page 101...\n",
      "Got 2352 for page 102...\n",
      "Got 2376 for page 103...\n",
      "Got 2400 for page 104...\n",
      "Got 2424 for page 105...\n",
      "Got 2448 for page 106...\n",
      "Got 2472 for page 107...\n",
      "Got 2496 for page 108...\n",
      "Got 2520 for page 109...\n",
      "Got 2544 for page 110...\n",
      "Got 2544 for page 111...\n",
      "Got 2568 for page 112...\n",
      "Got 2592 for page 113...\n",
      "Got 2616 for page 114...\n",
      "Got 2640 for page 115...\n",
      "Got 2664 for page 116...\n",
      "Got 2688 for page 117...\n",
      "Got 2712 for page 118...\n",
      "Got 2736 for page 119...\n",
      "Got 2760 for page 120...\n",
      "Got 2784 for page 121...\n",
      "Got 2808 for page 122...\n",
      "Got 2832 for page 123...\n",
      "Got 2856 for page 124...\n",
      "Got 2880 for page 125...\n",
      "Got 2904 for page 126...\n",
      "Got 2928 for page 127...\n",
      "Got 2952 for page 128...\n",
      "Got 2976 for page 129...\n",
      "Got 3000 for page 130...\n",
      "Got 3024 for page 131...\n",
      "Got 3048 for page 132...\n",
      "Got 3072 for page 133...\n",
      "Got 3096 for page 134...\n",
      "Got 3120 for page 135...\n",
      "Got 3144 for page 136...\n",
      "Got 3168 for page 137...\n",
      "Got 3192 for page 138...\n",
      "Got 3216 for page 139...\n",
      "Got 3240 for page 140...\n",
      "Got 3264 for page 141...\n",
      "Got 3288 for page 142...\n",
      "Got 3312 for page 143...\n",
      "Got 3336 for page 144...\n",
      "Got 3360 for page 145...\n",
      "Got 3384 for page 146...\n",
      "Got 3408 for page 147...\n",
      "Got 3432 for page 148...\n",
      "Got 3456 for page 149...\n",
      "Got 3480 for page 150...\n",
      "Got 3504 for page 151...\n",
      "Got 3528 for page 152...\n",
      "Got 3552 for page 153...\n",
      "Got 3576 for page 154...\n",
      "Got 3600 for page 155...\n",
      "Got 3624 for page 156...\n",
      "Got 3648 for page 157...\n",
      "Got 3672 for page 158...\n",
      "Got 3696 for page 159...\n",
      "Got 3720 for page 160...\n",
      "Got 3744 for page 161...\n",
      "Got 3768 for page 162...\n",
      "Got 3792 for page 163...\n",
      "Got 3816 for page 164...\n",
      "Got 3840 for page 165...\n",
      "Got 3864 for page 166...\n",
      "Got 3888 for page 167...\n",
      "Got 3912 for page 168...\n",
      "Got 3936 for page 169...\n",
      "Got 3960 for page 170...\n",
      "Got 3984 for page 171...\n",
      "Got 4008 for page 172...\n",
      "Got 4032 for page 173...\n",
      "Got 4056 for page 174...\n",
      "Got 4080 for page 175...\n",
      "Got 4104 for page 176...\n",
      "Got 4128 for page 177...\n",
      "Got 4152 for page 178...\n",
      "Got 4176 for page 179...\n",
      "Got 4200 for page 180...\n",
      "Got 4224 for page 181...\n",
      "Got 4248 for page 182...\n",
      "Got 4272 for page 183...\n",
      "Got 4296 for page 184...\n",
      "Got 4320 for page 185...\n",
      "Got 4344 for page 186...\n",
      "Got 4368 for page 187...\n",
      "Got 4392 for page 188...\n",
      "Got 4416 for page 189...\n",
      "Got 4440 for page 190...\n",
      "Got 4464 for page 191...\n",
      "Got 4488 for page 192...\n",
      "Got 4512 for page 193...\n",
      "Got 4536 for page 194...\n",
      "Got 4560 for page 195...\n",
      "Got 4584 for page 196...\n",
      "Got 4608 for page 197...\n",
      "Got 4632 for page 198...\n",
      "Got 4656 for page 199...\n",
      "Got 4680 for page 200...\n",
      "Got 4704 for page 201...\n",
      "Got 4728 for page 202...\n",
      "Got 4752 for page 203...\n",
      "Got 4776 for page 204...\n",
      "Got 4800 for page 205...\n",
      "Got 4824 for page 206...\n",
      "Got 4848 for page 207...\n",
      "Got 4872 for page 208...\n",
      "Got 4872 for page 209...\n",
      "Got 4896 for page 210...\n",
      "Got 4920 for page 211...\n",
      "Got 4944 for page 212...\n",
      "Got 4968 for page 213...\n",
      "Got 4992 for page 214...\n",
      "Got 5016 for page 215...\n",
      "Got 5040 for page 216...\n",
      "Got 5064 for page 217...\n",
      "Got 5088 for page 218...\n",
      "Got 5112 for page 219...\n",
      "Got 5136 for page 220...\n",
      "Got 5160 for page 221...\n",
      "Got 5184 for page 222...\n",
      "Got 5208 for page 223...\n",
      "Got 5232 for page 224...\n",
      "Got 5256 for page 225...\n",
      "Got 5280 for page 226...\n",
      "Got 5304 for page 227...\n",
      "Got 5328 for page 228...\n",
      "Got 5352 for page 229...\n",
      "Got 5376 for page 230...\n",
      "Got 5400 for page 231...\n",
      "Got 5424 for page 232...\n",
      "Got 5448 for page 233...\n",
      "Got 5472 for page 234...\n",
      "Got 5496 for page 235...\n",
      "Got 5520 for page 236...\n",
      "Got 5544 for page 237...\n",
      "Got 5568 for page 238...\n",
      "Got 5592 for page 239...\n",
      "Got 5616 for page 240...\n",
      "Got 5640 for page 241...\n",
      "Got 5664 for page 242...\n",
      "Got 5688 for page 243...\n",
      "Got 5712 for page 244...\n",
      "Got 5736 for page 245...\n",
      "Got 5760 for page 246...\n",
      "Got 5784 for page 247...\n",
      "Got 5808 for page 248...\n",
      "Got 5832 for page 249...\n",
      "Got 5856 for page 250...\n",
      "Got 5880 for page 251...\n",
      "Got 5904 for page 252...\n",
      "Got 5928 for page 253...\n",
      "Got 5952 for page 254...\n",
      "Got 5976 for page 255...\n",
      "Got 6000 for page 256...\n",
      "Got 6024 for page 257...\n",
      "Got 6048 for page 258...\n",
      "Got 6072 for page 259...\n",
      "Got 6096 for page 260...\n",
      "Got 6120 for page 261...\n",
      "Got 6144 for page 262...\n",
      "Got 6168 for page 263...\n",
      "Got 6192 for page 264...\n",
      "Got 6216 for page 265...\n",
      "Got 6240 for page 266...\n",
      "Got 6264 for page 267...\n",
      "Got 6288 for page 268...\n",
      "Got 6312 for page 269...\n",
      "Got 6336 for page 270...\n",
      "Got 6360 for page 271...\n",
      "Got 6384 for page 272...\n",
      "Got 6408 for page 273...\n",
      "Got 6432 for page 274...\n",
      "Got 6456 for page 275...\n",
      "Got 6479 for page 276...\n",
      "Got 6503 for page 277...\n",
      "Got 6527 for page 278...\n",
      "Got 6551 for page 279...\n",
      "Got 6575 for page 280...\n",
      "Got 6599 for page 281...\n",
      "Got 6623 for page 282...\n",
      "Got 6647 for page 283...\n",
      "Got 6671 for page 284...\n",
      "Got 6695 for page 285...\n",
      "Got 6719 for page 286...\n",
      "Got 6743 for page 287...\n",
      "Got 6767 for page 288...\n",
      "Got 6791 for page 289...\n",
      "Got 6815 for page 290...\n",
      "Got 6839 for page 291...\n",
      "Got 6863 for page 292...\n",
      "Got 6887 for page 293...\n",
      "Got 6911 for page 294...\n",
      "Got 6935 for page 295...\n",
      "Got 6959 for page 296...\n",
      "Got 6983 for page 297...\n",
      "Got 7007 for page 298...\n",
      "Got 7031 for page 299...\n",
      "Got 7055 for page 300...\n",
      "Got 7079 for page 301...\n",
      "Got 7103 for page 302...\n",
      "Got 7127 for page 303...\n",
      "Got 7151 for page 304...\n",
      "Got 7175 for page 305...\n",
      "Got 7199 for page 306...\n",
      "Got 7223 for page 307...\n",
      "Got 7247 for page 308...\n",
      "Got 7271 for page 309...\n",
      "Got 7295 for page 310...\n",
      "Got 7319 for page 311...\n",
      "Got 7343 for page 312...\n",
      "Got 7367 for page 313...\n",
      "Got 7391 for page 314...\n",
      "Got 7415 for page 315...\n",
      "Got 7439 for page 316...\n",
      "Got 7463 for page 317...\n",
      "Got 7487 for page 318...\n",
      "Got 7511 for page 319...\n",
      "Got 7535 for page 320...\n",
      "Got 7559 for page 321...\n",
      "Got 7583 for page 322...\n",
      "Got 7607 for page 323...\n",
      "Got 7631 for page 324...\n",
      "Got 7655 for page 325...\n",
      "Got 7679 for page 326...\n",
      "Got 7703 for page 327...\n",
      "Got 7727 for page 328...\n",
      "Got 7751 for page 329...\n",
      "Got 7775 for page 330...\n",
      "Got 7799 for page 331...\n",
      "Got 7823 for page 332...\n",
      "Got 7847 for page 333...\n",
      "Got 7871 for page 334...\n",
      "Got 7895 for page 335...\n",
      "Got 7919 for page 336...\n",
      "Got 7943 for page 337...\n",
      "Got 7943 for page 338...\n",
      "Got 7943 for page 339...\n",
      "Got 7991 for page 340...\n",
      "Got 8015 for page 341...\n",
      "Got 8039 for page 342...\n",
      "Got 8063 for page 343...\n",
      "Got 8087 for page 344...\n",
      "Got 8111 for page 345...\n",
      "Got 8135 for page 346...\n",
      "Got 8159 for page 347...\n",
      "Got 8183 for page 348...\n",
      "Got 8207 for page 349...\n",
      "Got 8231 for page 350...\n",
      "Got 8255 for page 351...\n",
      "Got 8279 for page 352...\n",
      "Got 8303 for page 353...\n",
      "Got 8327 for page 354...\n",
      "Got 8351 for page 355...\n",
      "Got 8375 for page 356...\n",
      "Got 8399 for page 357...\n",
      "Got 8423 for page 358...\n",
      "Got 8447 for page 359...\n",
      "Got 8471 for page 360...\n",
      "Got 8495 for page 361...\n",
      "Got 8519 for page 362...\n",
      "Got 8543 for page 363...\n",
      "Got 8567 for page 364...\n",
      "Got 8591 for page 365...\n",
      "Got 8615 for page 366...\n",
      "Got 8639 for page 367...\n",
      "Got 8663 for page 368...\n",
      "Got 8687 for page 369...\n",
      "Got 8711 for page 370...\n",
      "Got 8735 for page 371...\n",
      "Got 8759 for page 372...\n",
      "Got 8783 for page 373...\n",
      "Got 8807 for page 374...\n",
      "Got 8831 for page 375...\n",
      "Got 8855 for page 376...\n",
      "Got 8879 for page 377...\n",
      "Got 8903 for page 378...\n",
      "Got 8927 for page 379...\n",
      "Got 8951 for page 380...\n",
      "Got 8975 for page 381...\n",
      "Got 8999 for page 382...\n",
      "Got 9023 for page 383...\n",
      "Got 9047 for page 384...\n",
      "Got 9071 for page 385...\n",
      "Got 9095 for page 386...\n",
      "Got 9119 for page 387...\n",
      "Got 9143 for page 388...\n",
      "Got 9167 for page 389...\n",
      "Got 9191 for page 390...\n",
      "Got 9215 for page 391...\n",
      "Got 9239 for page 392...\n",
      "Got 9263 for page 393...\n",
      "Got 9287 for page 394...\n",
      "Got 9311 for page 395...\n",
      "Got 9335 for page 396...\n",
      "Got 9359 for page 397...\n",
      "Got 9378 for page 398...\n",
      "Got 9402 for page 399...\n",
      "Got 9426 for page 400...\n",
      "Got 9450 for page 401...\n",
      "Got 9474 for page 402...\n",
      "Got 9498 for page 403...\n",
      "Got 9522 for page 404...\n",
      "Got 9546 for page 405...\n",
      "Got 9570 for page 406...\n",
      "Got 9594 for page 407...\n",
      "Got 9618 for page 408...\n",
      "Got 9642 for page 409...\n",
      "Got 9666 for page 410...\n",
      "Got 9690 for page 411...\n",
      "Got 9714 for page 412...\n",
      "Got 9738 for page 413...\n",
      "Got 9762 for page 414...\n",
      "Got 9786 for page 415...\n",
      "Got 9810 for page 416...\n",
      "Got 9834 for page 417...\n",
      "Got 9858 for page 418...\n",
      "Got 9882 for page 419...\n",
      "Got 9906 for page 420...\n",
      "Got 9930 for page 421...\n",
      "Got 9954 for page 422...\n",
      "Got 9978 for page 423...\n",
      "Got 10002 for page 424...\n",
      "Got 10026 for page 425...\n",
      "Got 10050 for page 426...\n",
      "Got 10074 for page 427...\n",
      "Got 10098 for page 428...\n",
      "Got 10122 for page 429...\n",
      "Got 10146 for page 430...\n",
      "Got 10170 for page 431...\n",
      "Got 10194 for page 432...\n",
      "Got 10218 for page 433...\n",
      "Got 10242 for page 434...\n",
      "Got 10266 for page 435...\n",
      "Got 10290 for page 436...\n",
      "Got 10314 for page 437...\n",
      "Got 10338 for page 438...\n",
      "Got 10362 for page 439...\n",
      "Got 10386 for page 440...\n",
      "Got 10410 for page 441...\n",
      "Got 10434 for page 442...\n",
      "Got 10458 for page 443...\n",
      "Got 10482 for page 444...\n",
      "Got 10506 for page 445...\n",
      "Got 10530 for page 446...\n",
      "Got 10554 for page 447...\n",
      "Got 10578 for page 448...\n",
      "Got 10602 for page 449...\n",
      "Got 10626 for page 450...\n",
      "Got 10650 for page 451...\n",
      "Got 10674 for page 452...\n",
      "Got 10698 for page 453...\n",
      "Got 10722 for page 454...\n",
      "Got 10746 for page 455...\n",
      "Got 10770 for page 456...\n",
      "Got 10794 for page 457...\n",
      "Got 10818 for page 458...\n",
      "Got 10842 for page 459...\n",
      "Got 10866 for page 460...\n",
      "Got 10890 for page 461...\n",
      "Got 10914 for page 462...\n",
      "Got 10938 for page 463...\n",
      "Got 10962 for page 464...\n",
      "Got 10986 for page 465...\n",
      "Got 11010 for page 466...\n",
      "Got 11034 for page 467...\n",
      "Got 11058 for page 468...\n",
      "Got 11082 for page 469...\n",
      "Got 11106 for page 470...\n",
      "Got 11130 for page 471...\n",
      "Got 11154 for page 472...\n",
      "Got 11178 for page 473...\n",
      "Got 11202 for page 474...\n",
      "Got 11226 for page 475...\n",
      "Got 11250 for page 476...\n",
      "Got 11274 for page 477...\n",
      "Got 11298 for page 478...\n",
      "Got 11322 for page 479...\n",
      "Got 11346 for page 480...\n",
      "Got 11370 for page 481...\n",
      "Got 11394 for page 482...\n",
      "Got 11394 for page 483...\n",
      "Got 11394 for page 484...\n",
      "Got 11394 for page 485...\n",
      "Got 11394 for page 486...\n",
      "Got 11394 for page 487...\n",
      "Got 11394 for page 488...\n",
      "Got 11394 for page 489...\n",
      "Got 11394 for page 490...\n",
      "Got 11394 for page 491...\n",
      "Got 11394 for page 492...\n",
      "Got 11394 for page 493...\n",
      "Got 11394 for page 494...\n",
      "Got 11394 for page 495...\n",
      "Got 11394 for page 496...\n",
      "Got 11394 for page 497...\n",
      "Got 11394 for page 498...\n",
      "Got 11394 for page 499...\n",
      "Got 11394 for page 500...\n",
      "Got 11394 for page 501...\n",
      "Got 11394 for page 502...\n",
      "Got 11394 for page 503...\n",
      "Got 11394 for page 504...\n",
      "Got 11394 for page 505...\n",
      "Got 11394 for page 506...\n",
      "Got 11394 for page 507...\n",
      "Got 11394 for page 508...\n",
      "Got 11394 for page 509...\n",
      "Got 11394 for page 510...\n",
      "Got 11394 for page 511...\n",
      "Got 11394 for page 512...\n",
      "Got 11394 for page 513...\n",
      "Got 11394 for page 514...\n",
      "Got 11394 for page 515...\n",
      "Got 11394 for page 516...\n",
      "Got 11394 for page 517...\n",
      "Got 11394 for page 518...\n",
      "Got 11394 for page 519...\n",
      "Got 11394 for page 520...\n",
      "Got 11394 for page 521...\n",
      "Got 11394 for page 522...\n",
      "Got 11394 for page 523...\n",
      "Got 11394 for page 524...\n",
      "Got 11394 for page 525...\n",
      "Got 11394 for page 526...\n",
      "Got 11394 for page 527...\n",
      "Got 11394 for page 528...\n",
      "Got 11394 for page 529...\n",
      "Got 11394 for page 530...\n",
      "Got 11394 for page 531...\n",
      "Got 11394 for page 532...\n",
      "Got 11394 for page 533...\n",
      "Got 11394 for page 534...\n",
      "Got 11394 for page 535...\n",
      "Got 11394 for page 536...\n",
      "Got 11394 for page 537...\n",
      "Got 11394 for page 538...\n",
      "Got 11394 for page 539...\n",
      "Got 11394 for page 540...\n",
      "Got 11394 for page 541...\n",
      "Got 11394 for page 542...\n",
      "Got 11394 for page 543...\n",
      "Got 11394 for page 544...\n",
      "Got 11394 for page 545...\n",
      "Got 11394 for page 546...\n",
      "Got 11394 for page 547...\n",
      "Got 11394 for page 548...\n",
      "Got 11394 for page 549...\n",
      "Got 11394 for page 550...\n",
      "Got 11394 for page 551...\n",
      "Got 11394 for page 552...\n",
      "Got 11394 for page 553...\n",
      "Got 11394 for page 554...\n",
      "Got 11394 for page 555...\n",
      "Got 11394 for page 556...\n",
      "Got 11394 for page 557...\n",
      "Got 11394 for page 558...\n",
      "Got 11394 for page 559...\n",
      "Got 11394 for page 560...\n",
      "Got 11394 for page 561...\n",
      "Got 11394 for page 562...\n",
      "Got 11394 for page 563...\n",
      "Got 11394 for page 564...\n",
      "Got 11394 for page 565...\n",
      "Got 11394 for page 566...\n",
      "Got 11394 for page 567...\n",
      "Got 11394 for page 568...\n",
      "Got 11394 for page 569...\n",
      "Got 11394 for page 570...\n",
      "Got 11394 for page 571...\n",
      "Got 11394 for page 572...\n",
      "Got 11394 for page 573...\n",
      "Got 11394 for page 574...\n",
      "Got 11394 for page 575...\n",
      "Got 11394 for page 576...\n",
      "Got 11394 for page 577...\n",
      "Got 11394 for page 578...\n",
      "Got 11394 for page 579...\n",
      "Got 11394 for page 580...\n",
      "Got 11394 for page 581...\n",
      "Got 11394 for page 582...\n",
      "Got 11394 for page 583...\n",
      "Got 11394 for page 584...\n",
      "Got 11394 for page 585...\n",
      "Got 11394 for page 586...\n",
      "Got 11394 for page 587...\n",
      "Got 11394 for page 588...\n",
      "Got 11394 for page 589...\n",
      "Got 11394 for page 590...\n",
      "Got 11394 for page 591...\n",
      "Got 11394 for page 592...\n",
      "Got 11394 for page 593...\n",
      "Got 11394 for page 594...\n",
      "Got 11394 for page 595...\n",
      "Got 11394 for page 596...\n",
      "Got 11394 for page 597...\n"
     ]
    },
    {
     "ename": "KeyboardInterrupt",
     "evalue": "",
     "output_type": "error",
     "traceback": [
      "\u001b[1;31m---------------------------------------------------------------------------\u001b[0m",
      "\u001b[1;31mKeyboardInterrupt\u001b[0m                         Traceback (most recent call last)",
      "Cell \u001b[1;32mIn[87], line 6\u001b[0m\n\u001b[0;32m      4\u001b[0m driver\u001b[38;5;241m.\u001b[39mexecute_script(\u001b[38;5;124m\"\u001b[39m\u001b[38;5;124mwindow.scrollTo(0, document.body.scrollHeight);\u001b[39m\u001b[38;5;124m\"\u001b[39m)\n\u001b[0;32m      5\u001b[0m time\u001b[38;5;241m.\u001b[39msleep(\u001b[38;5;241m10\u001b[39m)\n\u001b[1;32m----> 6\u001b[0m soup \u001b[38;5;241m=\u001b[39m BeautifulSoup(driver\u001b[38;5;241m.\u001b[39mpage_source, \u001b[38;5;124m'\u001b[39m\u001b[38;5;124mhtml.parser\u001b[39m\u001b[38;5;124m'\u001b[39m)\n\u001b[0;32m      7\u001b[0m res \u001b[38;5;241m=\u001b[39m scrape_page(soup)\n\u001b[0;32m      8\u001b[0m data\u001b[38;5;241m.\u001b[39mextend(res)\n",
      "File \u001b[1;32m~\\anaconda3\\Lib\\site-packages\\bs4\\__init__.py:335\u001b[0m, in \u001b[0;36mBeautifulSoup.__init__\u001b[1;34m(self, markup, features, builder, parse_only, from_encoding, exclude_encodings, element_classes, **kwargs)\u001b[0m\n\u001b[0;32m    333\u001b[0m \u001b[38;5;28mself\u001b[39m\u001b[38;5;241m.\u001b[39mbuilder\u001b[38;5;241m.\u001b[39minitialize_soup(\u001b[38;5;28mself\u001b[39m)\n\u001b[0;32m    334\u001b[0m \u001b[38;5;28;01mtry\u001b[39;00m:\n\u001b[1;32m--> 335\u001b[0m     \u001b[38;5;28mself\u001b[39m\u001b[38;5;241m.\u001b[39m_feed()\n\u001b[0;32m    336\u001b[0m     success \u001b[38;5;241m=\u001b[39m \u001b[38;5;28;01mTrue\u001b[39;00m\n\u001b[0;32m    337\u001b[0m     \u001b[38;5;28;01mbreak\u001b[39;00m\n",
      "File \u001b[1;32m~\\anaconda3\\Lib\\site-packages\\bs4\\__init__.py:478\u001b[0m, in \u001b[0;36mBeautifulSoup._feed\u001b[1;34m(self)\u001b[0m\n\u001b[0;32m    475\u001b[0m \u001b[38;5;66;03m# Convert the document to Unicode.\u001b[39;00m\n\u001b[0;32m    476\u001b[0m \u001b[38;5;28mself\u001b[39m\u001b[38;5;241m.\u001b[39mbuilder\u001b[38;5;241m.\u001b[39mreset()\n\u001b[1;32m--> 478\u001b[0m \u001b[38;5;28mself\u001b[39m\u001b[38;5;241m.\u001b[39mbuilder\u001b[38;5;241m.\u001b[39mfeed(\u001b[38;5;28mself\u001b[39m\u001b[38;5;241m.\u001b[39mmarkup)\n\u001b[0;32m    479\u001b[0m \u001b[38;5;66;03m# Close out any unfinished strings and close all the open tags.\u001b[39;00m\n\u001b[0;32m    480\u001b[0m \u001b[38;5;28mself\u001b[39m\u001b[38;5;241m.\u001b[39mendData()\n",
      "File \u001b[1;32m~\\anaconda3\\Lib\\site-packages\\bs4\\builder\\_htmlparser.py:380\u001b[0m, in \u001b[0;36mHTMLParserTreeBuilder.feed\u001b[1;34m(self, markup)\u001b[0m\n\u001b[0;32m    378\u001b[0m parser\u001b[38;5;241m.\u001b[39msoup \u001b[38;5;241m=\u001b[39m \u001b[38;5;28mself\u001b[39m\u001b[38;5;241m.\u001b[39msoup\n\u001b[0;32m    379\u001b[0m \u001b[38;5;28;01mtry\u001b[39;00m:\n\u001b[1;32m--> 380\u001b[0m     parser\u001b[38;5;241m.\u001b[39mfeed(markup)\n\u001b[0;32m    381\u001b[0m \u001b[38;5;28;01mexcept\u001b[39;00m \u001b[38;5;167;01mAssertionError\u001b[39;00m \u001b[38;5;28;01mas\u001b[39;00m e:\n\u001b[0;32m    382\u001b[0m     \u001b[38;5;66;03m# html.parser raises AssertionError in rare cases to\u001b[39;00m\n\u001b[0;32m    383\u001b[0m     \u001b[38;5;66;03m# indicate a fatal problem with the markup, especially\u001b[39;00m\n\u001b[0;32m    384\u001b[0m     \u001b[38;5;66;03m# when there's an error in the doctype declaration.\u001b[39;00m\n\u001b[0;32m    385\u001b[0m     \u001b[38;5;28;01mraise\u001b[39;00m ParserRejectedMarkup(e)\n",
      "File \u001b[1;32m~\\anaconda3\\Lib\\html\\parser.py:110\u001b[0m, in \u001b[0;36mHTMLParser.feed\u001b[1;34m(self, data)\u001b[0m\n\u001b[0;32m    104\u001b[0m \u001b[38;5;250m\u001b[39m\u001b[38;5;124mr\u001b[39m\u001b[38;5;124;03m\"\"\"Feed data to the parser.\u001b[39;00m\n\u001b[0;32m    105\u001b[0m \n\u001b[0;32m    106\u001b[0m \u001b[38;5;124;03mCall this as often as you want, with as little or as much text\u001b[39;00m\n\u001b[0;32m    107\u001b[0m \u001b[38;5;124;03mas you want (may include '\\n').\u001b[39;00m\n\u001b[0;32m    108\u001b[0m \u001b[38;5;124;03m\"\"\"\u001b[39;00m\n\u001b[0;32m    109\u001b[0m \u001b[38;5;28mself\u001b[39m\u001b[38;5;241m.\u001b[39mrawdata \u001b[38;5;241m=\u001b[39m \u001b[38;5;28mself\u001b[39m\u001b[38;5;241m.\u001b[39mrawdata \u001b[38;5;241m+\u001b[39m data\n\u001b[1;32m--> 110\u001b[0m \u001b[38;5;28mself\u001b[39m\u001b[38;5;241m.\u001b[39mgoahead(\u001b[38;5;241m0\u001b[39m)\n",
      "File \u001b[1;32m~\\anaconda3\\Lib\\html\\parser.py:172\u001b[0m, in \u001b[0;36mHTMLParser.goahead\u001b[1;34m(self, end)\u001b[0m\n\u001b[0;32m    170\u001b[0m     k \u001b[38;5;241m=\u001b[39m \u001b[38;5;28mself\u001b[39m\u001b[38;5;241m.\u001b[39mparse_starttag(i)\n\u001b[0;32m    171\u001b[0m \u001b[38;5;28;01melif\u001b[39;00m startswith(\u001b[38;5;124m\"\u001b[39m\u001b[38;5;124m</\u001b[39m\u001b[38;5;124m\"\u001b[39m, i):\n\u001b[1;32m--> 172\u001b[0m     k \u001b[38;5;241m=\u001b[39m \u001b[38;5;28mself\u001b[39m\u001b[38;5;241m.\u001b[39mparse_endtag(i)\n\u001b[0;32m    173\u001b[0m \u001b[38;5;28;01melif\u001b[39;00m startswith(\u001b[38;5;124m\"\u001b[39m\u001b[38;5;124m<!--\u001b[39m\u001b[38;5;124m\"\u001b[39m, i):\n\u001b[0;32m    174\u001b[0m     k \u001b[38;5;241m=\u001b[39m \u001b[38;5;28mself\u001b[39m\u001b[38;5;241m.\u001b[39mparse_comment(i)\n",
      "File \u001b[1;32m~\\anaconda3\\Lib\\html\\parser.py:413\u001b[0m, in \u001b[0;36mHTMLParser.parse_endtag\u001b[1;34m(self, i)\u001b[0m\n\u001b[0;32m    410\u001b[0m         \u001b[38;5;28mself\u001b[39m\u001b[38;5;241m.\u001b[39mhandle_data(rawdata[i:gtpos])\n\u001b[0;32m    411\u001b[0m         \u001b[38;5;28;01mreturn\u001b[39;00m gtpos\n\u001b[1;32m--> 413\u001b[0m \u001b[38;5;28mself\u001b[39m\u001b[38;5;241m.\u001b[39mhandle_endtag(elem)\n\u001b[0;32m    414\u001b[0m \u001b[38;5;28mself\u001b[39m\u001b[38;5;241m.\u001b[39mclear_cdata_mode()\n\u001b[0;32m    415\u001b[0m \u001b[38;5;28;01mreturn\u001b[39;00m gtpos\n",
      "File \u001b[1;32m~\\anaconda3\\Lib\\site-packages\\bs4\\builder\\_htmlparser.py:176\u001b[0m, in \u001b[0;36mBeautifulSoupHTMLParser.handle_endtag\u001b[1;34m(self, name, check_already_closed)\u001b[0m\n\u001b[0;32m    174\u001b[0m     \u001b[38;5;28mself\u001b[39m\u001b[38;5;241m.\u001b[39malready_closed_empty_element\u001b[38;5;241m.\u001b[39mremove(name)\n\u001b[0;32m    175\u001b[0m \u001b[38;5;28;01melse\u001b[39;00m:\n\u001b[1;32m--> 176\u001b[0m     \u001b[38;5;28mself\u001b[39m\u001b[38;5;241m.\u001b[39msoup\u001b[38;5;241m.\u001b[39mhandle_endtag(name)\n",
      "File \u001b[1;32m~\\anaconda3\\Lib\\site-packages\\bs4\\__init__.py:770\u001b[0m, in \u001b[0;36mBeautifulSoup.handle_endtag\u001b[1;34m(self, name, nsprefix)\u001b[0m\n\u001b[0;32m    764\u001b[0m \u001b[38;5;250m\u001b[39m\u001b[38;5;124;03m\"\"\"Called by the tree builder when an ending tag is encountered.\u001b[39;00m\n\u001b[0;32m    765\u001b[0m \n\u001b[0;32m    766\u001b[0m \u001b[38;5;124;03m:param name: Name of the tag.\u001b[39;00m\n\u001b[0;32m    767\u001b[0m \u001b[38;5;124;03m:param nsprefix: Namespace prefix for the tag.\u001b[39;00m\n\u001b[0;32m    768\u001b[0m \u001b[38;5;124;03m\"\"\"\u001b[39;00m\n\u001b[0;32m    769\u001b[0m \u001b[38;5;66;03m#print(\"End tag: \" + name)\u001b[39;00m\n\u001b[1;32m--> 770\u001b[0m \u001b[38;5;28mself\u001b[39m\u001b[38;5;241m.\u001b[39mendData()\n\u001b[0;32m    771\u001b[0m \u001b[38;5;28mself\u001b[39m\u001b[38;5;241m.\u001b[39m_popToTag(name, nsprefix)\n",
      "File \u001b[1;32m~\\anaconda3\\Lib\\site-packages\\bs4\\__init__.py:586\u001b[0m, in \u001b[0;36mBeautifulSoup.endData\u001b[1;34m(self, containerClass)\u001b[0m\n\u001b[0;32m    583\u001b[0m     \u001b[38;5;28;01mif\u001b[39;00m tag\u001b[38;5;241m.\u001b[39mname \u001b[38;5;129;01min\u001b[39;00m \u001b[38;5;28mself\u001b[39m\u001b[38;5;241m.\u001b[39mbuilder\u001b[38;5;241m.\u001b[39mstring_containers:\n\u001b[0;32m    584\u001b[0m         \u001b[38;5;28mself\u001b[39m\u001b[38;5;241m.\u001b[39mstring_container_stack\u001b[38;5;241m.\u001b[39mappend(tag)\n\u001b[1;32m--> 586\u001b[0m \u001b[38;5;28;01mdef\u001b[39;00m \u001b[38;5;21mendData\u001b[39m(\u001b[38;5;28mself\u001b[39m, containerClass\u001b[38;5;241m=\u001b[39m\u001b[38;5;28;01mNone\u001b[39;00m):\n\u001b[0;32m    587\u001b[0m \u001b[38;5;250m    \u001b[39m\u001b[38;5;124;03m\"\"\"Method called by the TreeBuilder when the end of a data segment\u001b[39;00m\n\u001b[0;32m    588\u001b[0m \u001b[38;5;124;03m    occurs.\u001b[39;00m\n\u001b[0;32m    589\u001b[0m \u001b[38;5;124;03m    \"\"\"\u001b[39;00m       \n\u001b[0;32m    590\u001b[0m     \u001b[38;5;28;01mif\u001b[39;00m \u001b[38;5;28mself\u001b[39m\u001b[38;5;241m.\u001b[39mcurrent_data:\n",
      "\u001b[1;31mKeyboardInterrupt\u001b[0m: "
     ]
    }
   ],
   "source": [
    "number_of_pages = 1663\n",
    "data = []\n",
    "for page in range(number_of_pages):\n",
    "    driver.execute_script(\"window.scrollTo(0, document.body.scrollHeight);\")\n",
    "    time.sleep(10)\n",
    "    soup = BeautifulSoup(driver.page_source, 'html.parser')\n",
    "    res = scrape_page(soup)\n",
    "    data.extend(res)\n",
    "    print(f\"Got {len(res)} for page {page+1}...\")\n"
   ]
  },
  {
   "cell_type": "markdown",
   "id": "4afb6926-709e-4057-8c17-41ee7e521ba0",
   "metadata": {},
   "source": [
    "We can check the first `2` examples in the scrapped data."
   ]
  },
  {
   "cell_type": "code",
   "execution_count": 89,
   "id": "05543146-f306-44f0-b6bd-864662cbc93f",
   "metadata": {},
   "outputs": [
    {
     "data": {
      "text/plain": [
       "[{'class': 'beetle',\n",
       "  'image': 'https://bugwoodcloud.org/images/384x256/9009089.jpg'},\n",
       " {'class': 'borer',\n",
       "  'image': 'https://bugwoodcloud.org/images/384x256/9009087.jpg'}]"
      ]
     },
     "execution_count": 89,
     "metadata": {},
     "output_type": "execute_result"
    }
   ],
   "source": [
    "data[:2]"
   ]
  },
  {
   "cell_type": "markdown",
   "id": "0e74f020-de31-4498-a9ac-bcef5db34638",
   "metadata": {},
   "source": [
    "In the following code cell we are going to create a dataframe based on the data that we have scrapped."
   ]
  },
  {
   "cell_type": "code",
   "execution_count": 91,
   "id": "aed47d1e-bf2b-4d09-b383-4b4ca87df548",
   "metadata": {},
   "outputs": [
    {
     "data": {
      "text/html": [
       "<div>\n",
       "<style scoped>\n",
       "    .dataframe tbody tr th:only-of-type {\n",
       "        vertical-align: middle;\n",
       "    }\n",
       "\n",
       "    .dataframe tbody tr th {\n",
       "        vertical-align: top;\n",
       "    }\n",
       "\n",
       "    .dataframe thead th {\n",
       "        text-align: right;\n",
       "    }\n",
       "</style>\n",
       "<table border=\"1\" class=\"dataframe\">\n",
       "  <thead>\n",
       "    <tr style=\"text-align: right;\">\n",
       "      <th></th>\n",
       "      <th>class</th>\n",
       "      <th>image</th>\n",
       "    </tr>\n",
       "  </thead>\n",
       "  <tbody>\n",
       "    <tr>\n",
       "      <th>0</th>\n",
       "      <td>beetle</td>\n",
       "      <td>https://bugwoodcloud.org/images/384x256/900908...</td>\n",
       "    </tr>\n",
       "    <tr>\n",
       "      <th>1</th>\n",
       "      <td>borer</td>\n",
       "      <td>https://bugwoodcloud.org/images/384x256/900908...</td>\n",
       "    </tr>\n",
       "    <tr>\n",
       "      <th>2</th>\n",
       "      <td>borer</td>\n",
       "      <td>https://bugwoodcloud.org/images/384x256/900908...</td>\n",
       "    </tr>\n",
       "    <tr>\n",
       "      <th>3</th>\n",
       "      <td>borer</td>\n",
       "      <td>https://bugwoodcloud.org/images/384x256/900908...</td>\n",
       "    </tr>\n",
       "    <tr>\n",
       "      <th>4</th>\n",
       "      <td>beetles</td>\n",
       "      <td>https://bugwoodcloud.org/images/384x256/900905...</td>\n",
       "    </tr>\n",
       "  </tbody>\n",
       "</table>\n",
       "</div>"
      ],
      "text/plain": [
       "     class                                              image\n",
       "0   beetle  https://bugwoodcloud.org/images/384x256/900908...\n",
       "1    borer  https://bugwoodcloud.org/images/384x256/900908...\n",
       "2    borer  https://bugwoodcloud.org/images/384x256/900908...\n",
       "3    borer  https://bugwoodcloud.org/images/384x256/900908...\n",
       "4  beetles  https://bugwoodcloud.org/images/384x256/900905..."
      ]
     },
     "execution_count": 91,
     "metadata": {},
     "output_type": "execute_result"
    }
   ],
   "source": [
    "paired = [list(r.values()) for r in data]\n",
    "\n",
    "df = pd.DataFrame(paired, columns=['class', 'image'])\n",
    "df.head()"
   ]
  },
  {
   "cell_type": "markdown",
   "id": "fe01ae3a-4451-40a1-afe0-c6bee42692bc",
   "metadata": {},
   "source": [
    "Next we are going to drop the duplicates columns based on the `image` column and filter them to `2` labels for insects which is:\n",
    "\n",
    "1. `beetle`\n",
    "2. `weevil`\n"
   ]
  },
  {
   "cell_type": "code",
   "execution_count": 105,
   "id": "40aaa9e8-31e7-4577-a7d7-dfbb9cd4823b",
   "metadata": {},
   "outputs": [
    {
     "data": {
      "text/html": [
       "<div>\n",
       "<style scoped>\n",
       "    .dataframe tbody tr th:only-of-type {\n",
       "        vertical-align: middle;\n",
       "    }\n",
       "\n",
       "    .dataframe tbody tr th {\n",
       "        vertical-align: top;\n",
       "    }\n",
       "\n",
       "    .dataframe thead th {\n",
       "        text-align: right;\n",
       "    }\n",
       "</style>\n",
       "<table border=\"1\" class=\"dataframe\">\n",
       "  <thead>\n",
       "    <tr style=\"text-align: right;\">\n",
       "      <th></th>\n",
       "      <th>class</th>\n",
       "      <th>image</th>\n",
       "    </tr>\n",
       "  </thead>\n",
       "  <tbody>\n",
       "    <tr>\n",
       "      <th>0</th>\n",
       "      <td>beetle</td>\n",
       "      <td>https://bugwoodcloud.org/images/384x256/900908...</td>\n",
       "    </tr>\n",
       "    <tr>\n",
       "      <th>8</th>\n",
       "      <td>beetle</td>\n",
       "      <td>https://bugwoodcloud.org/images/384x256/900904...</td>\n",
       "    </tr>\n",
       "    <tr>\n",
       "      <th>9</th>\n",
       "      <td>beetle</td>\n",
       "      <td>https://bugwoodcloud.org/images/384x256/900903...</td>\n",
       "    </tr>\n",
       "    <tr>\n",
       "      <th>10</th>\n",
       "      <td>beetle</td>\n",
       "      <td>https://bugwoodcloud.org/images/384x256/900903...</td>\n",
       "    </tr>\n",
       "    <tr>\n",
       "      <th>11</th>\n",
       "      <td>beetle</td>\n",
       "      <td>https://bugwoodcloud.org/images/384x256/900903...</td>\n",
       "    </tr>\n",
       "  </tbody>\n",
       "</table>\n",
       "</div>"
      ],
      "text/plain": [
       "     class                                              image\n",
       "0   beetle  https://bugwoodcloud.org/images/384x256/900908...\n",
       "8   beetle  https://bugwoodcloud.org/images/384x256/900904...\n",
       "9   beetle  https://bugwoodcloud.org/images/384x256/900903...\n",
       "10  beetle  https://bugwoodcloud.org/images/384x256/900903...\n",
       "11  beetle  https://bugwoodcloud.org/images/384x256/900903..."
      ]
     },
     "execution_count": 105,
     "metadata": {},
     "output_type": "execute_result"
    }
   ],
   "source": [
    "df_unique = df.drop_duplicates(subset='image')\n",
    "df_filtered = df_unique[df_unique['class'].isin([\"beetle\", \"weevil\"])]\n",
    "df_filtered.head()"
   ]
  },
  {
   "cell_type": "code",
   "execution_count": 107,
   "id": "451c8390-0d4d-4e0e-833d-3c17a9b531f1",
   "metadata": {},
   "outputs": [
    {
     "name": "stdout",
     "output_type": "stream",
     "text": [
      "Saved\n"
     ]
    }
   ],
   "source": [
    "df_filtered.to_csv('pickle.csv', index=False)\n",
    "print(\"Saved\")\n",
    "\n"
   ]
  },
  {
   "cell_type": "code",
   "execution_count": 3,
   "id": "eae3edec-3d07-472e-8d0c-6d421a017522",
   "metadata": {},
   "outputs": [],
   "source": [
    "df_filtered = pd.read_csv('pickle.csv')"
   ]
  },
  {
   "cell_type": "code",
   "execution_count": 4,
   "id": "23d14409-96a0-4698-848d-8ef57888a860",
   "metadata": {},
   "outputs": [
    {
     "data": {
      "text/plain": [
       "class\n",
       "beetle    8270\n",
       "weevil    1498\n",
       "Name: count, dtype: int64"
      ]
     },
     "execution_count": 4,
     "metadata": {},
     "output_type": "execute_result"
    }
   ],
   "source": [
    "df_filtered['class'].value_counts()"
   ]
  },
  {
   "cell_type": "markdown",
   "id": "9075eeb3-1c16-476b-99ae-92ce2a798bef",
   "metadata": {},
   "source": [
    "We can observe that we have `8270` and `1488` unique image of each class. Next we are going to download these images into their respective directories based on their class names. Before we donload them we want to make sure that they are balanced."
   ]
  },
  {
   "cell_type": "code",
   "execution_count": 5,
   "id": "e95748e4-d3ec-4409-9cff-f27a51dcf338",
   "metadata": {},
   "outputs": [
    {
     "data": {
      "text/plain": [
       "class\n",
       "beetle    1498\n",
       "weevil    1498\n",
       "Name: count, dtype: int64"
      ]
     },
     "execution_count": 5,
     "metadata": {},
     "output_type": "execute_result"
    }
   ],
   "source": [
    "min_size = df_filtered['class'].value_counts().min()\n",
    "df_balanced = df_filtered.groupby('class').apply(lambda x: x.sample(min_size)).reset_index(drop=True)\n",
    "df_balanced['class'].value_counts()"
   ]
  },
  {
   "cell_type": "code",
   "execution_count": 6,
   "id": "9feb2062-9543-47ae-abb6-0273c3faeacb",
   "metadata": {},
   "outputs": [],
   "source": [
    "base_dir = \"dataset\"\n",
    "beetle_dir = os.path.join(base_dir, 'beetle')\n",
    "weevil_dir = os.path.join(base_dir, 'weevil')\n",
    "\n",
    "if not os.path.exists(base_dir):\n",
    "    os.mkdir(base_dir)\n",
    "    \n",
    "if not os.path.exists(beetle_dir):\n",
    "    os.mkdir(beetle_dir)\n",
    "\n",
    "if not os.path.exists(weevil_dir):\n",
    "    os.mkdir(weevil_dir)"
   ]
  },
  {
   "cell_type": "markdown",
   "id": "dd36325b-2c7f-49f6-9ce4-3e09113e40c3",
   "metadata": {},
   "source": [
    "We are going to use the `ThreadPoolExecutor` from `concurrent.futures` to do multi-processing in downloading and saving the images concurrently. First let's check the number of `cpu's` that are in this computer."
   ]
  },
  {
   "cell_type": "code",
   "execution_count": 7,
   "id": "a3eea560-79cf-4b56-b68e-916962d6ec5e",
   "metadata": {},
   "outputs": [
    {
     "name": "stdout",
     "output_type": "stream",
     "text": [
      "CPUs: 12\n"
     ]
    }
   ],
   "source": [
    "num_workers = multiprocessing.cpu_count()\n",
    "print(\"CPUs: {}\".format(num_workers))"
   ]
  },
  {
   "cell_type": "markdown",
   "id": "5fc2b842-003b-4504-b107-16e625ed6ec5",
   "metadata": {},
   "source": [
    "We can try to get the images and their classes from a pandas dataframe to a python list of tuples."
   ]
  },
  {
   "cell_type": "code",
   "execution_count": 8,
   "id": "22054f72-546e-44ee-b554-355f40bbddb2",
   "metadata": {},
   "outputs": [],
   "source": [
    "img_urls = list(zip(\n",
    "    df_balanced['class'].values,\n",
    "    df_balanced['image'].values,\n",
    "))\n",
    "\n",
    "random.shuffle(img_urls)"
   ]
  },
  {
   "cell_type": "code",
   "execution_count": 9,
   "id": "17e24058-4b75-48f0-b7b0-d98ca6dfa70b",
   "metadata": {},
   "outputs": [
    {
     "data": {
      "text/plain": [
       "[('beetle', 'https://bugwoodcloud.org/images/384x256/5600013.jpg'),\n",
       " ('beetle', 'https://bugwoodcloud.org/images/384x256/5616726.jpg')]"
      ]
     },
     "execution_count": 9,
     "metadata": {},
     "output_type": "execute_result"
    }
   ],
   "source": [
    "img_urls[:2]"
   ]
  },
  {
   "cell_type": "markdown",
   "id": "c73e7436-6157-480f-a4ad-11df9c7ac1f1",
   "metadata": {},
   "source": [
    "The following function save a single image of an insect in it's respective folder."
   ]
  },
  {
   "cell_type": "code",
   "execution_count": 10,
   "id": "498ffcfa-8ed0-427f-a71f-163d1f522040",
   "metadata": {},
   "outputs": [],
   "source": [
    "skipped = list()\n",
    "headers = {\n",
    "    'User-Agent': 'Mozilla/5.0 (Windows NT 10.0; Win64; x64) AppleWebKit/537.36 (KHTML, like Gecko) Chrome/58.0.3029.110 Safari/537.36'\n",
    "}\n",
    "\n",
    "def save_image(row):\n",
    "    class_, url = row\n",
    "    try:\n",
    "        image_name = f\"{url.split('/')[-1]}\"\n",
    "        res = requests.get(url, headers=headers)\n",
    "        if res.status_code == 200:\n",
    "            save_name = os.path.join(base_dir, class_, image_name)\n",
    "            with open(save_name, 'wb') as fp:\n",
    "                fp.write(res.content)\n",
    "        else:\n",
    "            print(\"Failed to download the image: STATUS CODE {}\".format(res.status_code))\n",
    "    except Exception as e:\n",
    "        print(e)\n",
    "        print(\"url skipped:\", url)\n",
    "        skipped.append(url)"
   ]
  },
  {
   "cell_type": "markdown",
   "id": "4f8bdb26-cf63-4d9d-af2e-cee611430639",
   "metadata": {},
   "source": [
    "Next we are going to download the images from the urls."
   ]
  },
  {
   "cell_type": "code",
   "execution_count": 11,
   "id": "b2a7f68b-a19a-4b15-b69c-93bddc50a87b",
   "metadata": {},
   "outputs": [
    {
     "name": "stderr",
     "output_type": "stream",
     "text": [
      "downloading...: 100%|██████████████████████████████████████████████████████████████| 2996/2996 [39:59<00:00,  1.25it/s]"
     ]
    },
    {
     "name": "stdout",
     "output_type": "stream",
     "text": [
      "Done!!\n"
     ]
    },
    {
     "name": "stderr",
     "output_type": "stream",
     "text": [
      "\n"
     ]
    }
   ],
   "source": [
    "with ThreadPoolExecutor(max_workers=num_workers) as executor:\n",
    "    futures = [executor.submit(save_image, i) for i in img_urls]\n",
    "    for future in tqdm.tqdm(as_completed(futures), desc=\"downloading...\", total=len(img_urls)):\n",
    "        pass\n",
    "print(\"Done!!\")"
   ]
  },
  {
   "cell_type": "markdown",
   "id": "da20423d-b42f-4987-bb79-a3c573c240a0",
   "metadata": {},
   "source": [
    "After downloading these images, We want to split our dataset into `2` sets the `train` and `test`. So we are going to create the following folder structure in our `dataset` directory.\n",
    "\n",
    "\n",
    "```\n",
    "📁 dataset\n",
    "    📁  train\n",
    "      📁beetle\n",
    "         - 0.jpg\n",
    "         - 1.jpg\n",
    "         ....\n",
    "      📁  weevil\n",
    "         - 0.jpg\n",
    "         - 1.jpg\n",
    "         ....\n",
    "    📁  test\n",
    "      📁  beetle\n",
    "         - 0.jpg\n",
    "         - 1.jpg\n",
    "         ....\n",
    "      📁  weevil\n",
    "         - 0.jpg\n",
    "         - 1.jpg\n",
    "         ....\n",
    "```"
   ]
  },
  {
   "cell_type": "code",
   "execution_count": 12,
   "id": "6ba53fcf-3491-4f66-9006-b859cdbff013",
   "metadata": {},
   "outputs": [],
   "source": [
    "train_beetle_folder = os.path.join(base_dir, 'train', 'beetle')\n",
    "train_weevil_folder = os.path.join(base_dir, 'train', 'weevil')\n",
    "test_beetle_folder = os.path.join(base_dir, 'test', 'beetle')\n",
    "test_weevil_folder = os.path.join(base_dir, 'test', 'weevil')\n",
    "\n",
    "if not os.path.exists(train_beetle_folder):\n",
    "    os.makedirs(train_beetle_folder)\n",
    "if not os.path.exists(train_weevil_folder):\n",
    "    os.makedirs(train_weevil_folder)\n",
    "\n",
    "if not os.path.exists(test_beetle_folder):\n",
    "    os.makedirs(test_beetle_folder)\n",
    "if not os.path.exists(test_weevil_folder):\n",
    "    os.makedirs(test_weevil_folder)"
   ]
  },
  {
   "cell_type": "markdown",
   "id": "152dc375-270c-4f82-ab76-d788a80863cf",
   "metadata": {},
   "source": [
    "We will take the first `298` images and put them in the test folder to the respective class and the rest will be taken to the train folder of the respective class."
   ]
  },
  {
   "cell_type": "code",
   "execution_count": 16,
   "id": "7c26431e-7ae8-464e-ac22-31a20f41a4e4",
   "metadata": {},
   "outputs": [
    {
     "name": "stderr",
     "output_type": "stream",
     "text": [
      "moving images to the weevil folder...:   0%|                                                   | 0/298 [00:00<?, ?it/s]\n",
      "moving images to the weevil folder...: 0it [00:00, ?it/s]\n",
      "moving images to the beetle folder...:   0%|                                                   | 0/298 [00:00<?, ?it/s]\n",
      "moving images to the beetle folder...: 0it [00:00, ?it/s]\n"
     ]
    }
   ],
   "source": [
    "def move_to_final_destination(trg, class_:str, limit=None):\n",
    "    class_dir = os.path.join(base_dir, class_)\n",
    "    total = len(os.listdir(class_dir)) if limit is None else limit\n",
    "    if limit is None:\n",
    "        for image_name in tqdm.tqdm(os.listdir(class_dir), total=total, desc=f\"moving images to the {class_} folder...\"):\n",
    "            src = os.path.join(class_dir, image_name)\n",
    "            shutil.move(src, trg)\n",
    "    else:\n",
    "        for image_name in tqdm.tqdm(os.listdir(class_dir)[:limit], total=total, desc=f\"moving images to the {class_} folder...\"):\n",
    "            src = os.path.join(class_dir, image_name)\n",
    "            shutil.move(src, trg)\n",
    "\n",
    "move_to_final_destination(test_weevil_folder, 'weevil', limit=298)\n",
    "move_to_final_destination(train_weevil_folder, 'weevil', limit=None)\n",
    "\n",
    "move_to_final_destination(test_beetle_folder, 'beetle', limit=298)\n",
    "move_to_final_destination(train_beetle_folder, 'beetle', limit=None)"
   ]
  },
  {
   "cell_type": "markdown",
   "id": "29108233-6e41-48a3-8e94-001ad139c54d",
   "metadata": {},
   "source": [
    "Next we are going to remove the `weevil` and `beetle` directories from the dataset."
   ]
  },
  {
   "cell_type": "code",
   "execution_count": 19,
   "id": "9c0d68fa-a756-43a1-954f-c3cf6a3b688e",
   "metadata": {},
   "outputs": [],
   "source": [
    "shutil.rmtree(weevil_dir, 0o777)\n",
    "shutil.rmtree(beetle_dir, 0o777)"
   ]
  },
  {
   "cell_type": "markdown",
   "id": "07e38000-ee75-4a8d-a313-cbfaa062f2f8",
   "metadata": {},
   "source": [
    "### Refs\n",
    "1. [github.com/CrispenGari](https://github.com/CrispenGari/web-scrapping-python/blob/main/selenium/selenium.ipynb)"
   ]
  }
 ],
 "metadata": {
  "kernelspec": {
   "display_name": "Python 3 (ipykernel)",
   "language": "python",
   "name": "python3"
  },
  "language_info": {
   "codemirror_mode": {
    "name": "ipython",
    "version": 3
   },
   "file_extension": ".py",
   "mimetype": "text/x-python",
   "name": "python",
   "nbconvert_exporter": "python",
   "pygments_lexer": "ipython3",
   "version": "3.11.7"
  }
 },
 "nbformat": 4,
 "nbformat_minor": 5
}
