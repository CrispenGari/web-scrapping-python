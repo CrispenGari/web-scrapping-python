{
 "cells": [
  {
   "cell_type": "markdown",
   "id": "3d61b93e-6460-454f-a5e6-491826d68c06",
   "metadata": {},
   "source": [
    "### Image Dataset - `Butterflies, Moths, and Skippers`\n",
    "\n",
    "In this notebook we are going to scrape the data from [this site](https://www.insectimages.org/index.cfm) for an image classification dataset.\n",
    "\n",
    "### Innstallation\n",
    "\n",
    "First we need to install `selenium` if not installed."
   ]
  },
  {
   "cell_type": "code",
   "execution_count": 4,
   "id": "81e6375b-18e8-43b7-b75e-2d082489beb9",
   "metadata": {},
   "outputs": [
    {
     "name": "stdout",
     "output_type": "stream",
     "text": [
      "Note: you may need to restart the kernel to use updated packages.\n"
     ]
    }
   ],
   "source": [
    "# pip install selenium -q"
   ]
  },
  {
   "cell_type": "markdown",
   "id": "9dbd622a-ef65-48e6-b974-21add0ab02e0",
   "metadata": {},
   "source": [
    "### Imports\n",
    "Next we are going to import all the packages that we will use in this notebook for this task."
   ]
  },
  {
   "cell_type": "code",
   "execution_count": 57,
   "id": "12903010-7b16-4967-ae9a-04a0dc10106b",
   "metadata": {},
   "outputs": [],
   "source": [
    "import os\n",
    "from selenium import webdriver\n",
    "from selenium.webdriver.common.keys import Keys\n",
    "import time\n",
    "from bs4 import BeautifulSoup\n",
    "import pandas as pd\n",
    "import requests\n",
    "import tqdm\n",
    "import random\n",
    "import shutil\n",
    "\n",
    "from concurrent.futures import ThreadPoolExecutor, as_completed\n",
    "import multiprocessing"
   ]
  },
  {
   "cell_type": "markdown",
   "id": "00cd2c5e-febc-476b-8895-09b0780da817",
   "metadata": {},
   "source": [
    "Next we are going to set the seed for random operations for reproducivity."
   ]
  },
  {
   "cell_type": "code",
   "execution_count": 58,
   "id": "5c32702b-4a38-4aba-acbc-725f8f55da3f",
   "metadata": {},
   "outputs": [],
   "source": [
    "SEED = 23\n",
    "\n",
    "random.seed(SEED)"
   ]
  },
  {
   "cell_type": "markdown",
   "id": "bd7d07f2-d0f3-466e-9e30-93db160e5a9f",
   "metadata": {},
   "source": [
    "Next we are going to create an instance of a Chrome driver"
   ]
  },
  {
   "cell_type": "code",
   "execution_count": 105,
   "id": "ff9708ef-ae83-4141-b4a8-f07ffadfc77a",
   "metadata": {},
   "outputs": [
    {
     "data": {
      "text/plain": [
       "<selenium.webdriver.chrome.webdriver.WebDriver (session=\"130c802a10357cde800f972a1ed01e32\")>"
      ]
     },
     "execution_count": 105,
     "metadata": {},
     "output_type": "execute_result"
    }
   ],
   "source": [
    "driver = webdriver.Chrome()\n",
    "driver"
   ]
  },
  {
   "cell_type": "markdown",
   "id": "71931edd-6011-4326-a3e1-e01d1d2ae175",
   "metadata": {},
   "source": [
    "We are then going to define the path to where we want to get the images of the insects from."
   ]
  },
  {
   "cell_type": "code",
   "execution_count": 106,
   "id": "31f6adc7-0b2e-4f13-9ec0-23c36c0a0495",
   "metadata": {},
   "outputs": [],
   "source": [
    "urls_to_images ='https://www.insectimages.org/browse/taxthumb.cfm?order=131'"
   ]
  },
  {
   "cell_type": "code",
   "execution_count": 107,
   "id": "cf1231d2-79a3-430f-9960-524aeb74ea8e",
   "metadata": {},
   "outputs": [],
   "source": [
    "driver.get(urls_to_images)"
   ]
  },
  {
   "cell_type": "markdown",
   "id": "a3bbad6f-7518-4084-b0b4-a60f33fd83aa",
   "metadata": {},
   "source": [
    "From the website the images are paginated so we need to do the infinite scrolling So the function:\n",
    "\n",
    "```py\n",
    "def scroll_down(driver, scroll_pause_time=1.0):\n",
    "    last_height = driver.execute_script(\"return document.body.scrollHeight\")\n",
    "    while True:\n",
    "        driver.execute_script(\"window.scrollTo(0, document.body.scrollHeight);\")\n",
    "        time.sleep(scroll_pause_time)\n",
    "        new_height = driver.execute_script(\"return document.body.scrollHeight\")\n",
    "        if new_height == last_height:\n",
    "            break\n",
    "        last_height = new_height\n",
    "scroll_down(driver, 20)\n",
    "```\n",
    "Is used to do the inifite automatic scrolling of the page using `selenium`.\n",
    "\n",
    "\n",
    "The following function will scrape a single page and returns us a list of dictionaries with `image` and `class` of the insect."
   ]
  },
  {
   "cell_type": "code",
   "execution_count": 108,
   "id": "e6281334-52c9-45ca-88a0-3170568bbd25",
   "metadata": {},
   "outputs": [],
   "source": [
    "def scrape_page(soup):\n",
    "    res = list()\n",
    "    img_container = soup.find('div', {'id': 'imagecontainer'})\n",
    "    for row in img_container.find_all('div', {'class': 'row vertical'}):\n",
    "        for item in row.find_all('div', {'class': 'pointer item text-center well'}):\n",
    "            try:\n",
    "                img = f\"https:{item.find('img')['src']}\"\n",
    "                class_ = item.find('div', {'class': 'img-foot'}).contents[0].split(' ')[-1].strip().lower()\n",
    "                res.append({'class': class_, 'image': img})\n",
    "            except Exception:\n",
    "                pass\n",
    "    return res\n",
    "    "
   ]
  },
  {
   "cell_type": "markdown",
   "id": "9e5ba29d-6712-48f5-9677-45ee31f881ac",
   "metadata": {},
   "source": [
    "We are going to define the number of pages we want to scroll  and start doing webscraping to get the images and their class names."
   ]
  },
  {
   "cell_type": "code",
   "execution_count": 110,
   "id": "d5eb1f92-8306-48cd-811f-3045f232c14c",
   "metadata": {},
   "outputs": [
    {
     "name": "stdout",
     "output_type": "stream",
     "text": [
      "Got 186 for page 1...\n",
      "Got 210 for page 2...\n",
      "Got 234 for page 3...\n",
      "Got 258 for page 4...\n",
      "Got 281 for page 5...\n",
      "Got 301 for page 6...\n",
      "Got 322 for page 7...\n",
      "Got 322 for page 8...\n",
      "Got 346 for page 9...\n",
      "Got 370 for page 10...\n",
      "Got 394 for page 11...\n",
      "Got 418 for page 12...\n",
      "Got 442 for page 13...\n",
      "Got 466 for page 14...\n",
      "Got 489 for page 15...\n",
      "Got 513 for page 16...\n",
      "Got 536 for page 17...\n",
      "Got 559 for page 18...\n",
      "Got 583 for page 19...\n",
      "Got 607 for page 20...\n",
      "Got 631 for page 21...\n",
      "Got 655 for page 22...\n",
      "Got 678 for page 23...\n",
      "Got 701 for page 24...\n",
      "Got 724 for page 25...\n",
      "Got 747 for page 26...\n",
      "Got 766 for page 27...\n",
      "Got 789 for page 28...\n",
      "Got 811 for page 29...\n",
      "Got 835 for page 30...\n",
      "Got 858 for page 31...\n",
      "Got 882 for page 32...\n",
      "Got 903 for page 33...\n",
      "Got 926 for page 34...\n",
      "Got 946 for page 35...\n",
      "Got 963 for page 36...\n",
      "Got 987 for page 37...\n",
      "Got 1011 for page 38...\n",
      "Got 1032 for page 39...\n",
      "Got 1053 for page 40...\n",
      "Got 1074 for page 41...\n",
      "Got 1098 for page 42...\n",
      "Got 1122 for page 43...\n",
      "Got 1146 for page 44...\n",
      "Got 1170 for page 45...\n",
      "Got 1194 for page 46...\n",
      "Got 1218 for page 47...\n",
      "Got 1242 for page 48...\n",
      "Got 1266 for page 49...\n",
      "Got 1290 for page 50...\n",
      "Got 1314 for page 51...\n",
      "Got 1338 for page 52...\n",
      "Got 1362 for page 53...\n",
      "Got 1385 for page 54...\n",
      "Got 1409 for page 55...\n",
      "Got 1433 for page 56...\n",
      "Got 1457 for page 57...\n",
      "Got 1481 for page 58...\n",
      "Got 1505 for page 59...\n",
      "Got 1529 for page 60...\n",
      "Got 1553 for page 61...\n",
      "Got 1577 for page 62...\n",
      "Got 1601 for page 63...\n",
      "Got 1625 for page 64...\n",
      "Got 1649 for page 65...\n",
      "Got 1673 for page 66...\n",
      "Got 1697 for page 67...\n",
      "Got 1721 for page 68...\n",
      "Got 1745 for page 69...\n",
      "Got 1769 for page 70...\n",
      "Got 1793 for page 71...\n",
      "Got 1817 for page 72...\n",
      "Got 1841 for page 73...\n",
      "Got 1865 for page 74...\n",
      "Got 1889 for page 75...\n",
      "Got 1913 for page 76...\n",
      "Got 1937 for page 77...\n",
      "Got 1961 for page 78...\n",
      "Got 1985 for page 79...\n",
      "Got 2009 for page 80...\n",
      "Got 2033 for page 81...\n",
      "Got 2057 for page 82...\n",
      "Got 2081 for page 83...\n",
      "Got 2105 for page 84...\n",
      "Got 2129 for page 85...\n",
      "Got 2153 for page 86...\n",
      "Got 2177 for page 87...\n",
      "Got 2201 for page 88...\n",
      "Got 2225 for page 89...\n",
      "Got 2249 for page 90...\n",
      "Got 2273 for page 91...\n",
      "Got 2297 for page 92...\n",
      "Got 2321 for page 93...\n",
      "Got 2345 for page 94...\n",
      "Got 2369 for page 95...\n",
      "Got 2393 for page 96...\n",
      "Got 2417 for page 97...\n",
      "Got 2441 for page 98...\n",
      "Got 2465 for page 99...\n",
      "Got 2489 for page 100...\n",
      "Got 2513 for page 101...\n",
      "Got 2537 for page 102...\n",
      "Got 2561 for page 103...\n",
      "Got 2585 for page 104...\n",
      "Got 2609 for page 105...\n",
      "Got 2633 for page 106...\n",
      "Got 2657 for page 107...\n",
      "Got 2681 for page 108...\n",
      "Got 2705 for page 109...\n",
      "Got 2729 for page 110...\n",
      "Got 2753 for page 111...\n",
      "Got 2777 for page 112...\n",
      "Got 2801 for page 113...\n",
      "Got 2825 for page 114...\n",
      "Got 2849 for page 115...\n",
      "Got 2873 for page 116...\n",
      "Got 2897 for page 117...\n",
      "Got 2921 for page 118...\n",
      "Got 2945 for page 119...\n",
      "Got 2969 for page 120...\n",
      "Got 2993 for page 121...\n",
      "Got 3017 for page 122...\n",
      "Got 3041 for page 123...\n",
      "Got 3065 for page 124...\n",
      "Got 3089 for page 125...\n",
      "Got 3113 for page 126...\n",
      "Got 3137 for page 127...\n",
      "Got 3161 for page 128...\n",
      "Got 3185 for page 129...\n",
      "Got 3209 for page 130...\n",
      "Got 3233 for page 131...\n",
      "Got 3257 for page 132...\n",
      "Got 3281 for page 133...\n",
      "Got 3305 for page 134...\n",
      "Got 3329 for page 135...\n",
      "Got 3353 for page 136...\n",
      "Got 3377 for page 137...\n",
      "Got 3401 for page 138...\n",
      "Got 3425 for page 139...\n",
      "Got 3449 for page 140...\n",
      "Got 3473 for page 141...\n",
      "Got 3497 for page 142...\n",
      "Got 3521 for page 143...\n",
      "Got 3545 for page 144...\n",
      "Got 3569 for page 145...\n",
      "Got 3593 for page 146...\n",
      "Got 3617 for page 147...\n",
      "Got 3641 for page 148...\n",
      "Got 3665 for page 149...\n",
      "Got 3689 for page 150...\n",
      "Got 3713 for page 151...\n",
      "Got 3737 for page 152...\n",
      "Got 3761 for page 153...\n",
      "Got 3785 for page 154...\n",
      "Got 3809 for page 155...\n",
      "Got 3833 for page 156...\n",
      "Got 3857 for page 157...\n",
      "Got 3881 for page 158...\n",
      "Got 3905 for page 159...\n",
      "Got 3929 for page 160...\n",
      "Got 3953 for page 161...\n",
      "Got 3977 for page 162...\n",
      "Got 4001 for page 163...\n",
      "Got 4025 for page 164...\n",
      "Got 4049 for page 165...\n",
      "Got 4073 for page 166...\n",
      "Got 4097 for page 167...\n",
      "Got 4121 for page 168...\n",
      "Got 4145 for page 169...\n",
      "Got 4169 for page 170...\n",
      "Got 4193 for page 171...\n",
      "Got 4217 for page 172...\n",
      "Got 4241 for page 173...\n",
      "Got 4265 for page 174...\n",
      "Got 4289 for page 175...\n",
      "Got 4313 for page 176...\n",
      "Got 4337 for page 177...\n",
      "Got 4361 for page 178...\n",
      "Got 4385 for page 179...\n",
      "Got 4409 for page 180...\n",
      "Got 4433 for page 181...\n",
      "Got 4457 for page 182...\n",
      "Got 4481 for page 183...\n",
      "Got 4505 for page 184...\n",
      "Got 4529 for page 185...\n",
      "Got 4553 for page 186...\n",
      "Got 4577 for page 187...\n",
      "Got 4601 for page 188...\n",
      "Got 4625 for page 189...\n",
      "Got 4649 for page 190...\n",
      "Got 4673 for page 191...\n",
      "Got 4697 for page 192...\n",
      "Got 4721 for page 193...\n",
      "Got 4745 for page 194...\n",
      "Got 4769 for page 195...\n",
      "Got 4793 for page 196...\n",
      "Got 4817 for page 197...\n",
      "Got 4841 for page 198...\n",
      "Got 4865 for page 199...\n",
      "Got 4889 for page 200...\n",
      "Got 4913 for page 201...\n",
      "Got 4937 for page 202...\n",
      "Got 4961 for page 203...\n",
      "Got 4985 for page 204...\n",
      "Got 5009 for page 205...\n",
      "Got 5033 for page 206...\n",
      "Got 5057 for page 207...\n",
      "Got 5081 for page 208...\n",
      "Got 5105 for page 209...\n",
      "Got 5129 for page 210...\n",
      "Got 5153 for page 211...\n",
      "Got 5177 for page 212...\n",
      "Got 5201 for page 213...\n",
      "Got 5225 for page 214...\n",
      "Got 5249 for page 215...\n",
      "Got 5273 for page 216...\n",
      "Got 5297 for page 217...\n",
      "Got 5321 for page 218...\n",
      "Got 5345 for page 219...\n",
      "Got 5369 for page 220...\n",
      "Got 5393 for page 221...\n",
      "Got 5417 for page 222...\n",
      "Got 5441 for page 223...\n",
      "Got 5465 for page 224...\n",
      "Got 5489 for page 225...\n",
      "Got 5513 for page 226...\n",
      "Got 5537 for page 227...\n",
      "Got 5561 for page 228...\n",
      "Got 5585 for page 229...\n",
      "Got 5609 for page 230...\n",
      "Got 5633 for page 231...\n",
      "Got 5657 for page 232...\n",
      "Got 5681 for page 233...\n",
      "Got 5705 for page 234...\n",
      "Got 5729 for page 235...\n",
      "Got 5753 for page 236...\n",
      "Got 5777 for page 237...\n",
      "Got 5801 for page 238...\n",
      "Got 5825 for page 239...\n",
      "Got 5849 for page 240...\n",
      "Got 5873 for page 241...\n",
      "Got 5897 for page 242...\n",
      "Got 5921 for page 243...\n",
      "Got 5945 for page 244...\n",
      "Got 5969 for page 245...\n",
      "Got 5993 for page 246...\n",
      "Got 6017 for page 247...\n",
      "Got 6041 for page 248...\n",
      "Got 6065 for page 249...\n",
      "Got 6089 for page 250...\n",
      "Got 6113 for page 251...\n",
      "Got 6137 for page 252...\n",
      "Got 6161 for page 253...\n",
      "Got 6185 for page 254...\n",
      "Got 6209 for page 255...\n",
      "Got 6233 for page 256...\n",
      "Got 6257 for page 257...\n",
      "Got 6281 for page 258...\n",
      "Got 6305 for page 259...\n",
      "Got 6329 for page 260...\n",
      "Got 6353 for page 261...\n",
      "Got 6377 for page 262...\n",
      "Got 6401 for page 263...\n",
      "Got 6425 for page 264...\n",
      "Got 6449 for page 265...\n",
      "Got 6473 for page 266...\n",
      "Got 6497 for page 267...\n",
      "Got 6521 for page 268...\n",
      "Got 6545 for page 269...\n",
      "Got 6569 for page 270...\n",
      "Got 6593 for page 271...\n",
      "Got 6617 for page 272...\n",
      "Got 6641 for page 273...\n",
      "Got 6665 for page 274...\n",
      "Got 6689 for page 275...\n",
      "Got 6713 for page 276...\n",
      "Got 6737 for page 277...\n",
      "Got 6761 for page 278...\n",
      "Got 6785 for page 279...\n",
      "Got 6809 for page 280...\n",
      "Got 6833 for page 281...\n",
      "Got 6857 for page 282...\n",
      "Got 6881 for page 283...\n",
      "Got 6905 for page 284...\n",
      "Got 6929 for page 285...\n",
      "Got 6953 for page 286...\n",
      "Got 6977 for page 287...\n",
      "Got 7001 for page 288...\n",
      "Got 7025 for page 289...\n",
      "Got 7049 for page 290...\n",
      "Got 7073 for page 291...\n",
      "Got 7097 for page 292...\n",
      "Got 7121 for page 293...\n",
      "Got 7145 for page 294...\n",
      "Got 7169 for page 295...\n",
      "Got 7193 for page 296...\n",
      "Got 7217 for page 297...\n",
      "Got 7241 for page 298...\n",
      "Got 7265 for page 299...\n",
      "Got 7289 for page 300...\n",
      "Got 7313 for page 301...\n",
      "Got 7337 for page 302...\n",
      "Got 7361 for page 303...\n",
      "Got 7385 for page 304...\n",
      "Got 7409 for page 305...\n",
      "Got 7433 for page 306...\n",
      "Got 7457 for page 307...\n",
      "Got 7481 for page 308...\n",
      "Got 7505 for page 309...\n",
      "Got 7529 for page 310...\n",
      "Got 7553 for page 311...\n",
      "Got 7577 for page 312...\n",
      "Got 7601 for page 313...\n",
      "Got 7625 for page 314...\n",
      "Got 7649 for page 315...\n",
      "Got 7673 for page 316...\n",
      "Got 7697 for page 317...\n",
      "Got 7721 for page 318...\n",
      "Got 7745 for page 319...\n",
      "Got 7769 for page 320...\n",
      "Got 7793 for page 321...\n",
      "Got 7817 for page 322...\n",
      "Got 7841 for page 323...\n",
      "Got 7865 for page 324...\n",
      "Got 7889 for page 325...\n",
      "Got 7913 for page 326...\n",
      "Got 7937 for page 327...\n",
      "Got 7961 for page 328...\n",
      "Got 7985 for page 329...\n",
      "Got 8009 for page 330...\n",
      "Got 8033 for page 331...\n",
      "Got 8057 for page 332...\n",
      "Got 8081 for page 333...\n",
      "Got 8105 for page 334...\n",
      "Got 8129 for page 335...\n",
      "Got 8153 for page 336...\n",
      "Got 8177 for page 337...\n",
      "Got 8201 for page 338...\n",
      "Got 8225 for page 339...\n",
      "Got 8249 for page 340...\n",
      "Got 8273 for page 341...\n",
      "Got 8297 for page 342...\n",
      "Got 8321 for page 343...\n",
      "Got 8345 for page 344...\n",
      "Got 8369 for page 345...\n",
      "Got 8393 for page 346...\n",
      "Got 8417 for page 347...\n",
      "Got 8441 for page 348...\n",
      "Got 8465 for page 349...\n",
      "Got 8489 for page 350...\n",
      "Got 8513 for page 351...\n",
      "Got 8537 for page 352...\n",
      "Got 8561 for page 353...\n",
      "Got 8585 for page 354...\n",
      "Got 8609 for page 355...\n",
      "Got 8633 for page 356...\n",
      "Got 8657 for page 357...\n",
      "Got 8681 for page 358...\n",
      "Got 8705 for page 359...\n",
      "Got 8729 for page 360...\n",
      "Got 8753 for page 361...\n",
      "Got 8777 for page 362...\n",
      "Got 8801 for page 363...\n",
      "Got 8825 for page 364...\n",
      "Got 8849 for page 365...\n",
      "Got 8873 for page 366...\n",
      "Got 8897 for page 367...\n",
      "Got 8921 for page 368...\n",
      "Got 8945 for page 369...\n",
      "Got 8969 for page 370...\n",
      "Got 8993 for page 371...\n",
      "Got 9017 for page 372...\n",
      "Got 9041 for page 373...\n",
      "Got 9065 for page 374...\n",
      "Got 9089 for page 375...\n",
      "Got 9113 for page 376...\n",
      "Got 9137 for page 377...\n",
      "Got 9161 for page 378...\n",
      "Got 9185 for page 379...\n",
      "Got 9209 for page 380...\n",
      "Got 9233 for page 381...\n",
      "Got 9257 for page 382...\n",
      "Got 9281 for page 383...\n",
      "Got 9305 for page 384...\n",
      "Got 9329 for page 385...\n",
      "Got 9353 for page 386...\n",
      "Got 9377 for page 387...\n",
      "Got 9401 for page 388...\n",
      "Got 9425 for page 389...\n",
      "Got 9449 for page 390...\n",
      "Got 9473 for page 391...\n",
      "Got 9497 for page 392...\n",
      "Got 9521 for page 393...\n",
      "Got 9545 for page 394...\n",
      "Got 9569 for page 395...\n",
      "Got 9593 for page 396...\n",
      "Got 9617 for page 397...\n",
      "Got 9641 for page 398...\n",
      "Got 9665 for page 399...\n",
      "Got 9689 for page 400...\n",
      "Got 9713 for page 401...\n",
      "Got 9737 for page 402...\n",
      "Got 9761 for page 403...\n",
      "Got 9785 for page 404...\n",
      "Got 9809 for page 405...\n",
      "Got 9833 for page 406...\n",
      "Got 9857 for page 407...\n",
      "Got 9881 for page 408...\n",
      "Got 9905 for page 409...\n",
      "Got 9929 for page 410...\n",
      "Got 9953 for page 411...\n",
      "Got 9977 for page 412...\n",
      "Got 10001 for page 413...\n",
      "Got 10025 for page 414...\n",
      "Got 10049 for page 415...\n",
      "Got 10073 for page 416...\n",
      "Got 10097 for page 417...\n",
      "Got 10121 for page 418...\n",
      "Got 10145 for page 419...\n",
      "Got 10169 for page 420...\n",
      "Got 10193 for page 421...\n",
      "Got 10217 for page 422...\n",
      "Got 10241 for page 423...\n",
      "Got 10265 for page 424...\n",
      "Got 10289 for page 425...\n",
      "Got 10313 for page 426...\n",
      "Got 10337 for page 427...\n",
      "Got 10361 for page 428...\n",
      "Got 10385 for page 429...\n",
      "Got 10409 for page 430...\n",
      "Got 10433 for page 431...\n",
      "Got 10433 for page 432...\n",
      "Got 10433 for page 433...\n",
      "Got 10433 for page 434...\n",
      "Got 10433 for page 435...\n",
      "Got 10433 for page 436...\n",
      "Got 10433 for page 437...\n",
      "Got 10433 for page 438...\n",
      "Got 10433 for page 439...\n",
      "Got 10433 for page 440...\n",
      "Got 10433 for page 441...\n",
      "Got 10433 for page 442...\n",
      "Got 10433 for page 443...\n",
      "Got 10433 for page 444...\n",
      "Got 10433 for page 445...\n",
      "Got 10433 for page 446...\n",
      "Got 10433 for page 447...\n",
      "Got 10433 for page 448...\n",
      "Got 10433 for page 449...\n",
      "Got 10433 for page 450...\n",
      "Got 10433 for page 451...\n",
      "Got 10433 for page 452...\n",
      "Got 10433 for page 453...\n",
      "Got 10433 for page 454...\n",
      "Got 10433 for page 455...\n",
      "Got 10433 for page 456...\n",
      "Got 10433 for page 457...\n",
      "Got 10433 for page 458...\n",
      "Got 10433 for page 459...\n",
      "Got 10433 for page 460...\n",
      "Got 10433 for page 461...\n",
      "Got 10433 for page 462...\n",
      "Got 10433 for page 463...\n",
      "Got 10433 for page 464...\n",
      "Got 10433 for page 465...\n",
      "Got 10433 for page 466...\n",
      "Got 10433 for page 467...\n",
      "Got 10433 for page 468...\n",
      "Got 10433 for page 469...\n",
      "Got 10433 for page 470...\n",
      "Got 10433 for page 471...\n",
      "Got 10433 for page 472...\n",
      "Got 10433 for page 473...\n",
      "Got 10433 for page 474...\n",
      "Got 10433 for page 475...\n",
      "Got 10433 for page 476...\n",
      "Got 10433 for page 477...\n",
      "Got 10433 for page 478...\n",
      "Got 10433 for page 479...\n",
      "Got 10433 for page 480...\n",
      "Got 10433 for page 481...\n",
      "Got 10433 for page 482...\n",
      "Got 10433 for page 483...\n",
      "Got 10433 for page 484...\n",
      "Got 10433 for page 485...\n",
      "Got 10433 for page 486...\n",
      "Got 10433 for page 487...\n",
      "Got 10433 for page 488...\n"
     ]
    },
    {
     "ename": "KeyboardInterrupt",
     "evalue": "",
     "output_type": "error",
     "traceback": [
      "\u001b[1;31m---------------------------------------------------------------------------\u001b[0m",
      "\u001b[1;31mKeyboardInterrupt\u001b[0m                         Traceback (most recent call last)",
      "Cell \u001b[1;32mIn[110], line 6\u001b[0m\n\u001b[0;32m      4\u001b[0m driver\u001b[38;5;241m.\u001b[39mexecute_script(\u001b[38;5;124m\"\u001b[39m\u001b[38;5;124mwindow.scrollTo(0, document.body.scrollHeight);\u001b[39m\u001b[38;5;124m\"\u001b[39m)\n\u001b[0;32m      5\u001b[0m time\u001b[38;5;241m.\u001b[39msleep(\u001b[38;5;241m10\u001b[39m)\n\u001b[1;32m----> 6\u001b[0m soup \u001b[38;5;241m=\u001b[39m BeautifulSoup(driver\u001b[38;5;241m.\u001b[39mpage_source, \u001b[38;5;124m'\u001b[39m\u001b[38;5;124mhtml.parser\u001b[39m\u001b[38;5;124m'\u001b[39m)\n\u001b[0;32m      7\u001b[0m res \u001b[38;5;241m=\u001b[39m scrape_page(soup)\n\u001b[0;32m      8\u001b[0m data\u001b[38;5;241m.\u001b[39mextend(res)\n",
      "File \u001b[1;32m~\\anaconda3\\Lib\\site-packages\\bs4\\__init__.py:335\u001b[0m, in \u001b[0;36mBeautifulSoup.__init__\u001b[1;34m(self, markup, features, builder, parse_only, from_encoding, exclude_encodings, element_classes, **kwargs)\u001b[0m\n\u001b[0;32m    333\u001b[0m \u001b[38;5;28mself\u001b[39m\u001b[38;5;241m.\u001b[39mbuilder\u001b[38;5;241m.\u001b[39minitialize_soup(\u001b[38;5;28mself\u001b[39m)\n\u001b[0;32m    334\u001b[0m \u001b[38;5;28;01mtry\u001b[39;00m:\n\u001b[1;32m--> 335\u001b[0m     \u001b[38;5;28mself\u001b[39m\u001b[38;5;241m.\u001b[39m_feed()\n\u001b[0;32m    336\u001b[0m     success \u001b[38;5;241m=\u001b[39m \u001b[38;5;28;01mTrue\u001b[39;00m\n\u001b[0;32m    337\u001b[0m     \u001b[38;5;28;01mbreak\u001b[39;00m\n",
      "File \u001b[1;32m~\\anaconda3\\Lib\\site-packages\\bs4\\__init__.py:478\u001b[0m, in \u001b[0;36mBeautifulSoup._feed\u001b[1;34m(self)\u001b[0m\n\u001b[0;32m    475\u001b[0m \u001b[38;5;66;03m# Convert the document to Unicode.\u001b[39;00m\n\u001b[0;32m    476\u001b[0m \u001b[38;5;28mself\u001b[39m\u001b[38;5;241m.\u001b[39mbuilder\u001b[38;5;241m.\u001b[39mreset()\n\u001b[1;32m--> 478\u001b[0m \u001b[38;5;28mself\u001b[39m\u001b[38;5;241m.\u001b[39mbuilder\u001b[38;5;241m.\u001b[39mfeed(\u001b[38;5;28mself\u001b[39m\u001b[38;5;241m.\u001b[39mmarkup)\n\u001b[0;32m    479\u001b[0m \u001b[38;5;66;03m# Close out any unfinished strings and close all the open tags.\u001b[39;00m\n\u001b[0;32m    480\u001b[0m \u001b[38;5;28mself\u001b[39m\u001b[38;5;241m.\u001b[39mendData()\n",
      "File \u001b[1;32m~\\anaconda3\\Lib\\site-packages\\bs4\\builder\\_htmlparser.py:380\u001b[0m, in \u001b[0;36mHTMLParserTreeBuilder.feed\u001b[1;34m(self, markup)\u001b[0m\n\u001b[0;32m    378\u001b[0m parser\u001b[38;5;241m.\u001b[39msoup \u001b[38;5;241m=\u001b[39m \u001b[38;5;28mself\u001b[39m\u001b[38;5;241m.\u001b[39msoup\n\u001b[0;32m    379\u001b[0m \u001b[38;5;28;01mtry\u001b[39;00m:\n\u001b[1;32m--> 380\u001b[0m     parser\u001b[38;5;241m.\u001b[39mfeed(markup)\n\u001b[0;32m    381\u001b[0m \u001b[38;5;28;01mexcept\u001b[39;00m \u001b[38;5;167;01mAssertionError\u001b[39;00m \u001b[38;5;28;01mas\u001b[39;00m e:\n\u001b[0;32m    382\u001b[0m     \u001b[38;5;66;03m# html.parser raises AssertionError in rare cases to\u001b[39;00m\n\u001b[0;32m    383\u001b[0m     \u001b[38;5;66;03m# indicate a fatal problem with the markup, especially\u001b[39;00m\n\u001b[0;32m    384\u001b[0m     \u001b[38;5;66;03m# when there's an error in the doctype declaration.\u001b[39;00m\n\u001b[0;32m    385\u001b[0m     \u001b[38;5;28;01mraise\u001b[39;00m ParserRejectedMarkup(e)\n",
      "File \u001b[1;32m~\\anaconda3\\Lib\\html\\parser.py:110\u001b[0m, in \u001b[0;36mHTMLParser.feed\u001b[1;34m(self, data)\u001b[0m\n\u001b[0;32m    104\u001b[0m \u001b[38;5;250m\u001b[39m\u001b[38;5;124mr\u001b[39m\u001b[38;5;124;03m\"\"\"Feed data to the parser.\u001b[39;00m\n\u001b[0;32m    105\u001b[0m \n\u001b[0;32m    106\u001b[0m \u001b[38;5;124;03mCall this as often as you want, with as little or as much text\u001b[39;00m\n\u001b[0;32m    107\u001b[0m \u001b[38;5;124;03mas you want (may include '\\n').\u001b[39;00m\n\u001b[0;32m    108\u001b[0m \u001b[38;5;124;03m\"\"\"\u001b[39;00m\n\u001b[0;32m    109\u001b[0m \u001b[38;5;28mself\u001b[39m\u001b[38;5;241m.\u001b[39mrawdata \u001b[38;5;241m=\u001b[39m \u001b[38;5;28mself\u001b[39m\u001b[38;5;241m.\u001b[39mrawdata \u001b[38;5;241m+\u001b[39m data\n\u001b[1;32m--> 110\u001b[0m \u001b[38;5;28mself\u001b[39m\u001b[38;5;241m.\u001b[39mgoahead(\u001b[38;5;241m0\u001b[39m)\n",
      "File \u001b[1;32m~\\anaconda3\\Lib\\html\\parser.py:170\u001b[0m, in \u001b[0;36mHTMLParser.goahead\u001b[1;34m(self, end)\u001b[0m\n\u001b[0;32m    168\u001b[0m \u001b[38;5;28;01mif\u001b[39;00m startswith(\u001b[38;5;124m'\u001b[39m\u001b[38;5;124m<\u001b[39m\u001b[38;5;124m'\u001b[39m, i):\n\u001b[0;32m    169\u001b[0m     \u001b[38;5;28;01mif\u001b[39;00m starttagopen\u001b[38;5;241m.\u001b[39mmatch(rawdata, i): \u001b[38;5;66;03m# < + letter\u001b[39;00m\n\u001b[1;32m--> 170\u001b[0m         k \u001b[38;5;241m=\u001b[39m \u001b[38;5;28mself\u001b[39m\u001b[38;5;241m.\u001b[39mparse_starttag(i)\n\u001b[0;32m    171\u001b[0m     \u001b[38;5;28;01melif\u001b[39;00m startswith(\u001b[38;5;124m\"\u001b[39m\u001b[38;5;124m</\u001b[39m\u001b[38;5;124m\"\u001b[39m, i):\n\u001b[0;32m    172\u001b[0m         k \u001b[38;5;241m=\u001b[39m \u001b[38;5;28mself\u001b[39m\u001b[38;5;241m.\u001b[39mparse_endtag(i)\n",
      "File \u001b[1;32m~\\anaconda3\\Lib\\html\\parser.py:337\u001b[0m, in \u001b[0;36mHTMLParser.parse_starttag\u001b[1;34m(self, i)\u001b[0m\n\u001b[0;32m    335\u001b[0m     \u001b[38;5;28mself\u001b[39m\u001b[38;5;241m.\u001b[39mhandle_startendtag(tag, attrs)\n\u001b[0;32m    336\u001b[0m \u001b[38;5;28;01melse\u001b[39;00m:\n\u001b[1;32m--> 337\u001b[0m     \u001b[38;5;28mself\u001b[39m\u001b[38;5;241m.\u001b[39mhandle_starttag(tag, attrs)\n\u001b[0;32m    338\u001b[0m     \u001b[38;5;28;01mif\u001b[39;00m tag \u001b[38;5;129;01min\u001b[39;00m \u001b[38;5;28mself\u001b[39m\u001b[38;5;241m.\u001b[39mCDATA_CONTENT_ELEMENTS:\n\u001b[0;32m    339\u001b[0m         \u001b[38;5;28mself\u001b[39m\u001b[38;5;241m.\u001b[39mset_cdata_mode(tag)\n",
      "File \u001b[1;32m~\\anaconda3\\Lib\\site-packages\\bs4\\builder\\_htmlparser.py:137\u001b[0m, in \u001b[0;36mBeautifulSoupHTMLParser.handle_starttag\u001b[1;34m(self, name, attrs, handle_empty_element)\u001b[0m\n\u001b[0;32m    135\u001b[0m \u001b[38;5;66;03m#print(\"START\", name)\u001b[39;00m\n\u001b[0;32m    136\u001b[0m sourceline, sourcepos \u001b[38;5;241m=\u001b[39m \u001b[38;5;28mself\u001b[39m\u001b[38;5;241m.\u001b[39mgetpos()\n\u001b[1;32m--> 137\u001b[0m tag \u001b[38;5;241m=\u001b[39m \u001b[38;5;28mself\u001b[39m\u001b[38;5;241m.\u001b[39msoup\u001b[38;5;241m.\u001b[39mhandle_starttag(\n\u001b[0;32m    138\u001b[0m     name, \u001b[38;5;28;01mNone\u001b[39;00m, \u001b[38;5;28;01mNone\u001b[39;00m, attr_dict, sourceline\u001b[38;5;241m=\u001b[39msourceline,\n\u001b[0;32m    139\u001b[0m     sourcepos\u001b[38;5;241m=\u001b[39msourcepos\n\u001b[0;32m    140\u001b[0m )\n\u001b[0;32m    141\u001b[0m \u001b[38;5;28;01mif\u001b[39;00m tag \u001b[38;5;129;01mand\u001b[39;00m tag\u001b[38;5;241m.\u001b[39mis_empty_element \u001b[38;5;129;01mand\u001b[39;00m handle_empty_element:\n\u001b[0;32m    142\u001b[0m     \u001b[38;5;66;03m# Unlike other parsers, html.parser doesn't send separate end tag\u001b[39;00m\n\u001b[0;32m    143\u001b[0m     \u001b[38;5;66;03m# events for empty-element tags. (It's handled in\u001b[39;00m\n\u001b[1;32m   (...)\u001b[0m\n\u001b[0;32m    149\u001b[0m     \u001b[38;5;66;03m# don't want handle_endtag() to cross off any previous end\u001b[39;00m\n\u001b[0;32m    150\u001b[0m     \u001b[38;5;66;03m# events for tags of this name.\u001b[39;00m\n\u001b[0;32m    151\u001b[0m     \u001b[38;5;28mself\u001b[39m\u001b[38;5;241m.\u001b[39mhandle_endtag(name, check_already_closed\u001b[38;5;241m=\u001b[39m\u001b[38;5;28;01mFalse\u001b[39;00m)\n",
      "File \u001b[1;32m~\\anaconda3\\Lib\\site-packages\\bs4\\__init__.py:749\u001b[0m, in \u001b[0;36mBeautifulSoup.handle_starttag\u001b[1;34m(self, name, namespace, nsprefix, attrs, sourceline, sourcepos, namespaces)\u001b[0m\n\u001b[0;32m    744\u001b[0m \u001b[38;5;28;01mif\u001b[39;00m (\u001b[38;5;28mself\u001b[39m\u001b[38;5;241m.\u001b[39mparse_only \u001b[38;5;129;01mand\u001b[39;00m \u001b[38;5;28mlen\u001b[39m(\u001b[38;5;28mself\u001b[39m\u001b[38;5;241m.\u001b[39mtagStack) \u001b[38;5;241m<\u001b[39m\u001b[38;5;241m=\u001b[39m \u001b[38;5;241m1\u001b[39m\n\u001b[0;32m    745\u001b[0m     \u001b[38;5;129;01mand\u001b[39;00m (\u001b[38;5;28mself\u001b[39m\u001b[38;5;241m.\u001b[39mparse_only\u001b[38;5;241m.\u001b[39mtext\n\u001b[0;32m    746\u001b[0m          \u001b[38;5;129;01mor\u001b[39;00m \u001b[38;5;129;01mnot\u001b[39;00m \u001b[38;5;28mself\u001b[39m\u001b[38;5;241m.\u001b[39mparse_only\u001b[38;5;241m.\u001b[39msearch_tag(name, attrs))):\n\u001b[0;32m    747\u001b[0m     \u001b[38;5;28;01mreturn\u001b[39;00m \u001b[38;5;28;01mNone\u001b[39;00m\n\u001b[1;32m--> 749\u001b[0m tag \u001b[38;5;241m=\u001b[39m \u001b[38;5;28mself\u001b[39m\u001b[38;5;241m.\u001b[39melement_classes\u001b[38;5;241m.\u001b[39mget(Tag, Tag)(\n\u001b[0;32m    750\u001b[0m     \u001b[38;5;28mself\u001b[39m, \u001b[38;5;28mself\u001b[39m\u001b[38;5;241m.\u001b[39mbuilder, name, namespace, nsprefix, attrs,\n\u001b[0;32m    751\u001b[0m     \u001b[38;5;28mself\u001b[39m\u001b[38;5;241m.\u001b[39mcurrentTag, \u001b[38;5;28mself\u001b[39m\u001b[38;5;241m.\u001b[39m_most_recent_element,\n\u001b[0;32m    752\u001b[0m     sourceline\u001b[38;5;241m=\u001b[39msourceline, sourcepos\u001b[38;5;241m=\u001b[39msourcepos,\n\u001b[0;32m    753\u001b[0m     namespaces\u001b[38;5;241m=\u001b[39mnamespaces\n\u001b[0;32m    754\u001b[0m )\n\u001b[0;32m    755\u001b[0m \u001b[38;5;28;01mif\u001b[39;00m tag \u001b[38;5;129;01mis\u001b[39;00m \u001b[38;5;28;01mNone\u001b[39;00m:\n\u001b[0;32m    756\u001b[0m     \u001b[38;5;28;01mreturn\u001b[39;00m tag\n",
      "File \u001b[1;32m~\\anaconda3\\Lib\\site-packages\\bs4\\element.py:1262\u001b[0m, in \u001b[0;36mTag.__init__\u001b[1;34m(self, parser, builder, name, namespace, prefix, attrs, parent, previous, is_xml, sourceline, sourcepos, can_be_empty_element, cdata_list_attributes, preserve_whitespace_tags, interesting_string_types, namespaces)\u001b[0m\n\u001b[0;32m   1260\u001b[0m \u001b[38;5;28;01melif\u001b[39;00m attrs:\n\u001b[0;32m   1261\u001b[0m     \u001b[38;5;28;01mif\u001b[39;00m builder \u001b[38;5;129;01mis\u001b[39;00m \u001b[38;5;129;01mnot\u001b[39;00m \u001b[38;5;28;01mNone\u001b[39;00m \u001b[38;5;129;01mand\u001b[39;00m builder\u001b[38;5;241m.\u001b[39mcdata_list_attributes:\n\u001b[1;32m-> 1262\u001b[0m         attrs \u001b[38;5;241m=\u001b[39m builder\u001b[38;5;241m.\u001b[39m_replace_cdata_list_attribute_values(\n\u001b[0;32m   1263\u001b[0m             \u001b[38;5;28mself\u001b[39m\u001b[38;5;241m.\u001b[39mname, attrs)\n\u001b[0;32m   1264\u001b[0m     \u001b[38;5;28;01melse\u001b[39;00m:\n\u001b[0;32m   1265\u001b[0m         attrs \u001b[38;5;241m=\u001b[39m \u001b[38;5;28mdict\u001b[39m(attrs)\n",
      "File \u001b[1;32m~\\anaconda3\\Lib\\site-packages\\bs4\\builder\\__init__.py:321\u001b[0m, in \u001b[0;36mTreeBuilder._replace_cdata_list_attribute_values\u001b[1;34m(self, tag_name, attrs)\u001b[0m\n\u001b[0;32m    319\u001b[0m value \u001b[38;5;241m=\u001b[39m attrs[attr]\n\u001b[0;32m    320\u001b[0m \u001b[38;5;28;01mif\u001b[39;00m \u001b[38;5;28misinstance\u001b[39m(value, \u001b[38;5;28mstr\u001b[39m):\n\u001b[1;32m--> 321\u001b[0m     values \u001b[38;5;241m=\u001b[39m nonwhitespace_re\u001b[38;5;241m.\u001b[39mfindall(value)\n\u001b[0;32m    322\u001b[0m \u001b[38;5;28;01melse\u001b[39;00m:\n\u001b[0;32m    323\u001b[0m     \u001b[38;5;66;03m# html5lib sometimes calls setAttributes twice\u001b[39;00m\n\u001b[0;32m    324\u001b[0m     \u001b[38;5;66;03m# for the same tag when rearranging the parse\u001b[39;00m\n\u001b[1;32m   (...)\u001b[0m\n\u001b[0;32m    327\u001b[0m     \u001b[38;5;66;03m# leave the value alone rather than trying to\u001b[39;00m\n\u001b[0;32m    328\u001b[0m     \u001b[38;5;66;03m# split it again.\u001b[39;00m\n\u001b[0;32m    329\u001b[0m     values \u001b[38;5;241m=\u001b[39m value\n",
      "\u001b[1;31mKeyboardInterrupt\u001b[0m: "
     ]
    }
   ],
   "source": [
    "number_of_pages = 900\n",
    "data = []\n",
    "for page in range(number_of_pages):\n",
    "    driver.execute_script(\"window.scrollTo(0, document.body.scrollHeight);\")\n",
    "    time.sleep(10)\n",
    "    soup = BeautifulSoup(driver.page_source, 'html.parser')\n",
    "    res = scrape_page(soup)\n",
    "    data.extend(res)\n",
    "    print(f\"Got {len(res)} for page {page+1}...\")\n"
   ]
  },
  {
   "cell_type": "markdown",
   "id": "4afb6926-709e-4057-8c17-41ee7e521ba0",
   "metadata": {},
   "source": [
    "We can check the first `2` examples in the scrapped data."
   ]
  },
  {
   "cell_type": "code",
   "execution_count": 111,
   "id": "05543146-f306-44f0-b6bd-864662cbc93f",
   "metadata": {},
   "outputs": [
    {
     "data": {
      "text/plain": [
       "[{'class': 'butterfly',\n",
       "  'image': 'https://bugwoodcloud.org/images/384x256/9009084.jpg'},\n",
       " {'class': 'butterfly',\n",
       "  'image': 'https://bugwoodcloud.org/images/384x256/9009083.jpg'}]"
      ]
     },
     "execution_count": 111,
     "metadata": {},
     "output_type": "execute_result"
    }
   ],
   "source": [
    "data[:2]"
   ]
  },
  {
   "cell_type": "code",
   "execution_count": 112,
   "id": "ab01f5ad-b386-4bf7-a0e2-cf07716808a5",
   "metadata": {},
   "outputs": [
    {
     "data": {
      "text/plain": [
       "2868852"
      ]
     },
     "execution_count": 112,
     "metadata": {},
     "output_type": "execute_result"
    }
   ],
   "source": [
    "len(data)"
   ]
  },
  {
   "cell_type": "markdown",
   "id": "0e74f020-de31-4498-a9ac-bcef5db34638",
   "metadata": {},
   "source": [
    "In the following code cell we are going to create a dataframe based on the data that we have scrapped."
   ]
  },
  {
   "cell_type": "code",
   "execution_count": 113,
   "id": "aed47d1e-bf2b-4d09-b383-4b4ca87df548",
   "metadata": {},
   "outputs": [
    {
     "data": {
      "text/html": [
       "<div>\n",
       "<style scoped>\n",
       "    .dataframe tbody tr th:only-of-type {\n",
       "        vertical-align: middle;\n",
       "    }\n",
       "\n",
       "    .dataframe tbody tr th {\n",
       "        vertical-align: top;\n",
       "    }\n",
       "\n",
       "    .dataframe thead th {\n",
       "        text-align: right;\n",
       "    }\n",
       "</style>\n",
       "<table border=\"1\" class=\"dataframe\">\n",
       "  <thead>\n",
       "    <tr style=\"text-align: right;\">\n",
       "      <th></th>\n",
       "      <th>class</th>\n",
       "      <th>image</th>\n",
       "    </tr>\n",
       "  </thead>\n",
       "  <tbody>\n",
       "    <tr>\n",
       "      <th>0</th>\n",
       "      <td>butterfly</td>\n",
       "      <td>https://bugwoodcloud.org/images/384x256/900908...</td>\n",
       "    </tr>\n",
       "    <tr>\n",
       "      <th>1</th>\n",
       "      <td>butterfly</td>\n",
       "      <td>https://bugwoodcloud.org/images/384x256/900908...</td>\n",
       "    </tr>\n",
       "    <tr>\n",
       "      <th>2</th>\n",
       "      <td>moths</td>\n",
       "      <td>https://bugwoodcloud.org/images/384x256/900907...</td>\n",
       "    </tr>\n",
       "    <tr>\n",
       "      <th>3</th>\n",
       "      <td>moths</td>\n",
       "      <td>https://bugwoodcloud.org/images/384x256/900907...</td>\n",
       "    </tr>\n",
       "    <tr>\n",
       "      <th>4</th>\n",
       "      <td>moths</td>\n",
       "      <td>https://bugwoodcloud.org/images/384x256/900907...</td>\n",
       "    </tr>\n",
       "  </tbody>\n",
       "</table>\n",
       "</div>"
      ],
      "text/plain": [
       "       class                                              image\n",
       "0  butterfly  https://bugwoodcloud.org/images/384x256/900908...\n",
       "1  butterfly  https://bugwoodcloud.org/images/384x256/900908...\n",
       "2      moths  https://bugwoodcloud.org/images/384x256/900907...\n",
       "3      moths  https://bugwoodcloud.org/images/384x256/900907...\n",
       "4      moths  https://bugwoodcloud.org/images/384x256/900907..."
      ]
     },
     "execution_count": 113,
     "metadata": {},
     "output_type": "execute_result"
    }
   ],
   "source": [
    "paired = [list(r.values()) for r in data]\n",
    "\n",
    "df = pd.DataFrame(paired, columns=['class', 'image'])\n",
    "df.head()"
   ]
  },
  {
   "cell_type": "markdown",
   "id": "09af04b9-2a84-4095-9c71-cd01f9b369a8",
   "metadata": {},
   "source": [
    "The following function will rename `plural`to `singular` for class names. "
   ]
  },
  {
   "cell_type": "code",
   "execution_count": 115,
   "id": "556b352c-c97d-41ed-a026-8950749554c9",
   "metadata": {},
   "outputs": [
    {
     "data": {
      "text/plain": [
       "class\n",
       "moth           678438\n",
       "webworm        256112\n",
       "moth)          164326\n",
       "caterpillar    138876\n",
       "borer          113022\n",
       "butterfly      102138\n",
       "swallowtail    100645\n",
       "budworm         79697\n",
       "leafroller      72312\n",
       "armyworm        59172\n",
       "Name: count, dtype: int64"
      ]
     },
     "execution_count": 115,
     "metadata": {},
     "output_type": "execute_result"
    }
   ],
   "source": [
    "df['class'].value_counts()[:10]"
   ]
  },
  {
   "cell_type": "code",
   "execution_count": 124,
   "id": "cbf6ccad-9cf8-46e9-be19-36a49ddf1fba",
   "metadata": {},
   "outputs": [],
   "source": [
    "def rename_class(class_):\n",
    "    obj = {\n",
    "        \"butterflies\": \"butterfly\",\n",
    "        \"moths\": \"moth\",\n",
    "        \"moth)\": \"moth\",\n",
    "        \"hawk-moth\": \"moth\",\n",
    "        \"silkmoth\": \"moth\",\n",
    "        \"silkmoth\": \"hawkmoth\",\n",
    "        \"buttferly\": \"butterfly\",\n",
    "          \"skippers\": \"skipper\", \n",
    "    \"checkered-skipper\": \"skipper\", \n",
    "    }\n",
    "    try:\n",
    "        return obj[class_]\n",
    "    except KeyError:\n",
    "        return class_\n",
    "df['class'] = df['class'].apply(rename_class)"
   ]
  },
  {
   "cell_type": "markdown",
   "id": "fe01ae3a-4451-40a1-afe0-c6bee42692bc",
   "metadata": {},
   "source": [
    "Next we are going to drop the duplicates columns based on the `image` column and filter them to `3` labels for insects which is:\n",
    "\n",
    "1. `butterfly`\n",
    "2. `moth`\n",
    "3. `skipper`"
   ]
  },
  {
   "cell_type": "code",
   "execution_count": 128,
   "id": "40aaa9e8-31e7-4577-a7d7-dfbb9cd4823b",
   "metadata": {},
   "outputs": [
    {
     "data": {
      "text/html": [
       "<div>\n",
       "<style scoped>\n",
       "    .dataframe tbody tr th:only-of-type {\n",
       "        vertical-align: middle;\n",
       "    }\n",
       "\n",
       "    .dataframe tbody tr th {\n",
       "        vertical-align: top;\n",
       "    }\n",
       "\n",
       "    .dataframe thead th {\n",
       "        text-align: right;\n",
       "    }\n",
       "</style>\n",
       "<table border=\"1\" class=\"dataframe\">\n",
       "  <thead>\n",
       "    <tr style=\"text-align: right;\">\n",
       "      <th></th>\n",
       "      <th>class</th>\n",
       "      <th>image</th>\n",
       "    </tr>\n",
       "  </thead>\n",
       "  <tbody>\n",
       "    <tr>\n",
       "      <th>0</th>\n",
       "      <td>butterfly</td>\n",
       "      <td>https://bugwoodcloud.org/images/384x256/900908...</td>\n",
       "    </tr>\n",
       "    <tr>\n",
       "      <th>1</th>\n",
       "      <td>butterfly</td>\n",
       "      <td>https://bugwoodcloud.org/images/384x256/900908...</td>\n",
       "    </tr>\n",
       "    <tr>\n",
       "      <th>2</th>\n",
       "      <td>moth</td>\n",
       "      <td>https://bugwoodcloud.org/images/384x256/900907...</td>\n",
       "    </tr>\n",
       "    <tr>\n",
       "      <th>3</th>\n",
       "      <td>moth</td>\n",
       "      <td>https://bugwoodcloud.org/images/384x256/900907...</td>\n",
       "    </tr>\n",
       "    <tr>\n",
       "      <th>4</th>\n",
       "      <td>moth</td>\n",
       "      <td>https://bugwoodcloud.org/images/384x256/900907...</td>\n",
       "    </tr>\n",
       "  </tbody>\n",
       "</table>\n",
       "</div>"
      ],
      "text/plain": [
       "       class                                              image\n",
       "0  butterfly  https://bugwoodcloud.org/images/384x256/900908...\n",
       "1  butterfly  https://bugwoodcloud.org/images/384x256/900908...\n",
       "2       moth  https://bugwoodcloud.org/images/384x256/900907...\n",
       "3       moth  https://bugwoodcloud.org/images/384x256/900907...\n",
       "4       moth  https://bugwoodcloud.org/images/384x256/900907..."
      ]
     },
     "execution_count": 128,
     "metadata": {},
     "output_type": "execute_result"
    }
   ],
   "source": [
    "df_unique = df.drop_duplicates(subset='image')\n",
    "df_filtered = df_unique[df_unique['class'].isin(['butterfly', 'moth', \"skipper\"])]\n",
    "df_filtered.head()"
   ]
  },
  {
   "cell_type": "code",
   "execution_count": 142,
   "id": "692561dc-ac88-4a68-aa6e-71869c0d47ad",
   "metadata": {},
   "outputs": [
    {
     "name": "stdout",
     "output_type": "stream",
     "text": [
      "['butterfly' 'moth' 'skipper']\n"
     ]
    }
   ],
   "source": [
    "print(df_filtered['class'].unique())"
   ]
  },
  {
   "cell_type": "code",
   "execution_count": 143,
   "id": "451c8390-0d4d-4e0e-833d-3c17a9b531f1",
   "metadata": {},
   "outputs": [
    {
     "name": "stdout",
     "output_type": "stream",
     "text": [
      "Saved\n"
     ]
    }
   ],
   "source": [
    "df_filtered.to_csv('pickle.csv', index=False)\n",
    "print(\"Saved\")"
   ]
  },
  {
   "cell_type": "code",
   "execution_count": 144,
   "id": "eae3edec-3d07-472e-8d0c-6d421a017522",
   "metadata": {},
   "outputs": [],
   "source": [
    "df_filtered = pd.read_csv('pickle.csv')"
   ]
  },
  {
   "cell_type": "code",
   "execution_count": 145,
   "id": "23d14409-96a0-4698-848d-8ef57888a860",
   "metadata": {},
   "outputs": [
    {
     "data": {
      "text/plain": [
       "class\n",
       "moth         3569\n",
       "butterfly     356\n",
       "skipper       175\n",
       "Name: count, dtype: int64"
      ]
     },
     "execution_count": 145,
     "metadata": {},
     "output_type": "execute_result"
    }
   ],
   "source": [
    "df_filtered['class'].value_counts()"
   ]
  },
  {
   "cell_type": "markdown",
   "id": "9075eeb3-1c16-476b-99ae-92ce2a798bef",
   "metadata": {},
   "source": [
    "Next we are going to download these images into their respective directories based on their class names. Before we donload them we want to make sure that they are balanced."
   ]
  },
  {
   "cell_type": "code",
   "execution_count": 146,
   "id": "e95748e4-d3ec-4409-9cff-f27a51dcf338",
   "metadata": {},
   "outputs": [
    {
     "data": {
      "text/plain": [
       "class\n",
       "butterfly    175\n",
       "moth         175\n",
       "skipper      175\n",
       "Name: count, dtype: int64"
      ]
     },
     "execution_count": 146,
     "metadata": {},
     "output_type": "execute_result"
    }
   ],
   "source": [
    "min_size = df_filtered['class'].value_counts().min()\n",
    "df_balanced = df_filtered.groupby('class').apply(lambda x: x.sample(min_size)).reset_index(drop=True)\n",
    "df_balanced['class'].value_counts()"
   ]
  },
  {
   "cell_type": "code",
   "execution_count": 147,
   "id": "9feb2062-9543-47ae-abb6-0273c3faeacb",
   "metadata": {},
   "outputs": [],
   "source": [
    "base_dir = \"dataset\"\n",
    "\n",
    "if not os.path.exists(base_dir):\n",
    "    os.mkdir(base_dir)\n",
    "\n",
    "for class_ in df_filtered['class'].unique():\n",
    "    class_dir = os.path.join(base_dir, class_)\n",
    "    if not os.path.exists(class_dir):\n",
    "        os.mkdir(class_dir)\n"
   ]
  },
  {
   "cell_type": "markdown",
   "id": "dd36325b-2c7f-49f6-9ce4-3e09113e40c3",
   "metadata": {},
   "source": [
    "We are going to use the `ThreadPoolExecutor` from `concurrent.futures` to do multi-processing in downloading and saving the images concurrently. First let's check the number of `cpu's` that are in this computer."
   ]
  },
  {
   "cell_type": "code",
   "execution_count": 148,
   "id": "a3eea560-79cf-4b56-b68e-916962d6ec5e",
   "metadata": {},
   "outputs": [
    {
     "name": "stdout",
     "output_type": "stream",
     "text": [
      "CPUs: 12\n"
     ]
    }
   ],
   "source": [
    "num_workers = multiprocessing.cpu_count()\n",
    "print(\"CPUs: {}\".format(num_workers))"
   ]
  },
  {
   "cell_type": "markdown",
   "id": "5fc2b842-003b-4504-b107-16e625ed6ec5",
   "metadata": {},
   "source": [
    "We can try to get the images and their classes from a pandas dataframe to a python list of tuples."
   ]
  },
  {
   "cell_type": "code",
   "execution_count": 149,
   "id": "22054f72-546e-44ee-b554-355f40bbddb2",
   "metadata": {},
   "outputs": [],
   "source": [
    "img_urls = list(zip(\n",
    "    df_balanced['class'].values,\n",
    "    df_balanced['image'].values,\n",
    "))\n",
    "\n",
    "random.shuffle(img_urls)"
   ]
  },
  {
   "cell_type": "code",
   "execution_count": 150,
   "id": "17e24058-4b75-48f0-b7b0-d98ca6dfa70b",
   "metadata": {},
   "outputs": [
    {
     "data": {
      "text/plain": [
       "[('skipper', 'https://bugwoodcloud.org/images/384x256/5582048.jpg'),\n",
       " ('moth', 'https://bugwoodcloud.org/images/384x256/5429059.jpg')]"
      ]
     },
     "execution_count": 150,
     "metadata": {},
     "output_type": "execute_result"
    }
   ],
   "source": [
    "img_urls[:2]"
   ]
  },
  {
   "cell_type": "markdown",
   "id": "c73e7436-6157-480f-a4ad-11df9c7ac1f1",
   "metadata": {},
   "source": [
    "The following function save a single image of an insect in it's respective folder."
   ]
  },
  {
   "cell_type": "code",
   "execution_count": 151,
   "id": "498ffcfa-8ed0-427f-a71f-163d1f522040",
   "metadata": {},
   "outputs": [],
   "source": [
    "skipped = list()\n",
    "headers = {\n",
    "    'User-Agent': 'Mozilla/5.0 (Windows NT 10.0; Win64; x64) AppleWebKit/537.36 (KHTML, like Gecko) Chrome/58.0.3029.110 Safari/537.36'\n",
    "}\n",
    "\n",
    "def save_image(row):\n",
    "    class_, url = row\n",
    "    try:\n",
    "        image_name = f\"{url.split('/')[-1]}\"\n",
    "        res = requests.get(url, headers=headers)\n",
    "        if res.status_code == 200:\n",
    "            save_name = os.path.join(base_dir, class_, image_name)\n",
    "            with open(save_name, 'wb') as fp:\n",
    "                fp.write(res.content)\n",
    "        else:\n",
    "            print(\"Failed to download the image: STATUS CODE {}\".format(res.status_code))\n",
    "    except Exception as e:\n",
    "        print(e)\n",
    "        print(\"url skipped:\", url)\n",
    "        skipped.append(url)"
   ]
  },
  {
   "cell_type": "markdown",
   "id": "4f8bdb26-cf63-4d9d-af2e-cee611430639",
   "metadata": {},
   "source": [
    "Next we are going to download the images from the urls."
   ]
  },
  {
   "cell_type": "code",
   "execution_count": 152,
   "id": "b2a7f68b-a19a-4b15-b69c-93bddc50a87b",
   "metadata": {},
   "outputs": [
    {
     "name": "stderr",
     "output_type": "stream",
     "text": [
      "downloading...: 100%|████████████████████████████████████████████████████████████████| 525/525 [01:57<00:00,  4.45it/s]"
     ]
    },
    {
     "name": "stdout",
     "output_type": "stream",
     "text": [
      "Done!!\n"
     ]
    },
    {
     "name": "stderr",
     "output_type": "stream",
     "text": [
      "\n"
     ]
    }
   ],
   "source": [
    "with ThreadPoolExecutor(max_workers=num_workers) as executor:\n",
    "    futures = [executor.submit(save_image, i) for i in img_urls]\n",
    "    for future in tqdm.tqdm(as_completed(futures), desc=\"downloading...\", total=len(img_urls)):\n",
    "        pass\n",
    "print(\"Done!!\")"
   ]
  },
  {
   "cell_type": "markdown",
   "id": "da20423d-b42f-4987-bb79-a3c573c240a0",
   "metadata": {},
   "source": [
    "After downloading these images, We want to split our dataset into `2` sets the `train` and `test`. So we are going to create the following folder structure in our `dataset` directory.\n",
    "\n",
    "\n",
    "```\n",
    "📁 dataset\n",
    "    📁  train\n",
    "      📁class_1\n",
    "         - 0.jpg\n",
    "         - 1.jpg\n",
    "         ....\n",
    "      📁  class_2\n",
    "         - 0.jpg\n",
    "         - 1.jpg\n",
    "         ....\n",
    "      .....\n",
    "    📁  test\n",
    "      📁  class_1\n",
    "         - 0.jpg\n",
    "         - 1.jpg\n",
    "         ....\n",
    "      📁  class_2\n",
    "         - 0.jpg\n",
    "         - 1.jpg\n",
    "         ....\n",
    "    ....\n",
    "```"
   ]
  },
  {
   "cell_type": "code",
   "execution_count": 153,
   "id": "6ba53fcf-3491-4f66-9006-b859cdbff013",
   "metadata": {},
   "outputs": [],
   "source": [
    "for class_ in df_filtered['class'].unique():\n",
    "    train_dir = os.path.join(base_dir,'train', class_)\n",
    "    test_dir = os.path.join(base_dir,'test', class_)\n",
    "    if not os.path.exists(train_dir):\n",
    "        os.makedirs(train_dir)\n",
    "    if not os.path.exists(test_dir):\n",
    "        os.makedirs(test_dir)"
   ]
  },
  {
   "cell_type": "markdown",
   "id": "152dc375-270c-4f82-ab76-d788a80863cf",
   "metadata": {},
   "source": [
    "We will take the first `72` images and put them in the test folder to the respective class and the rest will be taken to the train folder of the respective class."
   ]
  },
  {
   "cell_type": "code",
   "execution_count": 154,
   "id": "7c26431e-7ae8-464e-ac22-31a20f41a4e4",
   "metadata": {},
   "outputs": [
    {
     "name": "stderr",
     "output_type": "stream",
     "text": [
      "moving images to the butterfly folder...: 100%|███████████████████████████████████████| 55/55 [00:00<00:00, 395.88it/s]\n",
      "moving images to the butterfly folder...: 100%|█████████████████████████████████████| 120/120 [00:00<00:00, 449.37it/s]\n",
      "moving images to the moth folder...: 100%|████████████████████████████████████████████| 55/55 [00:00<00:00, 631.99it/s]\n",
      "moving images to the moth folder...: 100%|██████████████████████████████████████████| 120/120 [00:00<00:00, 497.91it/s]\n",
      "moving images to the skipper folder...: 100%|█████████████████████████████████████████| 55/55 [00:00<00:00, 658.46it/s]\n",
      "moving images to the skipper folder...: 100%|███████████████████████████████████████| 120/120 [00:00<00:00, 532.91it/s]\n"
     ]
    }
   ],
   "source": [
    "def move_to_final_destination(trg, class_:str, limit=None):\n",
    "    class_dir = os.path.join(base_dir, class_)\n",
    "    total = len(os.listdir(class_dir)) if limit is None else limit\n",
    "    if limit is None:\n",
    "        for image_name in tqdm.tqdm(os.listdir(class_dir), total=total, desc=f\"moving images to the {class_} folder...\"):\n",
    "            src = os.path.join(class_dir, image_name)\n",
    "            shutil.move(src, trg)\n",
    "    else:\n",
    "        for image_name in tqdm.tqdm(os.listdir(class_dir)[:limit], total=total, desc=f\"moving images to the {class_} folder...\"):\n",
    "            src = os.path.join(class_dir, image_name)\n",
    "            shutil.move(src, trg)\n",
    "\n",
    "for class_ in df_filtered['class'].unique():\n",
    "    train_dir = os.path.join(base_dir,'train', class_)\n",
    "    test_dir = os.path.join(base_dir,'test', class_)\n",
    "    move_to_final_destination(test_dir, class_, limit=55)\n",
    "    move_to_final_destination(train_dir, class_, limit=None)\n"
   ]
  },
  {
   "cell_type": "markdown",
   "id": "29108233-6e41-48a3-8e94-001ad139c54d",
   "metadata": {},
   "source": [
    "Next we are going to remove the `class` directories from the dataset."
   ]
  },
  {
   "cell_type": "code",
   "execution_count": 155,
   "id": "9c0d68fa-a756-43a1-954f-c3cf6a3b688e",
   "metadata": {},
   "outputs": [],
   "source": [
    "for class_ in df_filtered['class'].unique():\n",
    "    _dir = os.path.join(base_dir, class_)\n",
    "    shutil.rmtree(_dir, 0o777)\n",
    "\n",
    "driver.quit()"
   ]
  },
  {
   "cell_type": "markdown",
   "id": "07e38000-ee75-4a8d-a313-cbfaa062f2f8",
   "metadata": {},
   "source": [
    "### Refs\n",
    "1. [github.com/CrispenGari](https://github.com/CrispenGari/web-scrapping-python/blob/main/selenium/selenium.ipynb)"
   ]
  }
 ],
 "metadata": {
  "kernelspec": {
   "display_name": "Python 3 (ipykernel)",
   "language": "python",
   "name": "python3"
  },
  "language_info": {
   "codemirror_mode": {
    "name": "ipython",
    "version": 3
   },
   "file_extension": ".py",
   "mimetype": "text/x-python",
   "name": "python",
   "nbconvert_exporter": "python",
   "pygments_lexer": "ipython3",
   "version": "3.11.7"
  }
 },
 "nbformat": 4,
 "nbformat_minor": 5
}
