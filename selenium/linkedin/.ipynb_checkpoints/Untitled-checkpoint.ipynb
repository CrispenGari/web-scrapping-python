{
 "cells": [
  {
   "cell_type": "markdown",
   "id": "c2e92ffc-5972-4c0c-8dda-48efb8863bbe",
   "metadata": {},
   "source": [
    "### Scraping Linked in Data\n",
    "\n",
    "In this notebook we are going to scrape the data from linked in profiles of people in data science.\n",
    "\n",
    "\n",
    "First we need to makesure that we install the `webdriver-manager` as follows."
   ]
  },
  {
   "cell_type": "code",
   "execution_count": 4,
   "id": "1a522ef5-8224-46e3-9352-23985856f0fd",
   "metadata": {},
   "outputs": [
    {
     "name": "stdout",
     "output_type": "stream",
     "text": [
      "Note: you may need to restart the kernel to use updated packages.\n"
     ]
    }
   ],
   "source": [
    "pip install webdriver-manager -q"
   ]
  },
  {
   "cell_type": "markdown",
   "id": "9b09317a-66dc-41ab-9703-f815d5f80cb2",
   "metadata": {},
   "source": [
    "In the following code cell we are going to import all the packages that we are going to use in this notebook for the webscraping task."
   ]
  },
  {
   "cell_type": "code",
   "execution_count": 98,
   "id": "16c8f554-e33f-4d75-9438-2d4a9320cacd",
   "metadata": {},
   "outputs": [],
   "source": [
    "import os\n",
    "import pandas as pd\n",
    "import requests\n",
    "import tqdm\n",
    "import random\n",
    "import shutil\n",
    "import time\n",
    "import multiprocessing\n",
    "\n",
    "\n",
    "from selenium import webdriver\n",
    "from selenium.webdriver.common.keys import Keys\n",
    "from bs4 import BeautifulSoup\n",
    "from concurrent.futures import ThreadPoolExecutor, as_completed\n",
    "from getpass import getpass\n",
    "from selenium.webdriver.chrome.service import Service\n",
    "from webdriver_manager.chrome import ChromeDriverManager\n",
    "from selenium.webdriver.common.action_chains import ActionChains\n",
    "from selenium.webdriver.common.by import By"
   ]
  },
  {
   "cell_type": "markdown",
   "id": "458c5c92-3c57-4bca-8d74-f32e92f17711",
   "metadata": {},
   "source": [
    "Next we are going to create an instance of a ``Chrome`` driver using ``selenium`` for automation."
   ]
  },
  {
   "cell_type": "code",
   "execution_count": 2,
   "id": "fe15da45-3f40-472a-9a57-689eab4422e7",
   "metadata": {},
   "outputs": [],
   "source": [
    "driver = webdriver.Chrome(service=Service(ChromeDriverManager().install()))"
   ]
  },
  {
   "cell_type": "markdown",
   "id": "dfbc6e6e-da9c-4958-ae43-0806dc4098c3",
   "metadata": {},
   "source": [
    "Next we are going to visit https://www.linkedin.com/"
   ]
  },
  {
   "cell_type": "code",
   "execution_count": 69,
   "id": "30a04bff-b3b0-417a-987f-23b62bcd28dc",
   "metadata": {},
   "outputs": [],
   "source": [
    "driver.get('https://www.linkedin.com/')\n",
    "driver.maximize_window()"
   ]
  },
  {
   "cell_type": "markdown",
   "id": "5e3e7b73-b2d3-4803-bb7f-a1c395b7ee0f",
   "metadata": {},
   "source": [
    "We are then going to take the credential to login to our linked in account."
   ]
  },
  {
   "cell_type": "code",
   "execution_count": 4,
   "id": "7c22cdcb-c8de-48e7-a250-3f66e559e1d8",
   "metadata": {},
   "outputs": [
    {
     "name": "stdin",
     "output_type": "stream",
     "text": [
      "Enter the Linked in password:  ········\n"
     ]
    }
   ],
   "source": [
    "email = 'crispengari@gmail.com'\n",
    "password = getpass(prompt = 'Enter the Linked in password: ').strip()"
   ]
  },
  {
   "cell_type": "markdown",
   "id": "c5a272c5-e216-4956-bf70-9d93efd73c8c",
   "metadata": {},
   "source": [
    "Then we click the `Sign in` link."
   ]
  },
  {
   "cell_type": "code",
   "execution_count": 5,
   "id": "26f4b0d8-05b1-40a1-a944-e8f5933ddc32",
   "metadata": {},
   "outputs": [],
   "source": [
    "driver.find_element(By.LINK_TEXT, 'Sign in').click() #driver.find_element(By.XPATH, '/html/body/nav/div/a[2]')"
   ]
  },
  {
   "cell_type": "markdown",
   "id": "a4ae7b21-2f29-4180-b796-b21696f04f5e",
   "metadata": {},
   "source": [
    "Then we are going to signin to linked in with our credentials."
   ]
  },
  {
   "cell_type": "code",
   "execution_count": 6,
   "id": "9c927a82-c588-457f-89ee-f2325b6176d6",
   "metadata": {},
   "outputs": [],
   "source": [
    "email_field = driver.find_element(By.XPATH, \"//input[@id='username']\")\n",
    "email_field.send_keys(email)\n",
    "email_field.send_keys(Keys.RETURN)\n",
    "\n",
    "password_field = driver.find_element(By.XPATH, \"//input[@id='password']\")\n",
    "password_field.send_keys(password)\n",
    "password_field.send_keys(Keys.RETURN)"
   ]
  },
  {
   "cell_type": "markdown",
   "id": "c1d6596e-e907-4eab-9ee1-1fcf815eeac8",
   "metadata": {},
   "source": [
    "We then define the search queries that we want selenium to automate search on linked in."
   ]
  },
  {
   "cell_type": "code",
   "execution_count": 70,
   "id": "b5f8ecf8-7cfe-4628-8fe7-2b8d8a69851b",
   "metadata": {},
   "outputs": [],
   "source": [
    "# targeting the search field\n",
    "queries  = [\"data engineer in south africa\", \"Data Analyst in south africa\",\n",
    "            \"Data Scientist in south africa\", 'machine learning engineer in south africa']"
   ]
  },
  {
   "cell_type": "markdown",
   "id": "897bbf91-685e-45a0-a813-9ff806a06c86",
   "metadata": {},
   "source": [
    "The function `get_page_profile` allows us to get the profile url of a person from the search result."
   ]
  },
  {
   "cell_type": "code",
   "execution_count": 82,
   "id": "30010272-6189-4d39-ae1c-b7ca3a1237c4",
   "metadata": {},
   "outputs": [],
   "source": [
    "def get_page_profile():\n",
    "    soup = BeautifulSoup(driver.page_source, 'html.parser')\n",
    "    page_result = soup.find_all('li', {'class': 'reusable-search__result-container'})\n",
    "    profile_urls = [res.find('a')['href'].split('?')[0] for res in page_result]\n",
    "    return profile_urls"
   ]
  },
  {
   "cell_type": "code",
   "execution_count": 99,
   "id": "f3b36721-37bf-4405-8a02-eb959cf62b72",
   "metadata": {},
   "outputs": [],
   "source": [
    "actions = ActionChains(driver)"
   ]
  },
  {
   "cell_type": "markdown",
   "id": "c7164ebc-d386-45b2-8bd3-07626230d3d0",
   "metadata": {},
   "source": [
    "The function `search_for_profiles` will take in the query and the elapse time together with the number of pages that we want to paginate for and returns us the unique number of profile urls."
   ]
  },
  {
   "cell_type": "code",
   "execution_count": 126,
   "id": "7c572c4a-a9f3-4a82-8520-2fc35d1b7cf5",
   "metadata": {},
   "outputs": [],
   "source": [
    "def search_for_profiles(q, wait_for:int = 10, pages:int = 100):\n",
    "    search_field = driver.find_element(By.XPATH, \"//input[@placeholder='Search']\")\n",
    "    driver.execute_script(\"arguments[0].value = '';\", search_field)\n",
    "    search_field.send_keys(q)\n",
    "    search_field.send_keys(Keys.RETURN)\n",
    "    time.sleep(wait_for)\n",
    "    try:\n",
    "        driver.find_element(By.XPATH, \"//button[@aria-pressed='false'][normalize-space()='People']\").click()\n",
    "    except Exception:pass\n",
    "        \n",
    "    profile_urls = []\n",
    "    for i in tqdm.tqdm(range(pages), total=pages, desc=\"Next Page >>>\"):\n",
    "        try:\n",
    "            driver.execute_script(\"window.scrollTo(0, document.body.scrollHeight);\")\n",
    "            time.sleep(wait_for)\n",
    "            next_btn = driver.find_element(By.XPATH,  \"//button[@aria-label='Next' and @type='button']\")\n",
    "            actions.move_to_element(next_btn).click().perform()\n",
    "            # next_btn.click()\n",
    "            time.sleep(3)\n",
    "            ps = get_page_profile()\n",
    "            profile_urls.extend(ps)\n",
    "            time.sleep(3)\n",
    "        except Exception: pass\n",
    "    return list(set(profile_urls))"
   ]
  },
  {
   "cell_type": "markdown",
   "id": "c8b29f13-33ed-4f77-8333-facb042ad6cc",
   "metadata": {},
   "source": [
    "In the following code cell we are then going to query all the profile urls and store them as a list. So that we can save them to a `.csv` file for later usage."
   ]
  },
  {
   "cell_type": "code",
   "execution_count": 127,
   "id": "b9500a16-610b-42bd-90e0-c874cd3ccf08",
   "metadata": {},
   "outputs": [
    {
     "name": "stdout",
     "output_type": "stream",
     "text": [
      "Fetching for: data engineer in south africa\n"
     ]
    },
    {
     "name": "stderr",
     "output_type": "stream",
     "text": [
      "Next Page >>>: 100%|█████████████████████████████████████████████████████████████████| 100/100 [28:46<00:00, 17.26s/it]\n"
     ]
    },
    {
     "name": "stdout",
     "output_type": "stream",
     "text": [
      "Fetching for: Data Analyst in south africa\n"
     ]
    },
    {
     "name": "stderr",
     "output_type": "stream",
     "text": [
      "Next Page >>>: 100%|█████████████████████████████████████████████████████████████████| 100/100 [29:42<00:00, 17.83s/it]\n"
     ]
    },
    {
     "name": "stdout",
     "output_type": "stream",
     "text": [
      "Fetching for: Data Scientist in south africa\n"
     ]
    },
    {
     "name": "stderr",
     "output_type": "stream",
     "text": [
      "Next Page >>>: 100%|█████████████████████████████████████████████████████████████████| 100/100 [21:59<00:00, 13.20s/it]\n"
     ]
    },
    {
     "name": "stdout",
     "output_type": "stream",
     "text": [
      "Fetching for: machine learning engineer in south africa\n"
     ]
    },
    {
     "name": "stderr",
     "output_type": "stream",
     "text": [
      "Next Page >>>: 100%|█████████████████████████████████████████████████████████████████| 100/100 [29:49<00:00, 17.89s/it]\n"
     ]
    }
   ],
   "source": [
    "all_urls = []\n",
    "for q in queries:\n",
    "    print(f\"Fetching for: {q}\")\n",
    "    res = search_for_profiles(q)\n",
    "    all_urls.extend(res)"
   ]
  },
  {
   "cell_type": "markdown",
   "id": "03e4be5c-ee46-434e-b125-631c56317f06",
   "metadata": {},
   "source": [
    "Next we are going to create a dataframe for these urls. And give it a column name ``profile``."
   ]
  },
  {
   "cell_type": "code",
   "execution_count": 135,
   "id": "7aaa0da1-0d5e-42ed-ae30-5f3e3f803100",
   "metadata": {},
   "outputs": [
    {
     "data": {
      "text/html": [
       "<div>\n",
       "<style scoped>\n",
       "    .dataframe tbody tr th:only-of-type {\n",
       "        vertical-align: middle;\n",
       "    }\n",
       "\n",
       "    .dataframe tbody tr th {\n",
       "        vertical-align: top;\n",
       "    }\n",
       "\n",
       "    .dataframe thead th {\n",
       "        text-align: right;\n",
       "    }\n",
       "</style>\n",
       "<table border=\"1\" class=\"dataframe\">\n",
       "  <thead>\n",
       "    <tr style=\"text-align: right;\">\n",
       "      <th></th>\n",
       "      <th>profile</th>\n",
       "    </tr>\n",
       "  </thead>\n",
       "  <tbody>\n",
       "    <tr>\n",
       "      <th>0</th>\n",
       "      <td>https://www.linkedin.com/in/matthew-shane-van-...</td>\n",
       "    </tr>\n",
       "    <tr>\n",
       "      <th>1</th>\n",
       "      <td>https://www.linkedin.com/in/dewaalnienaber</td>\n",
       "    </tr>\n",
       "    <tr>\n",
       "      <th>2</th>\n",
       "      <td>https://www.linkedin.com/in/sthembiso-makofane...</td>\n",
       "    </tr>\n",
       "    <tr>\n",
       "      <th>3</th>\n",
       "      <td>https://www.linkedin.com/in/lindokuhle-tshuma-...</td>\n",
       "    </tr>\n",
       "    <tr>\n",
       "      <th>4</th>\n",
       "      <td>https://www.linkedin.com/in/gladstone-ndhlovu-...</td>\n",
       "    </tr>\n",
       "  </tbody>\n",
       "</table>\n",
       "</div>"
      ],
      "text/plain": [
       "                                             profile\n",
       "0  https://www.linkedin.com/in/matthew-shane-van-...\n",
       "1         https://www.linkedin.com/in/dewaalnienaber\n",
       "2  https://www.linkedin.com/in/sthembiso-makofane...\n",
       "3  https://www.linkedin.com/in/lindokuhle-tshuma-...\n",
       "4  https://www.linkedin.com/in/gladstone-ndhlovu-..."
      ]
     },
     "execution_count": 135,
     "metadata": {},
     "output_type": "execute_result"
    }
   ],
   "source": [
    "profile_df = pd.DataFrame(set(all_urls), columns=['profile'])\n",
    "profile_df.head()"
   ]
  },
  {
   "cell_type": "code",
   "execution_count": 137,
   "id": "34abe687-46d3-4a56-af4d-d9c069eadcb7",
   "metadata": {},
   "outputs": [
    {
     "name": "stdout",
     "output_type": "stream",
     "text": [
      "Saved!\n"
     ]
    }
   ],
   "source": [
    "if len(profile_df) != 0:\n",
    "    profile_df.to_csv('profiles.csv', index=False)\n",
    "    print(\"Saved!\")"
   ]
  },
  {
   "cell_type": "markdown",
   "id": "0178f0ea-17df-4001-a049-9e4d4e87ac32",
   "metadata": {},
   "source": [
    "In the following code cell we can then load our urls in a numpy array from a dataframe."
   ]
  },
  {
   "cell_type": "code",
   "execution_count": 139,
   "id": "3facde0c-284f-4a50-80d0-712e652d5f98",
   "metadata": {},
   "outputs": [
    {
     "data": {
      "text/plain": [
       "array(['https://www.linkedin.com/in/matthew-shane-van-den-berg-1b90ba143',\n",
       "       'https://www.linkedin.com/in/dewaalnienaber'], dtype=object)"
      ]
     },
     "execution_count": 139,
     "metadata": {},
     "output_type": "execute_result"
    }
   ],
   "source": [
    "urls = pd.read_csv('profiles.csv').profile.values\n",
    "urls[:2]"
   ]
  },
  {
   "cell_type": "markdown",
   "id": "e2268727-e18d-43e4-a33f-47608e01b6c6",
   "metadata": {},
   "source": [
    "Noe we can use these profile url's to scrape the information that we are intrested in in each profile."
   ]
  },
  {
   "cell_type": "code",
   "execution_count": null,
   "id": "15e27bac-0615-4b2c-8bc3-665462544c24",
   "metadata": {},
   "outputs": [],
   "source": []
  },
  {
   "cell_type": "code",
   "execution_count": null,
   "id": "a6f8c32c-6c0f-418d-bfd6-4a2deae69698",
   "metadata": {},
   "outputs": [],
   "source": []
  },
  {
   "cell_type": "code",
   "execution_count": null,
   "id": "5d22e775-7c01-4798-b106-f4a2f423a3f6",
   "metadata": {},
   "outputs": [],
   "source": []
  },
  {
   "cell_type": "code",
   "execution_count": null,
   "id": "d3aa6b7b-ca77-4650-8184-ecaf421d2dd9",
   "metadata": {},
   "outputs": [],
   "source": []
  },
  {
   "cell_type": "code",
   "execution_count": null,
   "id": "17ed9238-dcbb-461d-bc3e-af8af78f120d",
   "metadata": {},
   "outputs": [],
   "source": []
  },
  {
   "cell_type": "code",
   "execution_count": 33,
   "id": "1aa89b48-39d9-4f0c-a58b-b0a1912474f3",
   "metadata": {},
   "outputs": [],
   "source": [
    "driver.find_element(By.CLASS_NAME, \"pvs-navigation__text\").click()"
   ]
  },
  {
   "cell_type": "code",
   "execution_count": 32,
   "id": "fa921c0c-b4e6-4b3d-af53-c09487d783dd",
   "metadata": {},
   "outputs": [
    {
     "ename": "IndexError",
     "evalue": "list index out of range",
     "output_type": "error",
     "traceback": [
      "\u001b[1;31m---------------------------------------------------------------------------\u001b[0m",
      "\u001b[1;31mIndexError\u001b[0m                                Traceback (most recent call last)",
      "Cell \u001b[1;32mIn[32], line 4\u001b[0m\n\u001b[0;32m      1\u001b[0m experience_soup \u001b[38;5;241m=\u001b[39m  BeautifulSoup(driver\u001b[38;5;241m.\u001b[39mpage_source, \u001b[38;5;124m'\u001b[39m\u001b[38;5;124mhtml.parser\u001b[39m\u001b[38;5;124m'\u001b[39m)\n\u001b[0;32m      3\u001b[0m items \u001b[38;5;241m=\u001b[39m experience_soup\u001b[38;5;241m.\u001b[39mfind_all(\u001b[38;5;124m'\u001b[39m\u001b[38;5;124mli\u001b[39m\u001b[38;5;124m'\u001b[39m, {\u001b[38;5;124m'\u001b[39m\u001b[38;5;124mclass\u001b[39m\u001b[38;5;124m'\u001b[39m: \u001b[38;5;124m'\u001b[39m\u001b[38;5;124mpvs-list__paged-list-item\u001b[39m\u001b[38;5;124m'\u001b[39m})\n\u001b[1;32m----> 4\u001b[0m items[\u001b[38;5;241m0\u001b[39m]\u001b[38;5;241m.\u001b[39mfind(\u001b[38;5;124m'\u001b[39m\u001b[38;5;124mspan\u001b[39m\u001b[38;5;124m'\u001b[39m, {\u001b[38;5;124m'\u001b[39m\u001b[38;5;124mclass\u001b[39m\u001b[38;5;124m'\u001b[39m:\u001b[38;5;124m'\u001b[39m\u001b[38;5;124mt-14 t-normal\u001b[39m\u001b[38;5;124m'\u001b[39m})\u001b[38;5;241m.\u001b[39mtext\u001b[38;5;241m.\u001b[39msplit(\u001b[38;5;124m'\u001b[39m\u001b[38;5;124m·\u001b[39m\u001b[38;5;124m'\u001b[39m)[\u001b[38;5;241m0\u001b[39m]\u001b[38;5;241m.\u001b[39mstrip()\n",
      "\u001b[1;31mIndexError\u001b[0m: list index out of range"
     ]
    }
   ],
   "source": [
    "experience_soup =  BeautifulSoup(driver.page_source, 'html.parser')\n",
    "\n",
    "items = experience_soup.find_all('li', {'class': 'pvs-list__paged-list-item'})\n",
    "items[0].find('span', {'class':'t-14 t-normal'}).text.split('·')[0].strip()\n",
    "# items[0].find('div>span', {'class':'visually-hidden'}).text.split('·')[0].strip()"
   ]
  },
  {
   "cell_type": "code",
   "execution_count": 27,
   "id": "3a520c6b-3b02-4e13-ab77-03d22eb16483",
   "metadata": {},
   "outputs": [
    {
     "data": {
      "text/plain": [
       "[]"
      ]
     },
     "execution_count": 27,
     "metadata": {},
     "output_type": "execute_result"
    }
   ],
   "source": [
    "def get_company(soup):\n",
    "    return soup.find('span', {'aria-hidden': 'true'}).get_text(strip=True)\n",
    "\n",
    "def get_roles(soup):\n",
    "    roles = []\n",
    "    role_elements = soup.find_all('li', class_='pvs-list__paged-list-item pvs-list__item--one-column')\n",
    "    \n",
    "    for role in role_elements:\n",
    "        role_name = role.find('span', {'aria-hidden': 'true'}).get_text(strip=True)\n",
    "        date_range = role.find_all('span', {'aria-hidden': 'true'})[1].get_text(strip=True).split('·')[0]\n",
    "        from_date, to_date = date_range.split(' - ')\n",
    "        roles.append({'name': role_name, 'from': from_date, 'to': to_date})\n",
    "    return roles\n",
    "\n",
    "get_roles(items[3])"
   ]
  },
  {
   "cell_type": "code",
   "execution_count": 30,
   "id": "25149103-8208-4d52-8e62-e08e6c4af234",
   "metadata": {},
   "outputs": [
    {
     "data": {
      "text/plain": [
       "<li class=\"pvs-list__paged-list-item pvs-list__item--one-column\" id=\"profilePagedListComponent-ACoAAAvbmn8BgkeRRgd4-urnYm8lHXSlpr-LujQ-EXPERIENCE-VIEW-DETAILS-profilePositionGroup-ACoAAAvbmn8BgkeRRgd4-urnYm8lHXSlpr-LujQ-c218197500c6500b6fb587a99cfe182962496e58-NONE-en-US-0\">\n",
       "<div>\n",
       "<span class=\"XXPUrJqMIZMEhzFhbPwQJlRaYcIINdcNLqOXYYc\"></span>\n",
       "<div class=\"BMQQbQbgIDIXbuCJMEYkpUriexATDoZLBuVSA ampufUOsTbANTpJpxILrGEjGvFMwYs\" data-view-name=\"profile-component-entity\">\n",
       "<div>\n",
       "<div aria-hidden=\"true\" class=\"display-flex\" tabindex=\"-1\">\n",
       "<!-- -->\n",
       "</div>\n",
       "</div>\n",
       "<div class=\"display-flex flex-column full-width align-self-center\">\n",
       "<div class=\"display-flex flex-row justify-space-between\">\n",
       "<a class=\"optional-action-target-wrapper display-flex flex-column full-width\" href=\"https://www.linkedin.com/company/614583/\" target=\"_self\">\n",
       "<div class=\"display-flex flex-wrap align-items-center full-height\">\n",
       "<div class=\"display-flex\">\n",
       "<div class=\"display-flex full-width\">\n",
       "<div class=\"display-flex align-items-center mr1 hoverable-link-text t-bold\">\n",
       "<span aria-hidden=\"true\"><!-- -->Data Engineer<!-- --></span><span class=\"visually-hidden\"><!-- -->Data Engineer<!-- --></span>\n",
       "</div>\n",
       "</div>\n",
       "</div>\n",
       "<!-- --><!-- --><!-- --> </div>\n",
       "<!-- --> <span class=\"t-14 t-normal t-black--light\">\n",
       "<span aria-hidden=\"true\" class=\"pvs-entity__caption-wrapper\"><!-- -->Nov 2021 - Present · 2 yrs 9 mos<!-- --></span><span class=\"visually-hidden\"><!-- -->Nov 2021 to Present · 2 yrs 9 mos<!-- --></span>\n",
       "</span>\n",
       "<span class=\"t-14 t-normal t-black--light\">\n",
       "<span aria-hidden=\"true\"><!-- -->South Africa<!-- --></span><span class=\"visually-hidden\"><!-- -->South Africa<!-- --></span>\n",
       "</span>\n",
       "</a>\n",
       "<!-- -->\n",
       "<!-- -->\n",
       "</div>\n",
       "<!-- --> </div>\n",
       "</div>\n",
       "</div>\n",
       "</li>"
      ]
     },
     "execution_count": 30,
     "metadata": {},
     "output_type": "execute_result"
    }
   ],
   "source": [
    "items[1]"
   ]
  },
  {
   "cell_type": "code",
   "execution_count": null,
   "id": "f34e58db-8bf9-4e03-bab1-bd83b0aef090",
   "metadata": {},
   "outputs": [],
   "source": [
    "{\n",
    "    'company': \"FNB South Africa\",\n",
    "    'employment_type': \"Full-time\",\n",
    "    \"roles\": [\n",
    "        {'name':'Data Engineer' , 'from': 'Nov 2022', 'to': 'Present'}\n",
    "    ]\n",
    "\n",
    "}"
   ]
  },
  {
   "cell_type": "code",
   "execution_count": 39,
   "id": "5be3a1ea-dc47-4491-aa6b-d9de7bbf431f",
   "metadata": {},
   "outputs": [],
   "source": [
    "profile_urls = [url.split('?')[0] for url in profile_urls]"
   ]
  },
  {
   "cell_type": "code",
   "execution_count": 59,
   "id": "293ca96c-2c81-47c8-b4e9-fe27a3f43da2",
   "metadata": {},
   "outputs": [],
   "source": [
    "driver.get(f\"{profile_urls[0]}/details/skills/\")"
   ]
  },
  {
   "cell_type": "code",
   "execution_count": 60,
   "id": "e3206d8b-aa70-4f68-bfc0-9c54c0735c18",
   "metadata": {},
   "outputs": [
    {
     "name": "stdout",
     "output_type": "stream",
     "text": [
      "<div aria-labelledby=\"ember206\" class=\"artdeco-tabpanel active ember-view\" id=\"ember211\" role=\"tabpanel\" tabindex=\"0\">\n",
      " <div class=\"sjoTiQXsIrHRaOZVCcNpsUnpmNfFurXkMeiWaq\">\n",
      "  <!-- -->\n",
      "  <ul class=\"xiDmfLWqcHAcVUVmKmTdTsLRIMszMNQbKJXE ph5 display-flex flex-row flex-wrap\">\n",
      "   <li class=\"artdeco-list__item aBSSLnlilONmmhQJzhalIKzDXmbhVZFAcr pvs-list__item--two-column\">\n",
      "    <!-- -->\n",
      "    <div class=\"BMQQbQbgIDIXbuCJMEYkpUriexATDoZLBuVSA GLFwElfnlDhiKmeTGjzYNFKspIMtjYgQtk KluEZLkYInIgxIdbcSXvRCIGRczabULoAw\" data-view-name=\"profile-component-entity\">\n",
      "     <div>\n",
      "      <a class=\"optional-action-target-wrapper display-flex\" data-field=\"active_tab_influencers_interests\" href=\"https://www.linkedin.com/in/lizryan\" target=\"_self\">\n",
      "       <div class=\"ivm-image-view-model pvs-entity__image\">\n",
      "        <div class=\"ivm-view-attr__img-wrapper\">\n",
      "         <!-- -->\n",
      "         <!-- -->\n",
      "         <img alt=\"Liz Ryan profile picture\" class=\"ivm-view-attr__img--centered EntityPhoto-circle-3 evi-image lazy-image ember-view\" height=\"48\" id=\"ember212\" loading=\"lazy\" src=\"https://media.licdn.com/dms/image/D4E03AQG4-C-Dr5bF6A/profile-displayphoto-shrink_100_100/0/1718269583312?e=1725494400&amp;v=beta&amp;t=J71jy3szEc5liVjKFsmX1Q5IPWn9TnIa2ECUsOvvj3E\" width=\"48\"/>\n",
      "        </div>\n",
      "       </div>\n",
      "      </a>\n",
      "     </div>\n",
      "     <div class=\"display-flex flex-column full-width align-self-center\">\n",
      "      <div class=\"display-flex flex-row justify-space-between\">\n",
      "       <a class=\"optional-action-target-wrapper display-flex flex-column full-width\" data-field=\"active_tab_influencers_interests\" href=\"https://www.linkedin.com/in/lizryan\" target=\"_self\">\n",
      "        <div class=\"display-flex flex-wrap align-items-center full-height\">\n",
      "         <div class=\"display-flex\">\n",
      "          <div class=\"display-flex full-width\">\n",
      "           <div class=\"display-flex align-items-center mr1 hoverable-link-text t-bold\">\n",
      "            <span aria-hidden=\"true\">\n",
      "             <!-- -->\n",
      "             Liz Ryan\n",
      "             <!-- -->\n",
      "            </span>\n",
      "            <span class=\"visually-hidden\">\n",
      "             <!-- -->\n",
      "             Liz Ryan\n",
      "             <!-- -->\n",
      "            </span>\n",
      "           </div>\n",
      "          </div>\n",
      "         </div>\n",
      "         <!-- -->\n",
      "         <div class=\"ivm-image-view-model mr1\">\n",
      "          <div class=\"ivm-view-attr__img-wrapper\">\n",
      "           <!-- -->\n",
      "           <li-icon aria-hidden=\"true\" class=\"ivm-view-attr__icon\" size=\"small\" type=\"linkedin-bug-influencer-color\">\n",
      "            <svg class=\"mercado-match\" data-supported-dps=\"16x16\" focusable=\"false\" height=\"16\" viewbox=\"0 0 16 16\" width=\"16\" xmlns=\"http://www.w3.org/2000/svg\">\n",
      "             <path d=\"M14 0H2a1 1 0 00-1 1v15l3-2h10a1 1 0 001-1V1a1 1 0 00-1-1zM5 12H3V5h2zM4 4.2A1.27 1.27 0 012.75 3a1.25 1.25 0 012.5 0A1.27 1.27 0 014 4.2zm9 7.8h-2V8.73c0-.79-.18-1.93-1.34-1.93A1.74 1.74 0 008 8.61V12H6V5h1.85v1a2.72 2.72 0 012.29-1.2C12.27 4.8 13 6.09 13 8.29z\" fill=\"#0a66c2\">\n",
      "             </path>\n",
      "            </svg>\n",
      "           </li-icon>\n",
      "          </div>\n",
      "         </div>\n",
      "         <span class=\"pvs-entity__supplementary-info t-14 t-black--light t-normal mr1\">\n",
      "          <span aria-hidden=\"true\">\n",
      "           <!-- -->\n",
      "           · 3rd\n",
      "           <!-- -->\n",
      "          </span>\n",
      "          <span class=\"visually-hidden\">\n",
      "           <!-- -->\n",
      "           Third degree connection\n",
      "           <!-- -->\n",
      "          </span>\n",
      "         </span>\n",
      "        </div>\n",
      "        <span class=\"t-14 t-normal\">\n",
      "         <span aria-hidden=\"true\">\n",
      "          <!-- -->\n",
      "          Coach and creator. CEO and Founder, Human Workplace. Author, Reinvention Roadmap; Red-Blooded HR; and Righteous Recruiting. LinkedIn Top Voice.\n",
      "          <!-- -->\n",
      "         </span>\n",
      "         <span class=\"visually-hidden\">\n",
      "          <!-- -->\n",
      "          Coach and creator. CEO and Founder, Human Workplace. Author, Reinvention Roadmap; Red-Blooded HR; and Righteous Recruiting. LinkedIn Top Voice.\n",
      "          <!-- -->\n",
      "         </span>\n",
      "        </span>\n",
      "        <span class=\"t-14 t-normal t-black--light\">\n",
      "         <span aria-hidden=\"true\" class=\"pvs-entity__caption-wrapper\">\n",
      "          <!-- -->\n",
      "          2,986,945 followers\n",
      "          <!-- -->\n",
      "         </span>\n",
      "         <span class=\"visually-hidden\">\n",
      "          <!-- -->\n",
      "          2,986,945 followers\n",
      "          <!-- -->\n",
      "         </span>\n",
      "        </span>\n",
      "        <!-- -->\n",
      "       </a>\n",
      "       <!-- -->\n",
      "       <!-- -->\n",
      "      </div>\n",
      "      <div class=\"sjoTiQXsIrHRaOZVCcNpsUnpmNfFurXkMeiWaq pvs-entity__sub-components\">\n",
      "       <!-- -->\n",
      "       <ul class=\"xiDmfLWqcHAcVUVmKmTdTsLRIMszMNQbKJXE\">\n",
      "        <li class=\"tEmkttfKvgARHKNssbGuXzOxfnlBnrRXuybMM\">\n",
      "         <div class=\"pv-action__padding\">\n",
      "          <button aria-label=\"Follow Liz Ryan\" class=\"artdeco-button artdeco-button--muted artdeco-button--2 artdeco-button--secondary ember-view\" id=\"ember213\" type=\"button\">\n",
      "           <svg aria-hidden=\"true\" class=\"artdeco-button__icon\" data-supported-dps=\"16x16\" data-test-icon=\"add-small\" height=\"16\" role=\"none\" viewbox=\"0 0 16 16\" width=\"16\" xmlns=\"http://www.w3.org/2000/svg\">\n",
      "            <!-- -->\n",
      "            <use height=\"16\" href=\"#add-small\" width=\"16\">\n",
      "            </use>\n",
      "           </svg>\n",
      "           <span class=\"artdeco-button__text\">\n",
      "            Follow\n",
      "           </span>\n",
      "          </button>\n",
      "          <!-- -->\n",
      "          <!-- -->\n",
      "         </div>\n",
      "        </li>\n",
      "       </ul>\n",
      "       <!-- -->\n",
      "      </div>\n",
      "     </div>\n",
      "    </div>\n",
      "   </li>\n",
      "   <li class=\"artdeco-list__item aBSSLnlilONmmhQJzhalIKzDXmbhVZFAcr pvs-list__item--two-column\">\n",
      "    <!-- -->\n",
      "    <div class=\"BMQQbQbgIDIXbuCJMEYkpUriexATDoZLBuVSA GLFwElfnlDhiKmeTGjzYNFKspIMtjYgQtk KluEZLkYInIgxIdbcSXvRCIGRczabULoAw\" data-view-name=\"profile-component-entity\">\n",
      "     <div>\n",
      "      <a class=\"optional-action-target-wrapper display-flex\" data-field=\"active_tab_influencers_interests\" href=\"https://www.linkedin.com/in/mamokgethiphakeng\" target=\"_self\">\n",
      "       <div class=\"ivm-image-view-model pvs-entity__image\">\n",
      "        <div class=\"ivm-view-attr__img-wrapper\">\n",
      "         <!-- -->\n",
      "         <!-- -->\n",
      "         <img alt=\"Mamokgethi Phakeng profile picture\" class=\"ivm-view-attr__img--centered EntityPhoto-circle-3 evi-image lazy-image ember-view\" height=\"48\" id=\"ember214\" loading=\"lazy\" src=\"https://media.licdn.com/dms/image/D4D03AQGoxRl9T0qLGg/profile-displayphoto-shrink_100_100/0/1697102731304?e=1725494400&amp;v=beta&amp;t=MkGygkZoZFpS8loV4zWQz5WO_8Rz183y5IUlEJzppBs\" width=\"48\"/>\n",
      "        </div>\n",
      "       </div>\n",
      "      </a>\n",
      "     </div>\n",
      "     <div class=\"display-flex flex-column full-width align-self-center\">\n",
      "      <div class=\"display-flex flex-row justify-space-between\">\n",
      "       <a class=\"optional-action-target-wrapper display-flex flex-column full-width\" data-field=\"active_tab_influencers_interests\" href=\"https://www.linkedin.com/in/mamokgethiphakeng\" target=\"_self\">\n",
      "        <div class=\"display-flex flex-wrap align-items-center full-height\">\n",
      "         <div class=\"display-flex\">\n",
      "          <div class=\"display-flex full-width\">\n",
      "           <div class=\"display-flex align-items-center mr1 hoverable-link-text t-bold\">\n",
      "            <span aria-hidden=\"true\">\n",
      "             <!-- -->\n",
      "             Mamokgethi Phakeng\n",
      "             <!-- -->\n",
      "            </span>\n",
      "            <span class=\"visually-hidden\">\n",
      "             <!-- -->\n",
      "             Mamokgethi Phakeng\n",
      "             <!-- -->\n",
      "            </span>\n",
      "           </div>\n",
      "          </div>\n",
      "         </div>\n",
      "         <!-- -->\n",
      "         <div class=\"ivm-image-view-model mr1\">\n",
      "          <div class=\"ivm-view-attr__img-wrapper\">\n",
      "           <!-- -->\n",
      "           <li-icon aria-hidden=\"true\" class=\"ivm-view-attr__icon\" size=\"small\" type=\"linkedin-bug-influencer-color\">\n",
      "            <svg class=\"mercado-match\" data-supported-dps=\"16x16\" focusable=\"false\" height=\"16\" viewbox=\"0 0 16 16\" width=\"16\" xmlns=\"http://www.w3.org/2000/svg\">\n",
      "             <path d=\"M14 0H2a1 1 0 00-1 1v15l3-2h10a1 1 0 001-1V1a1 1 0 00-1-1zM5 12H3V5h2zM4 4.2A1.27 1.27 0 012.75 3a1.25 1.25 0 012.5 0A1.27 1.27 0 014 4.2zm9 7.8h-2V8.73c0-.79-.18-1.93-1.34-1.93A1.74 1.74 0 008 8.61V12H6V5h1.85v1a2.72 2.72 0 012.29-1.2C12.27 4.8 13 6.09 13 8.29z\" fill=\"#0a66c2\">\n",
      "             </path>\n",
      "            </svg>\n",
      "           </li-icon>\n",
      "          </div>\n",
      "         </div>\n",
      "         <span class=\"pvs-entity__supplementary-info t-14 t-black--light t-normal mr1\">\n",
      "          <span aria-hidden=\"true\">\n",
      "           <!-- -->\n",
      "           · 2nd\n",
      "           <!-- -->\n",
      "          </span>\n",
      "          <span class=\"visually-hidden\">\n",
      "           <!-- -->\n",
      "           Second degree connection\n",
      "           <!-- -->\n",
      "          </span>\n",
      "         </span>\n",
      "        </div>\n",
      "        <span class=\"t-14 t-normal\">\n",
      "         <span aria-hidden=\"true\">\n",
      "          <!-- -->\n",
      "          Businesswoman &amp; Tenth Vice-Chancellor of the University of Cape Town\n",
      "          <!-- -->\n",
      "         </span>\n",
      "         <span class=\"visually-hidden\">\n",
      "          <!-- -->\n",
      "          Businesswoman &amp; Tenth Vice-Chancellor of the University of Cape Town\n",
      "          <!-- -->\n",
      "         </span>\n",
      "        </span>\n",
      "        <span class=\"t-14 t-normal t-black--light\">\n",
      "         <span aria-hidden=\"true\" class=\"pvs-entity__caption-wrapper\">\n",
      "          <!-- -->\n",
      "          284,808 followers\n",
      "          <!-- -->\n",
      "         </span>\n",
      "         <span class=\"visually-hidden\">\n",
      "          <!-- -->\n",
      "          284,808 followers\n",
      "          <!-- -->\n",
      "         </span>\n",
      "        </span>\n",
      "        <!-- -->\n",
      "       </a>\n",
      "       <!-- -->\n",
      "       <!-- -->\n",
      "      </div>\n",
      "      <div class=\"sjoTiQXsIrHRaOZVCcNpsUnpmNfFurXkMeiWaq pvs-entity__sub-components\">\n",
      "       <!-- -->\n",
      "       <ul class=\"xiDmfLWqcHAcVUVmKmTdTsLRIMszMNQbKJXE\">\n",
      "        <li class=\"tEmkttfKvgARHKNssbGuXzOxfnlBnrRXuybMM\">\n",
      "         <div class=\"pv-action__padding\">\n",
      "          <button aria-label=\"Follow Mamokgethi Phakeng\" class=\"artdeco-button artdeco-button--muted artdeco-button--2 artdeco-button--secondary ember-view\" id=\"ember215\" type=\"button\">\n",
      "           <svg aria-hidden=\"true\" class=\"artdeco-button__icon\" data-supported-dps=\"16x16\" data-test-icon=\"add-small\" height=\"16\" role=\"none\" viewbox=\"0 0 16 16\" width=\"16\" xmlns=\"http://www.w3.org/2000/svg\">\n",
      "            <!-- -->\n",
      "            <use height=\"16\" href=\"#add-small\" width=\"16\">\n",
      "            </use>\n",
      "           </svg>\n",
      "           <span class=\"artdeco-button__text\">\n",
      "            Follow\n",
      "           </span>\n",
      "          </button>\n",
      "          <!-- -->\n",
      "          <!-- -->\n",
      "         </div>\n",
      "        </li>\n",
      "       </ul>\n",
      "       <!-- -->\n",
      "      </div>\n",
      "     </div>\n",
      "    </div>\n",
      "   </li>\n",
      "  </ul>\n",
      "  <div class=\"pvs-list__footer-wrapper\">\n",
      "   <div class=\"\">\n",
      "    <div>\n",
      "     <a aria-hidden=\"false\" class=\"optional-action-target-wrapper artdeco-button artdeco-button--tertiary artdeco-button--standard artdeco-button--2 artdeco-button--muted inline-flex justify-center full-width align-items-center artdeco-button--fluid\" href=\"https://www.linkedin.com/in/raymond-lihaiwa-0a776056/details/interests?profileUrn=urn%3Ali%3Afsd_profile%3AACoAAAvbmn8BgkeRRgd4-urnYm8lHXSlpr-LujQ&amp;tabIndex=0&amp;detailScreenTabIndex=0\" id=\"navigation-index-see-all-influencers\" target=\"_self\">\n",
      "      <!-- -->\n",
      "      <span class=\"pvs-navigation__text\">\n",
      "       Show all Top Voices\n",
      "      </span>\n",
      "      <div class=\"pvs-navigation__icon\">\n",
      "       <svg aria-hidden=\"true\" class=\"rtl-flip\" data-supported-dps=\"16x16\" data-test-icon=\"arrow-right-small\" height=\"16\" role=\"none\" viewbox=\"0 0 16 16\" width=\"16\" xmlns=\"http://www.w3.org/2000/svg\">\n",
      "        <!-- -->\n",
      "        <use height=\"16\" href=\"#arrow-right-small\" width=\"16\">\n",
      "        </use>\n",
      "       </svg>\n",
      "      </div>\n",
      "     </a>\n",
      "    </div>\n",
      "   </div>\n",
      "  </div>\n",
      " </div>\n",
      "</div>\n",
      "\n"
     ]
    }
   ],
   "source": [
    "def get_skills():\n",
    "    skills_soup = BeautifulSoup(driver.page_source, 'html.parser')\n",
    "    skills = []\n",
    "    div = experience_soup.find('div', {'class': 'artdeco-tabpanel active ember-view'})\n",
    "    print(div.prettify())\n",
    "    for skill in div.find_all('li', {'class': 'pvs-list__paged-list-item'}):\n",
    "        print(skill)\n",
    "        print(skill.prettify()); break\n",
    "\n",
    "get_skills()"
   ]
  },
  {
   "cell_type": "code",
   "execution_count": null,
   "id": "931cd15d-a2cd-4558-8a58-8ab72397a4cf",
   "metadata": {},
   "outputs": [],
   "source": []
  }
 ],
 "metadata": {
  "kernelspec": {
   "display_name": "Python 3 (ipykernel)",
   "language": "python",
   "name": "python3"
  },
  "language_info": {
   "codemirror_mode": {
    "name": "ipython",
    "version": 3
   },
   "file_extension": ".py",
   "mimetype": "text/x-python",
   "name": "python",
   "nbconvert_exporter": "python",
   "pygments_lexer": "ipython3",
   "version": "3.11.7"
  }
 },
 "nbformat": 4,
 "nbformat_minor": 5
}
